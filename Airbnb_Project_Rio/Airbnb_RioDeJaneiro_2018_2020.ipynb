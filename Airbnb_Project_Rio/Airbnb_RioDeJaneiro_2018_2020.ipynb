{
 "cells": [
  {
   "cell_type": "markdown",
   "id": "e022ff29",
   "metadata": {},
   "source": [
    "### Guidelines\n",
    "\n",
    "\n",
    "The outcome of the notebook is to be able to determine the price of the Airbnb based on specifications. Also, to compare wether the price that is being asked for the Airbnb is a fair price or it's high.\n",
    "\n",
    "This will be a complete end to end project that will walk through all the steps necessary with explanation along the way so whoever will be looking will understand why something happened and why I decided to take some steps.\n",
    "\n",
    "\n",
    "By the end of it I will implement this to another project for more recent year and time here on Canada so I can use my own model to help me identify places on Airbnb that are both above the average price for it's specifications and for the ones that are lower helping me choosing destinations to go.\n",
    "\n",
    "As known Airbnb is a platform where you can rent room or even an entire house to spend few days by yourself, family or friends while doing a vacation or simple weekend trip. As a recent arrive in Canada I have no understanding if prices are above or bellow what it should be it's normal so this model will help me make my decisions in the near future. \n",
    "\n",
    "The values that are going to be used to develop this model and notebook are Airbnb datasets from 2018-2020 from Rio de Janeiro - Brazil\n",
    "\n",
    "### Hypothesis\n",
    "\n",
    "- I do believe that period of time will decide if a price goes up or high, as example summer and winter.\n",
    "\n",
    "- The location if it's really close by some turistic atraction or even metro, accessibility will determine the price\n",
    "\n",
    "- Identifying what are the commodities that make the price go up by itself\n",
    "\n",
    "\n",
    "Link para pegar o dataset no kaggle: \n"
   ]
  },
  {
   "cell_type": "markdown",
   "id": "d1899747",
   "metadata": {},
   "source": [
    "Will be creating a dictionary with the months of the year, since when compiling everything to a unique dataframe the months got lost, this way it will be easier to identify patterns thorugh the months"
   ]
  },
  {
   "cell_type": "code",
   "execution_count": 1,
   "id": "8ab901a7",
   "metadata": {
    "scrolled": false
   },
   "outputs": [
    {
     "name": "stderr",
     "output_type": "stream",
     "text": [
      "C:\\Users\\dnek\\anaconda3\\lib\\site-packages\\numpy\\_distributor_init.py:30: UserWarning: loaded more than 1 DLL from .libs:\n",
      "C:\\Users\\dnek\\anaconda3\\lib\\site-packages\\numpy\\.libs\\libopenblas.EL2C6PLE4ZYW3ECEVIV3OXXGRN2NRFM2.gfortran-win_amd64.dll\n",
      "C:\\Users\\dnek\\anaconda3\\lib\\site-packages\\numpy\\.libs\\libopenblas.WCDJNK7YVMPZQ2ME2ZZHJJRJ3JIKNDB7.gfortran-win_amd64.dll\n",
      "  warnings.warn(\"loaded more than 1 DLL from .libs:\"\n"
     ]
    },
    {
     "data": {
      "text/html": [
       "<div>\n",
       "<style scoped>\n",
       "    .dataframe tbody tr th:only-of-type {\n",
       "        vertical-align: middle;\n",
       "    }\n",
       "\n",
       "    .dataframe tbody tr th {\n",
       "        vertical-align: top;\n",
       "    }\n",
       "\n",
       "    .dataframe thead th {\n",
       "        text-align: right;\n",
       "    }\n",
       "</style>\n",
       "<table border=\"1\" class=\"dataframe\">\n",
       "  <thead>\n",
       "    <tr style=\"text-align: right;\">\n",
       "      <th></th>\n",
       "      <th>id</th>\n",
       "      <th>listing_url</th>\n",
       "      <th>scrape_id</th>\n",
       "      <th>last_scraped</th>\n",
       "      <th>name</th>\n",
       "      <th>summary</th>\n",
       "      <th>space</th>\n",
       "      <th>description</th>\n",
       "      <th>experiences_offered</th>\n",
       "      <th>neighborhood_overview</th>\n",
       "      <th>...</th>\n",
       "      <th>minimum_minimum_nights</th>\n",
       "      <th>maximum_minimum_nights</th>\n",
       "      <th>minimum_maximum_nights</th>\n",
       "      <th>maximum_maximum_nights</th>\n",
       "      <th>minimum_nights_avg_ntm</th>\n",
       "      <th>maximum_nights_avg_ntm</th>\n",
       "      <th>number_of_reviews_ltm</th>\n",
       "      <th>calculated_host_listings_count_entire_homes</th>\n",
       "      <th>calculated_host_listings_count_private_rooms</th>\n",
       "      <th>calculated_host_listings_count_shared_rooms</th>\n",
       "    </tr>\n",
       "  </thead>\n",
       "  <tbody>\n",
       "    <tr>\n",
       "      <th>0</th>\n",
       "      <td>14063</td>\n",
       "      <td>https://www.airbnb.com/rooms/14063</td>\n",
       "      <td>20180414160018</td>\n",
       "      <td>2018-04-14</td>\n",
       "      <td>Living in a Postcard</td>\n",
       "      <td>Besides the most iconic's view, our apartment ...</td>\n",
       "      <td>NaN</td>\n",
       "      <td>Besides the most iconic's view, our apartment ...</td>\n",
       "      <td>none</td>\n",
       "      <td>Best and favorite neighborhood of Rio. Perfect...</td>\n",
       "      <td>...</td>\n",
       "      <td>NaN</td>\n",
       "      <td>NaN</td>\n",
       "      <td>NaN</td>\n",
       "      <td>NaN</td>\n",
       "      <td>NaN</td>\n",
       "      <td>NaN</td>\n",
       "      <td>NaN</td>\n",
       "      <td>NaN</td>\n",
       "      <td>NaN</td>\n",
       "      <td>NaN</td>\n",
       "    </tr>\n",
       "    <tr>\n",
       "      <th>1</th>\n",
       "      <td>17878</td>\n",
       "      <td>https://www.airbnb.com/rooms/17878</td>\n",
       "      <td>20180414160018</td>\n",
       "      <td>2018-04-14</td>\n",
       "      <td>Very Nice 2Br - Copacabana - WiFi</td>\n",
       "      <td>Please note that special rates apply for New Y...</td>\n",
       "      <td>- large balcony which looks out on pedestrian ...</td>\n",
       "      <td>Please note that special rates apply for New Y...</td>\n",
       "      <td>none</td>\n",
       "      <td>This is the best spot in Rio. Everything happe...</td>\n",
       "      <td>...</td>\n",
       "      <td>NaN</td>\n",
       "      <td>NaN</td>\n",
       "      <td>NaN</td>\n",
       "      <td>NaN</td>\n",
       "      <td>NaN</td>\n",
       "      <td>NaN</td>\n",
       "      <td>NaN</td>\n",
       "      <td>NaN</td>\n",
       "      <td>NaN</td>\n",
       "      <td>NaN</td>\n",
       "    </tr>\n",
       "    <tr>\n",
       "      <th>2</th>\n",
       "      <td>24480</td>\n",
       "      <td>https://www.airbnb.com/rooms/24480</td>\n",
       "      <td>20180414160018</td>\n",
       "      <td>2018-04-14</td>\n",
       "      <td>Nice and cozy near Ipanema Beach</td>\n",
       "      <td>My studio is located in the best  of Ipanema. ...</td>\n",
       "      <td>The studio is located at Vinicius de Moraes St...</td>\n",
       "      <td>My studio is located in the best  of Ipanema. ...</td>\n",
       "      <td>none</td>\n",
       "      <td>The beach, the lagoon, Ipanema is a great loca...</td>\n",
       "      <td>...</td>\n",
       "      <td>NaN</td>\n",
       "      <td>NaN</td>\n",
       "      <td>NaN</td>\n",
       "      <td>NaN</td>\n",
       "      <td>NaN</td>\n",
       "      <td>NaN</td>\n",
       "      <td>NaN</td>\n",
       "      <td>NaN</td>\n",
       "      <td>NaN</td>\n",
       "      <td>NaN</td>\n",
       "    </tr>\n",
       "    <tr>\n",
       "      <th>3</th>\n",
       "      <td>25026</td>\n",
       "      <td>https://www.airbnb.com/rooms/25026</td>\n",
       "      <td>20180414160018</td>\n",
       "      <td>2018-04-14</td>\n",
       "      <td>Beautiful Modern Decorated Studio in Copa</td>\n",
       "      <td>Our apartment is a little gem, everyone loves ...</td>\n",
       "      <td>This newly renovated studio (last renovations ...</td>\n",
       "      <td>Our apartment is a little gem, everyone loves ...</td>\n",
       "      <td>none</td>\n",
       "      <td>Copacabana is a lively neighborhood and the ap...</td>\n",
       "      <td>...</td>\n",
       "      <td>NaN</td>\n",
       "      <td>NaN</td>\n",
       "      <td>NaN</td>\n",
       "      <td>NaN</td>\n",
       "      <td>NaN</td>\n",
       "      <td>NaN</td>\n",
       "      <td>NaN</td>\n",
       "      <td>NaN</td>\n",
       "      <td>NaN</td>\n",
       "      <td>NaN</td>\n",
       "    </tr>\n",
       "    <tr>\n",
       "      <th>4</th>\n",
       "      <td>31560</td>\n",
       "      <td>https://www.airbnb.com/rooms/31560</td>\n",
       "      <td>20180414160018</td>\n",
       "      <td>2018-04-14</td>\n",
       "      <td>NICE &amp; COZY 1BDR - IPANEMA BEACH</td>\n",
       "      <td>This nice and clean 1 bedroom apartment is loc...</td>\n",
       "      <td>This nice and clean 1 bedroom apartment is loc...</td>\n",
       "      <td>This nice and clean 1 bedroom apartment is loc...</td>\n",
       "      <td>none</td>\n",
       "      <td>Die Nachbarschaft von Ipanema ist super lebend...</td>\n",
       "      <td>...</td>\n",
       "      <td>NaN</td>\n",
       "      <td>NaN</td>\n",
       "      <td>NaN</td>\n",
       "      <td>NaN</td>\n",
       "      <td>NaN</td>\n",
       "      <td>NaN</td>\n",
       "      <td>NaN</td>\n",
       "      <td>NaN</td>\n",
       "      <td>NaN</td>\n",
       "      <td>NaN</td>\n",
       "    </tr>\n",
       "    <tr>\n",
       "      <th>...</th>\n",
       "      <td>...</td>\n",
       "      <td>...</td>\n",
       "      <td>...</td>\n",
       "      <td>...</td>\n",
       "      <td>...</td>\n",
       "      <td>...</td>\n",
       "      <td>...</td>\n",
       "      <td>...</td>\n",
       "      <td>...</td>\n",
       "      <td>...</td>\n",
       "      <td>...</td>\n",
       "      <td>...</td>\n",
       "      <td>...</td>\n",
       "      <td>...</td>\n",
       "      <td>...</td>\n",
       "      <td>...</td>\n",
       "      <td>...</td>\n",
       "      <td>...</td>\n",
       "      <td>...</td>\n",
       "      <td>...</td>\n",
       "      <td>...</td>\n",
       "    </tr>\n",
       "    <tr>\n",
       "      <th>34324</th>\n",
       "      <td>38844730</td>\n",
       "      <td>https://www.airbnb.com/rooms/38844730</td>\n",
       "      <td>20190923212307</td>\n",
       "      <td>2019-09-24</td>\n",
       "      <td>TRANSAMERICA BARRA DA TIJUCA R IV</td>\n",
       "      <td>Em estilo contemporâneo, o Transamerica Prime ...</td>\n",
       "      <td>NaN</td>\n",
       "      <td>Em estilo contemporâneo, o Transamerica Prime ...</td>\n",
       "      <td>none</td>\n",
       "      <td>NaN</td>\n",
       "      <td>...</td>\n",
       "      <td>1.0</td>\n",
       "      <td>1.0</td>\n",
       "      <td>1125.0</td>\n",
       "      <td>1125.0</td>\n",
       "      <td>1.0</td>\n",
       "      <td>1125.0</td>\n",
       "      <td>0.0</td>\n",
       "      <td>15.0</td>\n",
       "      <td>0.0</td>\n",
       "      <td>0.0</td>\n",
       "    </tr>\n",
       "    <tr>\n",
       "      <th>34325</th>\n",
       "      <td>38846408</td>\n",
       "      <td>https://www.airbnb.com/rooms/38846408</td>\n",
       "      <td>20190923212307</td>\n",
       "      <td>2019-09-24</td>\n",
       "      <td>Alugo para o Rock in Rio</td>\n",
       "      <td>Confortável apartamento, 2 quartos , sendo 1 s...</td>\n",
       "      <td>O apartamento estará com mobília completa disp...</td>\n",
       "      <td>Confortável apartamento, 2 quartos , sendo 1 s...</td>\n",
       "      <td>none</td>\n",
       "      <td>Muito próximo ao Parque Olímpico, local do eve...</td>\n",
       "      <td>...</td>\n",
       "      <td>2.0</td>\n",
       "      <td>2.0</td>\n",
       "      <td>1125.0</td>\n",
       "      <td>1125.0</td>\n",
       "      <td>2.0</td>\n",
       "      <td>1125.0</td>\n",
       "      <td>0.0</td>\n",
       "      <td>1.0</td>\n",
       "      <td>0.0</td>\n",
       "      <td>0.0</td>\n",
       "    </tr>\n",
       "    <tr>\n",
       "      <th>34326</th>\n",
       "      <td>38846703</td>\n",
       "      <td>https://www.airbnb.com/rooms/38846703</td>\n",
       "      <td>20190923212307</td>\n",
       "      <td>2019-09-24</td>\n",
       "      <td>Apt COMPLETO em COPACABANA c/TOTAL SEGURANÇA</td>\n",
       "      <td>Apartamento quarto e sala COMPLETO para curtas...</td>\n",
       "      <td>Espaço ideal para até 5 pessoas. Cama de casal...</td>\n",
       "      <td>Apartamento quarto e sala COMPLETO para curtas...</td>\n",
       "      <td>none</td>\n",
       "      <td>NaN</td>\n",
       "      <td>...</td>\n",
       "      <td>3.0</td>\n",
       "      <td>3.0</td>\n",
       "      <td>1125.0</td>\n",
       "      <td>1125.0</td>\n",
       "      <td>3.0</td>\n",
       "      <td>1125.0</td>\n",
       "      <td>0.0</td>\n",
       "      <td>23.0</td>\n",
       "      <td>6.0</td>\n",
       "      <td>0.0</td>\n",
       "    </tr>\n",
       "    <tr>\n",
       "      <th>34327</th>\n",
       "      <td>38847050</td>\n",
       "      <td>https://www.airbnb.com/rooms/38847050</td>\n",
       "      <td>20190923212307</td>\n",
       "      <td>2019-09-24</td>\n",
       "      <td>Cobertura Cinematografica</td>\n",
       "      <td>Cobertura alto nivel</td>\n",
       "      <td>NaN</td>\n",
       "      <td>Cobertura alto nivel</td>\n",
       "      <td>none</td>\n",
       "      <td>NaN</td>\n",
       "      <td>...</td>\n",
       "      <td>1.0</td>\n",
       "      <td>1.0</td>\n",
       "      <td>1125.0</td>\n",
       "      <td>1125.0</td>\n",
       "      <td>1.0</td>\n",
       "      <td>1125.0</td>\n",
       "      <td>0.0</td>\n",
       "      <td>1.0</td>\n",
       "      <td>0.0</td>\n",
       "      <td>0.0</td>\n",
       "    </tr>\n",
       "    <tr>\n",
       "      <th>34328</th>\n",
       "      <td>38847655</td>\n",
       "      <td>https://www.airbnb.com/rooms/38847655</td>\n",
       "      <td>20190923212307</td>\n",
       "      <td>2019-09-24</td>\n",
       "      <td>Quarto em cobertura em frente à praia III</td>\n",
       "      <td>Quarto em cobertura quadriplex com vista lindí...</td>\n",
       "      <td>NaN</td>\n",
       "      <td>Quarto em cobertura quadriplex com vista lindí...</td>\n",
       "      <td>none</td>\n",
       "      <td>NaN</td>\n",
       "      <td>...</td>\n",
       "      <td>1.0</td>\n",
       "      <td>1.0</td>\n",
       "      <td>30.0</td>\n",
       "      <td>30.0</td>\n",
       "      <td>1.0</td>\n",
       "      <td>30.0</td>\n",
       "      <td>0.0</td>\n",
       "      <td>0.0</td>\n",
       "      <td>4.0</td>\n",
       "      <td>0.0</td>\n",
       "    </tr>\n",
       "  </tbody>\n",
       "</table>\n",
       "<p>902210 rows × 108 columns</p>\n",
       "</div>"
      ],
      "text/plain": [
       "             id                            listing_url       scrape_id  \\\n",
       "0         14063     https://www.airbnb.com/rooms/14063  20180414160018   \n",
       "1         17878     https://www.airbnb.com/rooms/17878  20180414160018   \n",
       "2         24480     https://www.airbnb.com/rooms/24480  20180414160018   \n",
       "3         25026     https://www.airbnb.com/rooms/25026  20180414160018   \n",
       "4         31560     https://www.airbnb.com/rooms/31560  20180414160018   \n",
       "...         ...                                    ...             ...   \n",
       "34324  38844730  https://www.airbnb.com/rooms/38844730  20190923212307   \n",
       "34325  38846408  https://www.airbnb.com/rooms/38846408  20190923212307   \n",
       "34326  38846703  https://www.airbnb.com/rooms/38846703  20190923212307   \n",
       "34327  38847050  https://www.airbnb.com/rooms/38847050  20190923212307   \n",
       "34328  38847655  https://www.airbnb.com/rooms/38847655  20190923212307   \n",
       "\n",
       "      last_scraped                                          name  \\\n",
       "0       2018-04-14                          Living in a Postcard   \n",
       "1       2018-04-14             Very Nice 2Br - Copacabana - WiFi   \n",
       "2       2018-04-14              Nice and cozy near Ipanema Beach   \n",
       "3       2018-04-14     Beautiful Modern Decorated Studio in Copa   \n",
       "4       2018-04-14              NICE & COZY 1BDR - IPANEMA BEACH   \n",
       "...            ...                                           ...   \n",
       "34324   2019-09-24             TRANSAMERICA BARRA DA TIJUCA R IV   \n",
       "34325   2019-09-24                      Alugo para o Rock in Rio   \n",
       "34326   2019-09-24  Apt COMPLETO em COPACABANA c/TOTAL SEGURANÇA   \n",
       "34327   2019-09-24                     Cobertura Cinematografica   \n",
       "34328   2019-09-24     Quarto em cobertura em frente à praia III   \n",
       "\n",
       "                                                 summary  \\\n",
       "0      Besides the most iconic's view, our apartment ...   \n",
       "1      Please note that special rates apply for New Y...   \n",
       "2      My studio is located in the best  of Ipanema. ...   \n",
       "3      Our apartment is a little gem, everyone loves ...   \n",
       "4      This nice and clean 1 bedroom apartment is loc...   \n",
       "...                                                  ...   \n",
       "34324  Em estilo contemporâneo, o Transamerica Prime ...   \n",
       "34325  Confortável apartamento, 2 quartos , sendo 1 s...   \n",
       "34326  Apartamento quarto e sala COMPLETO para curtas...   \n",
       "34327                               Cobertura alto nivel   \n",
       "34328  Quarto em cobertura quadriplex com vista lindí...   \n",
       "\n",
       "                                                   space  \\\n",
       "0                                                    NaN   \n",
       "1      - large balcony which looks out on pedestrian ...   \n",
       "2      The studio is located at Vinicius de Moraes St...   \n",
       "3      This newly renovated studio (last renovations ...   \n",
       "4      This nice and clean 1 bedroom apartment is loc...   \n",
       "...                                                  ...   \n",
       "34324                                                NaN   \n",
       "34325  O apartamento estará com mobília completa disp...   \n",
       "34326  Espaço ideal para até 5 pessoas. Cama de casal...   \n",
       "34327                                                NaN   \n",
       "34328                                                NaN   \n",
       "\n",
       "                                             description experiences_offered  \\\n",
       "0      Besides the most iconic's view, our apartment ...                none   \n",
       "1      Please note that special rates apply for New Y...                none   \n",
       "2      My studio is located in the best  of Ipanema. ...                none   \n",
       "3      Our apartment is a little gem, everyone loves ...                none   \n",
       "4      This nice and clean 1 bedroom apartment is loc...                none   \n",
       "...                                                  ...                 ...   \n",
       "34324  Em estilo contemporâneo, o Transamerica Prime ...                none   \n",
       "34325  Confortável apartamento, 2 quartos , sendo 1 s...                none   \n",
       "34326  Apartamento quarto e sala COMPLETO para curtas...                none   \n",
       "34327                               Cobertura alto nivel                none   \n",
       "34328  Quarto em cobertura quadriplex com vista lindí...                none   \n",
       "\n",
       "                                   neighborhood_overview  ...  \\\n",
       "0      Best and favorite neighborhood of Rio. Perfect...  ...   \n",
       "1      This is the best spot in Rio. Everything happe...  ...   \n",
       "2      The beach, the lagoon, Ipanema is a great loca...  ...   \n",
       "3      Copacabana is a lively neighborhood and the ap...  ...   \n",
       "4      Die Nachbarschaft von Ipanema ist super lebend...  ...   \n",
       "...                                                  ...  ...   \n",
       "34324                                                NaN  ...   \n",
       "34325  Muito próximo ao Parque Olímpico, local do eve...  ...   \n",
       "34326                                                NaN  ...   \n",
       "34327                                                NaN  ...   \n",
       "34328                                                NaN  ...   \n",
       "\n",
       "      minimum_minimum_nights maximum_minimum_nights minimum_maximum_nights  \\\n",
       "0                        NaN                    NaN                    NaN   \n",
       "1                        NaN                    NaN                    NaN   \n",
       "2                        NaN                    NaN                    NaN   \n",
       "3                        NaN                    NaN                    NaN   \n",
       "4                        NaN                    NaN                    NaN   \n",
       "...                      ...                    ...                    ...   \n",
       "34324                    1.0                    1.0                 1125.0   \n",
       "34325                    2.0                    2.0                 1125.0   \n",
       "34326                    3.0                    3.0                 1125.0   \n",
       "34327                    1.0                    1.0                 1125.0   \n",
       "34328                    1.0                    1.0                   30.0   \n",
       "\n",
       "      maximum_maximum_nights minimum_nights_avg_ntm  maximum_nights_avg_ntm  \\\n",
       "0                        NaN                    NaN                     NaN   \n",
       "1                        NaN                    NaN                     NaN   \n",
       "2                        NaN                    NaN                     NaN   \n",
       "3                        NaN                    NaN                     NaN   \n",
       "4                        NaN                    NaN                     NaN   \n",
       "...                      ...                    ...                     ...   \n",
       "34324                 1125.0                    1.0                  1125.0   \n",
       "34325                 1125.0                    2.0                  1125.0   \n",
       "34326                 1125.0                    3.0                  1125.0   \n",
       "34327                 1125.0                    1.0                  1125.0   \n",
       "34328                   30.0                    1.0                    30.0   \n",
       "\n",
       "       number_of_reviews_ltm calculated_host_listings_count_entire_homes  \\\n",
       "0                        NaN                                         NaN   \n",
       "1                        NaN                                         NaN   \n",
       "2                        NaN                                         NaN   \n",
       "3                        NaN                                         NaN   \n",
       "4                        NaN                                         NaN   \n",
       "...                      ...                                         ...   \n",
       "34324                    0.0                                        15.0   \n",
       "34325                    0.0                                         1.0   \n",
       "34326                    0.0                                        23.0   \n",
       "34327                    0.0                                         1.0   \n",
       "34328                    0.0                                         0.0   \n",
       "\n",
       "       calculated_host_listings_count_private_rooms  \\\n",
       "0                                               NaN   \n",
       "1                                               NaN   \n",
       "2                                               NaN   \n",
       "3                                               NaN   \n",
       "4                                               NaN   \n",
       "...                                             ...   \n",
       "34324                                           0.0   \n",
       "34325                                           0.0   \n",
       "34326                                           6.0   \n",
       "34327                                           0.0   \n",
       "34328                                           4.0   \n",
       "\n",
       "       calculated_host_listings_count_shared_rooms  \n",
       "0                                              NaN  \n",
       "1                                              NaN  \n",
       "2                                              NaN  \n",
       "3                                              NaN  \n",
       "4                                              NaN  \n",
       "...                                            ...  \n",
       "34324                                          0.0  \n",
       "34325                                          0.0  \n",
       "34326                                          0.0  \n",
       "34327                                          0.0  \n",
       "34328                                          0.0  \n",
       "\n",
       "[902210 rows x 108 columns]"
      ]
     },
     "execution_count": 1,
     "metadata": {},
     "output_type": "execute_result"
    }
   ],
   "source": [
    "# Importing dataset\n",
    "import pandas as pd\n",
    "import pathlib\n",
    "import warnings\n",
    "warnings.filterwarnings(\"ignore\")\n",
    "\n",
    "months = {'jan':1,'fev':2,'mar':3,'abr':4,'mai':5,'jun':6,'jul':7,'ago':8,\n",
    "         'set':9,'out':10,'nov':11,'dez':12,}\n",
    "\n",
    "datasets = pathlib.Path('C:/Users/dnek/Desktop/GitHub_Datasets/Airbnb_Rio_dataset')\n",
    "df_airbnb = pd.DataFrame()\n",
    "\n",
    "for dataset in datasets.iterdir():\n",
    "    month_name = dataset.name[:3]\n",
    "    month = months[month_name]\n",
    "    year = dataset.name[-8:]\n",
    "    year = int(year.replace('.csv',''))\n",
    "    df = pd.read_csv(datasets / dataset.name)\n",
    "    df['year'] = year\n",
    "    df['month'] = month\n",
    "    df_airbnb = df_airbnb.append(df)\n",
    "    \n",
    "df_airbnb"
   ]
  },
  {
   "cell_type": "code",
   "execution_count": 2,
   "id": "fa3581af",
   "metadata": {},
   "outputs": [
    {
     "data": {
      "text/plain": [
       "id                                                int64\n",
       "listing_url                                      object\n",
       "scrape_id                                         int64\n",
       "last_scraped                                     object\n",
       "name                                             object\n",
       "                                                 ...   \n",
       "maximum_nights_avg_ntm                          float64\n",
       "number_of_reviews_ltm                           float64\n",
       "calculated_host_listings_count_entire_homes     float64\n",
       "calculated_host_listings_count_private_rooms    float64\n",
       "calculated_host_listings_count_shared_rooms     float64\n",
       "Length: 108, dtype: object"
      ]
     },
     "execution_count": 2,
     "metadata": {},
     "output_type": "execute_result"
    }
   ],
   "source": [
    "df_airbnb.dtypes"
   ]
  },
  {
   "cell_type": "code",
   "execution_count": 3,
   "id": "66d79476",
   "metadata": {},
   "outputs": [
    {
     "name": "stdout",
     "output_type": "stream",
     "text": [
      "['id', 'listing_url', 'scrape_id', 'last_scraped', 'name', 'summary', 'space', 'description', 'experiences_offered', 'neighborhood_overview', 'notes', 'transit', 'access', 'interaction', 'house_rules', 'thumbnail_url', 'medium_url', 'picture_url', 'xl_picture_url', 'host_id', 'host_url', 'host_name', 'host_since', 'host_location', 'host_about', 'host_response_time', 'host_response_rate', 'host_acceptance_rate', 'host_is_superhost', 'host_thumbnail_url', 'host_picture_url', 'host_neighbourhood', 'host_listings_count', 'host_total_listings_count', 'host_verifications', 'host_has_profile_pic', 'host_identity_verified', 'street', 'neighbourhood', 'neighbourhood_cleansed', 'neighbourhood_group_cleansed', 'city', 'state', 'zipcode', 'market', 'smart_location', 'country_code', 'country', 'latitude', 'longitude', 'is_location_exact', 'property_type', 'room_type', 'accommodates', 'bathrooms', 'bedrooms', 'beds', 'bed_type', 'amenities', 'square_feet', 'price', 'weekly_price', 'monthly_price', 'security_deposit', 'cleaning_fee', 'guests_included', 'extra_people', 'minimum_nights', 'maximum_nights', 'calendar_updated', 'has_availability', 'availability_30', 'availability_60', 'availability_90', 'availability_365', 'calendar_last_scraped', 'number_of_reviews', 'first_review', 'last_review', 'review_scores_rating', 'review_scores_accuracy', 'review_scores_cleanliness', 'review_scores_checkin', 'review_scores_communication', 'review_scores_location', 'review_scores_value', 'requires_license', 'license', 'jurisdiction_names', 'instant_bookable', 'is_business_travel_ready', 'cancellation_policy', 'require_guest_profile_picture', 'require_guest_phone_verification', 'calculated_host_listings_count', 'reviews_per_month', 'year', 'month', 'minimum_minimum_nights', 'maximum_minimum_nights', 'minimum_maximum_nights', 'maximum_maximum_nights', 'minimum_nights_avg_ntm', 'maximum_nights_avg_ntm', 'number_of_reviews_ltm', 'calculated_host_listings_count_entire_homes', 'calculated_host_listings_count_private_rooms', 'calculated_host_listings_count_shared_rooms']\n"
     ]
    }
   ],
   "source": [
    "print(list(df_airbnb.columns))"
   ]
  },
  {
   "cell_type": "markdown",
   "id": "9c875643",
   "metadata": {},
   "source": [
    "- Starting the analysis at this point, there is too many rows and columsn, therefore the model can become really slow\n",
    "- By a quick look at the list of columns, there are some columns that can be removed for better performance\n",
    "- Will create a smaller csv file in order to perform some analysis and decide with more basis which column to remove"
   ]
  },
  {
   "cell_type": "code",
   "execution_count": 4,
   "id": "51846767",
   "metadata": {},
   "outputs": [],
   "source": [
    "# df_airbnb.head(2000).to_csv('records.csv')"
   ]
  },
  {
   "cell_type": "code",
   "execution_count": 5,
   "id": "25bbd47f",
   "metadata": {},
   "outputs": [
    {
     "name": "stdout",
     "output_type": "stream",
     "text": [
      "experiences_offered\n",
      "none                   902210\n",
      "dtype: int64\n"
     ]
    }
   ],
   "source": [
    "print(df_airbnb[['experiences_offered']].value_counts())"
   ]
  },
  {
   "cell_type": "code",
   "execution_count": 6,
   "id": "d85e6d5d",
   "metadata": {},
   "outputs": [
    {
     "name": "stdout",
     "output_type": "stream",
     "text": [
      "Empty values: 888162\n"
     ]
    }
   ],
   "source": [
    "print(\"Empty values:\",df_airbnb['square_feet'].isnull().sum())"
   ]
  },
  {
   "cell_type": "markdown",
   "id": "de98d321",
   "metadata": {},
   "source": [
    "Through the analysis of the new CSV file the following columns were removed based on criteria of being useful, repeating information:\n",
    "* id: There is no need of the ID column to make the model perform better predicting the price of Airbnb rental, it's a exclusive registration of the platform which will not impact on price.\n",
    "* listing_url: The url link of the property will also not help the model to perform better, it will only cause the model to be slower.\n",
    "* scrape_id, last_scraped: Also has 0 relevance towards the end goal of the prediction model.\n",
    "* name,summary,space,description: All removed due to not be relevant towards the end result, the model will not analyse free text\n",
    "* experiences_offered: full of empty values, no reason to use it during the model, as shown on print value above.\n",
    "* neighborhood_overview, notes, transit, access, interactio, house_rules, thumbnail_url, medium_url, picture_url, xl_picture_url, host_id, host_url, host_name, host_since, host_location, host_about, host_response_time, host_acceptance_rate, host_thumbnail_url, host_picture_url, host_total_listing_count, host_has_profile_pic, host_identity_verified\n",
    "* street, neighbourhood, neighbourhood_cleansed, neighbourhood_group_cleased, city, state, zipcode, market, smart_location, country_code, country, is_location_exact:  All address information but longitude and latitude which will give the same information, in this way will try to avoid the model to be bias towards the location.\n",
    "* square_feet: too many empty values, 800k compare to a dataset of 900k\n",
    "* weekly_price, monthly_price: since the model will try to predict the daily price those two columns will not be useful \n",
    "* calendar_updated, has_availability, availability_30, availability_60, availability_90, availability_365: the availability and calendar_updated will not impact on the price of the model\n",
    "* calendar_last_scraped: will not impact to determine the price\n",
    "* first_review, last_review: the date of the reviews will not impact the price\n",
    "* requires_license, license, jurisdiction: will not impact on the machine learning model\n",
    "* require_guest_profile_picture, require_guest_phone_verification, calculated_host_listings_count, reviews_per_month will not impact as well on the model\n",
    "\n",
    "\n",
    "\n",
    "Columns kept:\n",
    "* host_response_rate: the availability of the host to provide support can increase the price\n",
    "* host_is_superhost: being a super host can influenciate the price of it's rent\n",
    "* host_listings_count: amount of properties the host has listed on the platform, this might impact on the price\n",
    "* property_type: gives different options between what's being rented so this can influenciate the price\n",
    "* room_type: it gives the idea of the entire place or just a room, this can impact on the price\n",
    "* accommodates,bathroom,bedrooms,beds,bed_types: ranges from how many people it can accommodate, to rooms and beds for people to sleep, which all of these features will definetely impact on the price\n",
    "* amenities: what the house has to offer as cable, internet, all the perks involved.\n",
    "* price: this will definetely impact the model\n",
    "* security_deposit: this might influenciate the price of the rent, for example if needs a security deposit maybe the house is more expensive than one under the same conditions that does not\n",
    "* cleaning_fee: if there is a cleaning involved, maybe will impact the overall price of the rent\n",
    "* guests_included, extra_people: amount of people will impact over the rent price\n",
    "* minimum_nights, maximum_nights: the amount of time that is necessary to rent might impact the rent price, since a package of certain nights is needed or no longer than certain period\n",
    "* number_of_reviews: this might impact the rent price of the property\n",
    "* all reviews columns: they will be kept because there could be some hidden data that the model can find\n",
    "* instant_bookable, is_business_travel_ready"
   ]
  },
  {
   "cell_type": "code",
   "execution_count": 128,
   "id": "3047c031",
   "metadata": {},
   "outputs": [
    {
     "data": {
      "image/png": "[encoded data removed]",
      "text/plain": [
       "<Figure size 1080x720 with 2 Axes>"
      ]
     },
     "metadata": {
      "needs_background": "light"
     },
     "output_type": "display_data"
    }
   ],
   "source": [
    "import seaborn as sns\n",
    "import matplotlib.pyplot as plt\n",
    "correlation_matrix = df_airbnb.corr()\n",
    "fig, ax = plt.subplots(figsize=(15,10))\n",
    "ax = sns.heatmap(correlation_matrix, linewidths=0.5, annot=True,cmap=\"YlGnBu\");"
   ]
  },
  {
   "cell_type": "markdown",
   "id": "47b8dab2",
   "metadata": {},
   "source": [
    "By crossing the information from the qualitative analysis and the heatmap, we can visualize that most of the columns decided to be kept align which will provide a proper model. \n",
    "\n",
    "Bellow I will be creating a list with the columns to be kept and applying a filter to the whole dataset so only those most valuables are considered for the model"
   ]
  },
  {
   "cell_type": "code",
   "execution_count": 8,
   "id": "f7d0c248",
   "metadata": {},
   "outputs": [],
   "source": [
    "columns = ['host_response_time','host_response_rate','host_is_superhost','host_listings_count','latitude','longitude',\n",
    "           'property_type','room_type','accommodates','bathrooms','bedrooms','beds','bed_type','amenities','square_feet','price',\n",
    "           'security_deposit','cleaning_fee','guests_included','extra_people','minimum_nights','maximum_nights','number_of_reviews',\n",
    "           'review_scores_rating','review_scores_accuracy','review_scores_cleanliness','review_scores_checkin',\n",
    "           'review_scores_communication','review_scores_location','review_scores_value','instant_bookable',\n",
    "           'is_business_travel_ready','cancellation_policy','year','month']"
   ]
  },
  {
   "cell_type": "code",
   "execution_count": 9,
   "id": "be52d330",
   "metadata": {},
   "outputs": [],
   "source": [
    "df_airbnb = df_airbnb.loc[:,columns]"
   ]
  },
  {
   "cell_type": "markdown",
   "id": "05b3c9bd",
   "metadata": {},
   "source": [
    "Now will be checking the dataset after applying the filter of the columns looked from a qualitative analysis from the excel file and start to prepare the data, for cleaning, filling up misssing values and other important steps that need to be applied so the model can perform as best as possible"
   ]
  },
  {
   "cell_type": "code",
   "execution_count": 10,
   "id": "6463b9ee",
   "metadata": {},
   "outputs": [
    {
     "data": {
      "text/html": [
       "<div>\n",
       "<style scoped>\n",
       "    .dataframe tbody tr th:only-of-type {\n",
       "        vertical-align: middle;\n",
       "    }\n",
       "\n",
       "    .dataframe tbody tr th {\n",
       "        vertical-align: top;\n",
       "    }\n",
       "\n",
       "    .dataframe thead th {\n",
       "        text-align: right;\n",
       "    }\n",
       "</style>\n",
       "<table border=\"1\" class=\"dataframe\">\n",
       "  <thead>\n",
       "    <tr style=\"text-align: right;\">\n",
       "      <th></th>\n",
       "      <th>host_response_time</th>\n",
       "      <th>host_response_rate</th>\n",
       "      <th>host_is_superhost</th>\n",
       "      <th>host_listings_count</th>\n",
       "      <th>latitude</th>\n",
       "      <th>longitude</th>\n",
       "      <th>property_type</th>\n",
       "      <th>room_type</th>\n",
       "      <th>accommodates</th>\n",
       "      <th>bathrooms</th>\n",
       "      <th>...</th>\n",
       "      <th>review_scores_cleanliness</th>\n",
       "      <th>review_scores_checkin</th>\n",
       "      <th>review_scores_communication</th>\n",
       "      <th>review_scores_location</th>\n",
       "      <th>review_scores_value</th>\n",
       "      <th>instant_bookable</th>\n",
       "      <th>is_business_travel_ready</th>\n",
       "      <th>cancellation_policy</th>\n",
       "      <th>year</th>\n",
       "      <th>month</th>\n",
       "    </tr>\n",
       "  </thead>\n",
       "  <tbody>\n",
       "    <tr>\n",
       "      <th>0</th>\n",
       "      <td>NaN</td>\n",
       "      <td>NaN</td>\n",
       "      <td>f</td>\n",
       "      <td>1.0</td>\n",
       "      <td>-22.946854</td>\n",
       "      <td>-43.182737</td>\n",
       "      <td>Apartment</td>\n",
       "      <td>Entire home/apt</td>\n",
       "      <td>4</td>\n",
       "      <td>1.0</td>\n",
       "      <td>...</td>\n",
       "      <td>9.0</td>\n",
       "      <td>9.0</td>\n",
       "      <td>9.0</td>\n",
       "      <td>9.0</td>\n",
       "      <td>9.0</td>\n",
       "      <td>f</td>\n",
       "      <td>f</td>\n",
       "      <td>strict_14_with_grace_period</td>\n",
       "      <td>2018</td>\n",
       "      <td>4</td>\n",
       "    </tr>\n",
       "    <tr>\n",
       "      <th>1</th>\n",
       "      <td>within an hour</td>\n",
       "      <td>100%</td>\n",
       "      <td>t</td>\n",
       "      <td>2.0</td>\n",
       "      <td>-22.965919</td>\n",
       "      <td>-43.178962</td>\n",
       "      <td>Condominium</td>\n",
       "      <td>Entire home/apt</td>\n",
       "      <td>5</td>\n",
       "      <td>1.0</td>\n",
       "      <td>...</td>\n",
       "      <td>9.0</td>\n",
       "      <td>10.0</td>\n",
       "      <td>10.0</td>\n",
       "      <td>9.0</td>\n",
       "      <td>9.0</td>\n",
       "      <td>t</td>\n",
       "      <td>f</td>\n",
       "      <td>strict</td>\n",
       "      <td>2018</td>\n",
       "      <td>4</td>\n",
       "    </tr>\n",
       "    <tr>\n",
       "      <th>2</th>\n",
       "      <td>within an hour</td>\n",
       "      <td>100%</td>\n",
       "      <td>f</td>\n",
       "      <td>1.0</td>\n",
       "      <td>-22.985698</td>\n",
       "      <td>-43.201935</td>\n",
       "      <td>Apartment</td>\n",
       "      <td>Entire home/apt</td>\n",
       "      <td>2</td>\n",
       "      <td>1.0</td>\n",
       "      <td>...</td>\n",
       "      <td>10.0</td>\n",
       "      <td>10.0</td>\n",
       "      <td>10.0</td>\n",
       "      <td>10.0</td>\n",
       "      <td>9.0</td>\n",
       "      <td>f</td>\n",
       "      <td>f</td>\n",
       "      <td>strict</td>\n",
       "      <td>2018</td>\n",
       "      <td>4</td>\n",
       "    </tr>\n",
       "    <tr>\n",
       "      <th>3</th>\n",
       "      <td>within an hour</td>\n",
       "      <td>100%</td>\n",
       "      <td>f</td>\n",
       "      <td>3.0</td>\n",
       "      <td>-22.977117</td>\n",
       "      <td>-43.190454</td>\n",
       "      <td>Apartment</td>\n",
       "      <td>Entire home/apt</td>\n",
       "      <td>3</td>\n",
       "      <td>1.0</td>\n",
       "      <td>...</td>\n",
       "      <td>10.0</td>\n",
       "      <td>10.0</td>\n",
       "      <td>10.0</td>\n",
       "      <td>10.0</td>\n",
       "      <td>9.0</td>\n",
       "      <td>f</td>\n",
       "      <td>f</td>\n",
       "      <td>strict</td>\n",
       "      <td>2018</td>\n",
       "      <td>4</td>\n",
       "    </tr>\n",
       "    <tr>\n",
       "      <th>4</th>\n",
       "      <td>within an hour</td>\n",
       "      <td>100%</td>\n",
       "      <td>t</td>\n",
       "      <td>1.0</td>\n",
       "      <td>-22.983024</td>\n",
       "      <td>-43.214270</td>\n",
       "      <td>Apartment</td>\n",
       "      <td>Entire home/apt</td>\n",
       "      <td>3</td>\n",
       "      <td>1.0</td>\n",
       "      <td>...</td>\n",
       "      <td>10.0</td>\n",
       "      <td>10.0</td>\n",
       "      <td>10.0</td>\n",
       "      <td>10.0</td>\n",
       "      <td>9.0</td>\n",
       "      <td>t</td>\n",
       "      <td>f</td>\n",
       "      <td>strict</td>\n",
       "      <td>2018</td>\n",
       "      <td>4</td>\n",
       "    </tr>\n",
       "    <tr>\n",
       "      <th>...</th>\n",
       "      <td>...</td>\n",
       "      <td>...</td>\n",
       "      <td>...</td>\n",
       "      <td>...</td>\n",
       "      <td>...</td>\n",
       "      <td>...</td>\n",
       "      <td>...</td>\n",
       "      <td>...</td>\n",
       "      <td>...</td>\n",
       "      <td>...</td>\n",
       "      <td>...</td>\n",
       "      <td>...</td>\n",
       "      <td>...</td>\n",
       "      <td>...</td>\n",
       "      <td>...</td>\n",
       "      <td>...</td>\n",
       "      <td>...</td>\n",
       "      <td>...</td>\n",
       "      <td>...</td>\n",
       "      <td>...</td>\n",
       "      <td>...</td>\n",
       "    </tr>\n",
       "    <tr>\n",
       "      <th>34324</th>\n",
       "      <td>within an hour</td>\n",
       "      <td>93%</td>\n",
       "      <td>f</td>\n",
       "      <td>0.0</td>\n",
       "      <td>-23.003180</td>\n",
       "      <td>-43.342840</td>\n",
       "      <td>Apartment</td>\n",
       "      <td>Entire home/apt</td>\n",
       "      <td>4</td>\n",
       "      <td>1.0</td>\n",
       "      <td>...</td>\n",
       "      <td>NaN</td>\n",
       "      <td>NaN</td>\n",
       "      <td>NaN</td>\n",
       "      <td>NaN</td>\n",
       "      <td>NaN</td>\n",
       "      <td>f</td>\n",
       "      <td>f</td>\n",
       "      <td>flexible</td>\n",
       "      <td>2019</td>\n",
       "      <td>9</td>\n",
       "    </tr>\n",
       "    <tr>\n",
       "      <th>34325</th>\n",
       "      <td>NaN</td>\n",
       "      <td>NaN</td>\n",
       "      <td>f</td>\n",
       "      <td>0.0</td>\n",
       "      <td>-22.966640</td>\n",
       "      <td>-43.393450</td>\n",
       "      <td>Apartment</td>\n",
       "      <td>Entire home/apt</td>\n",
       "      <td>4</td>\n",
       "      <td>2.0</td>\n",
       "      <td>...</td>\n",
       "      <td>NaN</td>\n",
       "      <td>NaN</td>\n",
       "      <td>NaN</td>\n",
       "      <td>NaN</td>\n",
       "      <td>NaN</td>\n",
       "      <td>f</td>\n",
       "      <td>f</td>\n",
       "      <td>flexible</td>\n",
       "      <td>2019</td>\n",
       "      <td>9</td>\n",
       "    </tr>\n",
       "    <tr>\n",
       "      <th>34326</th>\n",
       "      <td>within a few hours</td>\n",
       "      <td>74%</td>\n",
       "      <td>f</td>\n",
       "      <td>32.0</td>\n",
       "      <td>-22.962080</td>\n",
       "      <td>-43.175520</td>\n",
       "      <td>Apartment</td>\n",
       "      <td>Entire home/apt</td>\n",
       "      <td>5</td>\n",
       "      <td>1.0</td>\n",
       "      <td>...</td>\n",
       "      <td>NaN</td>\n",
       "      <td>NaN</td>\n",
       "      <td>NaN</td>\n",
       "      <td>NaN</td>\n",
       "      <td>NaN</td>\n",
       "      <td>f</td>\n",
       "      <td>f</td>\n",
       "      <td>strict_14_with_grace_period</td>\n",
       "      <td>2019</td>\n",
       "      <td>9</td>\n",
       "    </tr>\n",
       "    <tr>\n",
       "      <th>34327</th>\n",
       "      <td>NaN</td>\n",
       "      <td>NaN</td>\n",
       "      <td>f</td>\n",
       "      <td>0.0</td>\n",
       "      <td>-23.003400</td>\n",
       "      <td>-43.341820</td>\n",
       "      <td>Apartment</td>\n",
       "      <td>Entire home/apt</td>\n",
       "      <td>4</td>\n",
       "      <td>1.0</td>\n",
       "      <td>...</td>\n",
       "      <td>NaN</td>\n",
       "      <td>NaN</td>\n",
       "      <td>NaN</td>\n",
       "      <td>NaN</td>\n",
       "      <td>NaN</td>\n",
       "      <td>f</td>\n",
       "      <td>f</td>\n",
       "      <td>strict_14_with_grace_period</td>\n",
       "      <td>2019</td>\n",
       "      <td>9</td>\n",
       "    </tr>\n",
       "    <tr>\n",
       "      <th>34328</th>\n",
       "      <td>a few days or more</td>\n",
       "      <td>38%</td>\n",
       "      <td>f</td>\n",
       "      <td>5.0</td>\n",
       "      <td>-23.010560</td>\n",
       "      <td>-43.363350</td>\n",
       "      <td>Apartment</td>\n",
       "      <td>Private room</td>\n",
       "      <td>2</td>\n",
       "      <td>0.0</td>\n",
       "      <td>...</td>\n",
       "      <td>NaN</td>\n",
       "      <td>NaN</td>\n",
       "      <td>NaN</td>\n",
       "      <td>NaN</td>\n",
       "      <td>NaN</td>\n",
       "      <td>f</td>\n",
       "      <td>f</td>\n",
       "      <td>strict_14_with_grace_period</td>\n",
       "      <td>2019</td>\n",
       "      <td>9</td>\n",
       "    </tr>\n",
       "  </tbody>\n",
       "</table>\n",
       "<p>902210 rows × 35 columns</p>\n",
       "</div>"
      ],
      "text/plain": [
       "       host_response_time host_response_rate host_is_superhost  \\\n",
       "0                     NaN                NaN                 f   \n",
       "1          within an hour               100%                 t   \n",
       "2          within an hour               100%                 f   \n",
       "3          within an hour               100%                 f   \n",
       "4          within an hour               100%                 t   \n",
       "...                   ...                ...               ...   \n",
       "34324      within an hour                93%                 f   \n",
       "34325                 NaN                NaN                 f   \n",
       "34326  within a few hours                74%                 f   \n",
       "34327                 NaN                NaN                 f   \n",
       "34328  a few days or more                38%                 f   \n",
       "\n",
       "       host_listings_count   latitude  longitude property_type  \\\n",
       "0                      1.0 -22.946854 -43.182737     Apartment   \n",
       "1                      2.0 -22.965919 -43.178962   Condominium   \n",
       "2                      1.0 -22.985698 -43.201935     Apartment   \n",
       "3                      3.0 -22.977117 -43.190454     Apartment   \n",
       "4                      1.0 -22.983024 -43.214270     Apartment   \n",
       "...                    ...        ...        ...           ...   \n",
       "34324                  0.0 -23.003180 -43.342840     Apartment   \n",
       "34325                  0.0 -22.966640 -43.393450     Apartment   \n",
       "34326                 32.0 -22.962080 -43.175520     Apartment   \n",
       "34327                  0.0 -23.003400 -43.341820     Apartment   \n",
       "34328                  5.0 -23.010560 -43.363350     Apartment   \n",
       "\n",
       "             room_type  accommodates  bathrooms  ...  \\\n",
       "0      Entire home/apt             4        1.0  ...   \n",
       "1      Entire home/apt             5        1.0  ...   \n",
       "2      Entire home/apt             2        1.0  ...   \n",
       "3      Entire home/apt             3        1.0  ...   \n",
       "4      Entire home/apt             3        1.0  ...   \n",
       "...                ...           ...        ...  ...   \n",
       "34324  Entire home/apt             4        1.0  ...   \n",
       "34325  Entire home/apt             4        2.0  ...   \n",
       "34326  Entire home/apt             5        1.0  ...   \n",
       "34327  Entire home/apt             4        1.0  ...   \n",
       "34328     Private room             2        0.0  ...   \n",
       "\n",
       "       review_scores_cleanliness  review_scores_checkin  \\\n",
       "0                            9.0                    9.0   \n",
       "1                            9.0                   10.0   \n",
       "2                           10.0                   10.0   \n",
       "3                           10.0                   10.0   \n",
       "4                           10.0                   10.0   \n",
       "...                          ...                    ...   \n",
       "34324                        NaN                    NaN   \n",
       "34325                        NaN                    NaN   \n",
       "34326                        NaN                    NaN   \n",
       "34327                        NaN                    NaN   \n",
       "34328                        NaN                    NaN   \n",
       "\n",
       "      review_scores_communication review_scores_location  review_scores_value  \\\n",
       "0                             9.0                    9.0                  9.0   \n",
       "1                            10.0                    9.0                  9.0   \n",
       "2                            10.0                   10.0                  9.0   \n",
       "3                            10.0                   10.0                  9.0   \n",
       "4                            10.0                   10.0                  9.0   \n",
       "...                           ...                    ...                  ...   \n",
       "34324                         NaN                    NaN                  NaN   \n",
       "34325                         NaN                    NaN                  NaN   \n",
       "34326                         NaN                    NaN                  NaN   \n",
       "34327                         NaN                    NaN                  NaN   \n",
       "34328                         NaN                    NaN                  NaN   \n",
       "\n",
       "      instant_bookable is_business_travel_ready          cancellation_policy  \\\n",
       "0                    f                        f  strict_14_with_grace_period   \n",
       "1                    t                        f                       strict   \n",
       "2                    f                        f                       strict   \n",
       "3                    f                        f                       strict   \n",
       "4                    t                        f                       strict   \n",
       "...                ...                      ...                          ...   \n",
       "34324                f                        f                     flexible   \n",
       "34325                f                        f                     flexible   \n",
       "34326                f                        f  strict_14_with_grace_period   \n",
       "34327                f                        f  strict_14_with_grace_period   \n",
       "34328                f                        f  strict_14_with_grace_period   \n",
       "\n",
       "       year month  \n",
       "0      2018     4  \n",
       "1      2018     4  \n",
       "2      2018     4  \n",
       "3      2018     4  \n",
       "4      2018     4  \n",
       "...     ...   ...  \n",
       "34324  2019     9  \n",
       "34325  2019     9  \n",
       "34326  2019     9  \n",
       "34327  2019     9  \n",
       "34328  2019     9  \n",
       "\n",
       "[902210 rows x 35 columns]"
      ]
     },
     "execution_count": 10,
     "metadata": {},
     "output_type": "execute_result"
    }
   ],
   "source": [
    "df_airbnb"
   ]
  },
  {
   "cell_type": "markdown",
   "id": "394fb83b",
   "metadata": {},
   "source": [
    "The next step will be visualizing the empty values of each column and which has the most of it. \n",
    "\n",
    "If it has a lot of empty values compared to the amount of data, I will be removing the column."
   ]
  },
  {
   "cell_type": "code",
   "execution_count": 11,
   "id": "882997a3",
   "metadata": {
    "scrolled": false
   },
   "outputs": [
    {
     "data": {
      "text/plain": [
       "host_response_time             401843\n",
       "host_response_rate             401846\n",
       "host_is_superhost                 460\n",
       "host_listings_count               460\n",
       "latitude                            0\n",
       "longitude                           0\n",
       "property_type                       0\n",
       "room_type                           0\n",
       "accommodates                        0\n",
       "bathrooms                        1724\n",
       "bedrooms                          850\n",
       "beds                             2502\n",
       "bed_type                            0\n",
       "amenities                           0\n",
       "square_feet                    888162\n",
       "price                               0\n",
       "security_deposit               421280\n",
       "cleaning_fee                   313506\n",
       "guests_included                     0\n",
       "extra_people                        0\n",
       "minimum_nights                      0\n",
       "maximum_nights                      0\n",
       "number_of_reviews                   0\n",
       "review_scores_rating           448016\n",
       "review_scores_accuracy         448586\n",
       "review_scores_cleanliness      448413\n",
       "review_scores_checkin          448650\n",
       "review_scores_communication    448415\n",
       "review_scores_location         448553\n",
       "review_scores_value            448551\n",
       "instant_bookable                    0\n",
       "is_business_travel_ready            0\n",
       "cancellation_policy                 0\n",
       "year                                0\n",
       "month                               0\n",
       "dtype: int64"
      ]
     },
     "execution_count": 11,
     "metadata": {},
     "output_type": "execute_result"
    }
   ],
   "source": [
    "df_airbnb.isnull().sum()"
   ]
  },
  {
   "cell_type": "markdown",
   "id": "a10e70e0",
   "metadata": {},
   "source": [
    "By checking the empty values of the columns, one that will be removed is the square_feet, it has almost 900k of empty value where the dataset consists of 900k.\n",
    "\n",
    "Some columns have almost half of the empty values of the columns so will proceed with the same method and will remove those columns as well"
   ]
  },
  {
   "cell_type": "code",
   "execution_count": 12,
   "id": "e2ffbae7",
   "metadata": {},
   "outputs": [
    {
     "data": {
      "text/html": [
       "<div>\n",
       "<style scoped>\n",
       "    .dataframe tbody tr th:only-of-type {\n",
       "        vertical-align: middle;\n",
       "    }\n",
       "\n",
       "    .dataframe tbody tr th {\n",
       "        vertical-align: top;\n",
       "    }\n",
       "\n",
       "    .dataframe thead th {\n",
       "        text-align: right;\n",
       "    }\n",
       "</style>\n",
       "<table border=\"1\" class=\"dataframe\">\n",
       "  <thead>\n",
       "    <tr style=\"text-align: right;\">\n",
       "      <th></th>\n",
       "      <th>host_is_superhost</th>\n",
       "      <th>host_listings_count</th>\n",
       "      <th>latitude</th>\n",
       "      <th>longitude</th>\n",
       "      <th>property_type</th>\n",
       "      <th>room_type</th>\n",
       "      <th>accommodates</th>\n",
       "      <th>bathrooms</th>\n",
       "      <th>bedrooms</th>\n",
       "      <th>beds</th>\n",
       "      <th>...</th>\n",
       "      <th>guests_included</th>\n",
       "      <th>extra_people</th>\n",
       "      <th>minimum_nights</th>\n",
       "      <th>maximum_nights</th>\n",
       "      <th>number_of_reviews</th>\n",
       "      <th>instant_bookable</th>\n",
       "      <th>is_business_travel_ready</th>\n",
       "      <th>cancellation_policy</th>\n",
       "      <th>year</th>\n",
       "      <th>month</th>\n",
       "    </tr>\n",
       "  </thead>\n",
       "  <tbody>\n",
       "    <tr>\n",
       "      <th>0</th>\n",
       "      <td>f</td>\n",
       "      <td>1.0</td>\n",
       "      <td>-22.946854</td>\n",
       "      <td>-43.182737</td>\n",
       "      <td>Apartment</td>\n",
       "      <td>Entire home/apt</td>\n",
       "      <td>4</td>\n",
       "      <td>1.0</td>\n",
       "      <td>0.0</td>\n",
       "      <td>2.0</td>\n",
       "      <td>...</td>\n",
       "      <td>2</td>\n",
       "      <td>$34.00</td>\n",
       "      <td>60</td>\n",
       "      <td>365</td>\n",
       "      <td>38</td>\n",
       "      <td>f</td>\n",
       "      <td>f</td>\n",
       "      <td>strict_14_with_grace_period</td>\n",
       "      <td>2018</td>\n",
       "      <td>4</td>\n",
       "    </tr>\n",
       "    <tr>\n",
       "      <th>1</th>\n",
       "      <td>t</td>\n",
       "      <td>2.0</td>\n",
       "      <td>-22.965919</td>\n",
       "      <td>-43.178962</td>\n",
       "      <td>Condominium</td>\n",
       "      <td>Entire home/apt</td>\n",
       "      <td>5</td>\n",
       "      <td>1.0</td>\n",
       "      <td>2.0</td>\n",
       "      <td>2.0</td>\n",
       "      <td>...</td>\n",
       "      <td>2</td>\n",
       "      <td>$51.00</td>\n",
       "      <td>4</td>\n",
       "      <td>90</td>\n",
       "      <td>205</td>\n",
       "      <td>t</td>\n",
       "      <td>f</td>\n",
       "      <td>strict</td>\n",
       "      <td>2018</td>\n",
       "      <td>4</td>\n",
       "    </tr>\n",
       "    <tr>\n",
       "      <th>2</th>\n",
       "      <td>f</td>\n",
       "      <td>1.0</td>\n",
       "      <td>-22.985698</td>\n",
       "      <td>-43.201935</td>\n",
       "      <td>Apartment</td>\n",
       "      <td>Entire home/apt</td>\n",
       "      <td>2</td>\n",
       "      <td>1.0</td>\n",
       "      <td>1.0</td>\n",
       "      <td>1.0</td>\n",
       "      <td>...</td>\n",
       "      <td>2</td>\n",
       "      <td>$215.00</td>\n",
       "      <td>3</td>\n",
       "      <td>90</td>\n",
       "      <td>85</td>\n",
       "      <td>f</td>\n",
       "      <td>f</td>\n",
       "      <td>strict</td>\n",
       "      <td>2018</td>\n",
       "      <td>4</td>\n",
       "    </tr>\n",
       "    <tr>\n",
       "      <th>3</th>\n",
       "      <td>f</td>\n",
       "      <td>3.0</td>\n",
       "      <td>-22.977117</td>\n",
       "      <td>-43.190454</td>\n",
       "      <td>Apartment</td>\n",
       "      <td>Entire home/apt</td>\n",
       "      <td>3</td>\n",
       "      <td>1.0</td>\n",
       "      <td>1.0</td>\n",
       "      <td>2.0</td>\n",
       "      <td>...</td>\n",
       "      <td>2</td>\n",
       "      <td>$45.00</td>\n",
       "      <td>4</td>\n",
       "      <td>30</td>\n",
       "      <td>208</td>\n",
       "      <td>f</td>\n",
       "      <td>f</td>\n",
       "      <td>strict</td>\n",
       "      <td>2018</td>\n",
       "      <td>4</td>\n",
       "    </tr>\n",
       "    <tr>\n",
       "      <th>4</th>\n",
       "      <td>t</td>\n",
       "      <td>1.0</td>\n",
       "      <td>-22.983024</td>\n",
       "      <td>-43.214270</td>\n",
       "      <td>Apartment</td>\n",
       "      <td>Entire home/apt</td>\n",
       "      <td>3</td>\n",
       "      <td>1.0</td>\n",
       "      <td>1.0</td>\n",
       "      <td>2.0</td>\n",
       "      <td>...</td>\n",
       "      <td>2</td>\n",
       "      <td>$68.00</td>\n",
       "      <td>2</td>\n",
       "      <td>1125</td>\n",
       "      <td>200</td>\n",
       "      <td>t</td>\n",
       "      <td>f</td>\n",
       "      <td>strict</td>\n",
       "      <td>2018</td>\n",
       "      <td>4</td>\n",
       "    </tr>\n",
       "    <tr>\n",
       "      <th>...</th>\n",
       "      <td>...</td>\n",
       "      <td>...</td>\n",
       "      <td>...</td>\n",
       "      <td>...</td>\n",
       "      <td>...</td>\n",
       "      <td>...</td>\n",
       "      <td>...</td>\n",
       "      <td>...</td>\n",
       "      <td>...</td>\n",
       "      <td>...</td>\n",
       "      <td>...</td>\n",
       "      <td>...</td>\n",
       "      <td>...</td>\n",
       "      <td>...</td>\n",
       "      <td>...</td>\n",
       "      <td>...</td>\n",
       "      <td>...</td>\n",
       "      <td>...</td>\n",
       "      <td>...</td>\n",
       "      <td>...</td>\n",
       "      <td>...</td>\n",
       "    </tr>\n",
       "    <tr>\n",
       "      <th>34324</th>\n",
       "      <td>f</td>\n",
       "      <td>0.0</td>\n",
       "      <td>-23.003180</td>\n",
       "      <td>-43.342840</td>\n",
       "      <td>Apartment</td>\n",
       "      <td>Entire home/apt</td>\n",
       "      <td>4</td>\n",
       "      <td>1.0</td>\n",
       "      <td>0.0</td>\n",
       "      <td>2.0</td>\n",
       "      <td>...</td>\n",
       "      <td>2</td>\n",
       "      <td>$50.00</td>\n",
       "      <td>1</td>\n",
       "      <td>1125</td>\n",
       "      <td>0</td>\n",
       "      <td>f</td>\n",
       "      <td>f</td>\n",
       "      <td>flexible</td>\n",
       "      <td>2019</td>\n",
       "      <td>9</td>\n",
       "    </tr>\n",
       "    <tr>\n",
       "      <th>34325</th>\n",
       "      <td>f</td>\n",
       "      <td>0.0</td>\n",
       "      <td>-22.966640</td>\n",
       "      <td>-43.393450</td>\n",
       "      <td>Apartment</td>\n",
       "      <td>Entire home/apt</td>\n",
       "      <td>4</td>\n",
       "      <td>2.0</td>\n",
       "      <td>2.0</td>\n",
       "      <td>3.0</td>\n",
       "      <td>...</td>\n",
       "      <td>1</td>\n",
       "      <td>$0.00</td>\n",
       "      <td>2</td>\n",
       "      <td>1125</td>\n",
       "      <td>0</td>\n",
       "      <td>f</td>\n",
       "      <td>f</td>\n",
       "      <td>flexible</td>\n",
       "      <td>2019</td>\n",
       "      <td>9</td>\n",
       "    </tr>\n",
       "    <tr>\n",
       "      <th>34326</th>\n",
       "      <td>f</td>\n",
       "      <td>32.0</td>\n",
       "      <td>-22.962080</td>\n",
       "      <td>-43.175520</td>\n",
       "      <td>Apartment</td>\n",
       "      <td>Entire home/apt</td>\n",
       "      <td>5</td>\n",
       "      <td>1.0</td>\n",
       "      <td>1.0</td>\n",
       "      <td>2.0</td>\n",
       "      <td>...</td>\n",
       "      <td>3</td>\n",
       "      <td>$30.00</td>\n",
       "      <td>3</td>\n",
       "      <td>1125</td>\n",
       "      <td>0</td>\n",
       "      <td>f</td>\n",
       "      <td>f</td>\n",
       "      <td>strict_14_with_grace_period</td>\n",
       "      <td>2019</td>\n",
       "      <td>9</td>\n",
       "    </tr>\n",
       "    <tr>\n",
       "      <th>34327</th>\n",
       "      <td>f</td>\n",
       "      <td>0.0</td>\n",
       "      <td>-23.003400</td>\n",
       "      <td>-43.341820</td>\n",
       "      <td>Apartment</td>\n",
       "      <td>Entire home/apt</td>\n",
       "      <td>4</td>\n",
       "      <td>1.0</td>\n",
       "      <td>1.0</td>\n",
       "      <td>1.0</td>\n",
       "      <td>...</td>\n",
       "      <td>1</td>\n",
       "      <td>$0.00</td>\n",
       "      <td>1</td>\n",
       "      <td>1125</td>\n",
       "      <td>0</td>\n",
       "      <td>f</td>\n",
       "      <td>f</td>\n",
       "      <td>strict_14_with_grace_period</td>\n",
       "      <td>2019</td>\n",
       "      <td>9</td>\n",
       "    </tr>\n",
       "    <tr>\n",
       "      <th>34328</th>\n",
       "      <td>f</td>\n",
       "      <td>5.0</td>\n",
       "      <td>-23.010560</td>\n",
       "      <td>-43.363350</td>\n",
       "      <td>Apartment</td>\n",
       "      <td>Private room</td>\n",
       "      <td>2</td>\n",
       "      <td>0.0</td>\n",
       "      <td>1.0</td>\n",
       "      <td>1.0</td>\n",
       "      <td>...</td>\n",
       "      <td>2</td>\n",
       "      <td>$80.00</td>\n",
       "      <td>1</td>\n",
       "      <td>30</td>\n",
       "      <td>0</td>\n",
       "      <td>f</td>\n",
       "      <td>f</td>\n",
       "      <td>strict_14_with_grace_period</td>\n",
       "      <td>2019</td>\n",
       "      <td>9</td>\n",
       "    </tr>\n",
       "  </tbody>\n",
       "</table>\n",
       "<p>902210 rows × 23 columns</p>\n",
       "</div>"
      ],
      "text/plain": [
       "      host_is_superhost  host_listings_count   latitude  longitude  \\\n",
       "0                     f                  1.0 -22.946854 -43.182737   \n",
       "1                     t                  2.0 -22.965919 -43.178962   \n",
       "2                     f                  1.0 -22.985698 -43.201935   \n",
       "3                     f                  3.0 -22.977117 -43.190454   \n",
       "4                     t                  1.0 -22.983024 -43.214270   \n",
       "...                 ...                  ...        ...        ...   \n",
       "34324                 f                  0.0 -23.003180 -43.342840   \n",
       "34325                 f                  0.0 -22.966640 -43.393450   \n",
       "34326                 f                 32.0 -22.962080 -43.175520   \n",
       "34327                 f                  0.0 -23.003400 -43.341820   \n",
       "34328                 f                  5.0 -23.010560 -43.363350   \n",
       "\n",
       "      property_type        room_type  accommodates  bathrooms  bedrooms  beds  \\\n",
       "0         Apartment  Entire home/apt             4        1.0       0.0   2.0   \n",
       "1       Condominium  Entire home/apt             5        1.0       2.0   2.0   \n",
       "2         Apartment  Entire home/apt             2        1.0       1.0   1.0   \n",
       "3         Apartment  Entire home/apt             3        1.0       1.0   2.0   \n",
       "4         Apartment  Entire home/apt             3        1.0       1.0   2.0   \n",
       "...             ...              ...           ...        ...       ...   ...   \n",
       "34324     Apartment  Entire home/apt             4        1.0       0.0   2.0   \n",
       "34325     Apartment  Entire home/apt             4        2.0       2.0   3.0   \n",
       "34326     Apartment  Entire home/apt             5        1.0       1.0   2.0   \n",
       "34327     Apartment  Entire home/apt             4        1.0       1.0   1.0   \n",
       "34328     Apartment     Private room             2        0.0       1.0   1.0   \n",
       "\n",
       "       ... guests_included extra_people minimum_nights  maximum_nights  \\\n",
       "0      ...               2       $34.00             60             365   \n",
       "1      ...               2       $51.00              4              90   \n",
       "2      ...               2      $215.00              3              90   \n",
       "3      ...               2       $45.00              4              30   \n",
       "4      ...               2       $68.00              2            1125   \n",
       "...    ...             ...          ...            ...             ...   \n",
       "34324  ...               2       $50.00              1            1125   \n",
       "34325  ...               1        $0.00              2            1125   \n",
       "34326  ...               3       $30.00              3            1125   \n",
       "34327  ...               1        $0.00              1            1125   \n",
       "34328  ...               2       $80.00              1              30   \n",
       "\n",
       "      number_of_reviews  instant_bookable  is_business_travel_ready  \\\n",
       "0                    38                 f                         f   \n",
       "1                   205                 t                         f   \n",
       "2                    85                 f                         f   \n",
       "3                   208                 f                         f   \n",
       "4                   200                 t                         f   \n",
       "...                 ...               ...                       ...   \n",
       "34324                 0                 f                         f   \n",
       "34325                 0                 f                         f   \n",
       "34326                 0                 f                         f   \n",
       "34327                 0                 f                         f   \n",
       "34328                 0                 f                         f   \n",
       "\n",
       "               cancellation_policy  year month  \n",
       "0      strict_14_with_grace_period  2018     4  \n",
       "1                           strict  2018     4  \n",
       "2                           strict  2018     4  \n",
       "3                           strict  2018     4  \n",
       "4                           strict  2018     4  \n",
       "...                            ...   ...   ...  \n",
       "34324                     flexible  2019     9  \n",
       "34325                     flexible  2019     9  \n",
       "34326  strict_14_with_grace_period  2019     9  \n",
       "34327  strict_14_with_grace_period  2019     9  \n",
       "34328  strict_14_with_grace_period  2019     9  \n",
       "\n",
       "[902210 rows x 23 columns]"
      ]
     },
     "execution_count": 12,
     "metadata": {},
     "output_type": "execute_result"
    }
   ],
   "source": [
    "for column in df_airbnb:\n",
    "    if df_airbnb[column].isnull().sum() > 300000:\n",
    "        df_airbnb = df_airbnb.drop(column,axis=1)\n",
    "        \n",
    "df_airbnb"
   ]
  },
  {
   "cell_type": "code",
   "execution_count": 13,
   "id": "013f679a",
   "metadata": {},
   "outputs": [
    {
     "data": {
      "text/plain": [
       "host_is_superhost            460\n",
       "host_listings_count          460\n",
       "latitude                       0\n",
       "longitude                      0\n",
       "property_type                  0\n",
       "room_type                      0\n",
       "accommodates                   0\n",
       "bathrooms                   1724\n",
       "bedrooms                     850\n",
       "beds                        2502\n",
       "bed_type                       0\n",
       "amenities                      0\n",
       "price                          0\n",
       "guests_included                0\n",
       "extra_people                   0\n",
       "minimum_nights                 0\n",
       "maximum_nights                 0\n",
       "number_of_reviews              0\n",
       "instant_bookable               0\n",
       "is_business_travel_ready       0\n",
       "cancellation_policy            0\n",
       "year                           0\n",
       "month                          0\n",
       "dtype: int64"
      ]
     },
     "execution_count": 13,
     "metadata": {},
     "output_type": "execute_result"
    }
   ],
   "source": [
    "df_airbnb.isnull().sum()"
   ]
  },
  {
   "cell_type": "markdown",
   "id": "66eb618d",
   "metadata": {},
   "source": [
    "The result of removing the data that has more than 300k missing value, the new dataset has only 22 columns instead of the 34 after the first qualitative analysis.\n",
    "\n",
    "Due to the fact that many columns were deleted by having NaN I will be performing the same operation in the others, since comparing 2000 lines to 900 lines, does not seem a big loss."
   ]
  },
  {
   "cell_type": "code",
   "execution_count": 14,
   "id": "50c9f35e",
   "metadata": {},
   "outputs": [
    {
     "data": {
      "text/html": [
       "<div>\n",
       "<style scoped>\n",
       "    .dataframe tbody tr th:only-of-type {\n",
       "        vertical-align: middle;\n",
       "    }\n",
       "\n",
       "    .dataframe tbody tr th {\n",
       "        vertical-align: top;\n",
       "    }\n",
       "\n",
       "    .dataframe thead th {\n",
       "        text-align: right;\n",
       "    }\n",
       "</style>\n",
       "<table border=\"1\" class=\"dataframe\">\n",
       "  <thead>\n",
       "    <tr style=\"text-align: right;\">\n",
       "      <th></th>\n",
       "      <th>host_is_superhost</th>\n",
       "      <th>host_listings_count</th>\n",
       "      <th>latitude</th>\n",
       "      <th>longitude</th>\n",
       "      <th>property_type</th>\n",
       "      <th>room_type</th>\n",
       "      <th>accommodates</th>\n",
       "      <th>bathrooms</th>\n",
       "      <th>bedrooms</th>\n",
       "      <th>beds</th>\n",
       "      <th>...</th>\n",
       "      <th>guests_included</th>\n",
       "      <th>extra_people</th>\n",
       "      <th>minimum_nights</th>\n",
       "      <th>maximum_nights</th>\n",
       "      <th>number_of_reviews</th>\n",
       "      <th>instant_bookable</th>\n",
       "      <th>is_business_travel_ready</th>\n",
       "      <th>cancellation_policy</th>\n",
       "      <th>year</th>\n",
       "      <th>month</th>\n",
       "    </tr>\n",
       "  </thead>\n",
       "  <tbody>\n",
       "    <tr>\n",
       "      <th>0</th>\n",
       "      <td>f</td>\n",
       "      <td>1.0</td>\n",
       "      <td>-22.946854</td>\n",
       "      <td>-43.182737</td>\n",
       "      <td>Apartment</td>\n",
       "      <td>Entire home/apt</td>\n",
       "      <td>4</td>\n",
       "      <td>1.0</td>\n",
       "      <td>0.0</td>\n",
       "      <td>2.0</td>\n",
       "      <td>...</td>\n",
       "      <td>2</td>\n",
       "      <td>$34.00</td>\n",
       "      <td>60</td>\n",
       "      <td>365</td>\n",
       "      <td>38</td>\n",
       "      <td>f</td>\n",
       "      <td>f</td>\n",
       "      <td>strict_14_with_grace_period</td>\n",
       "      <td>2018</td>\n",
       "      <td>4</td>\n",
       "    </tr>\n",
       "    <tr>\n",
       "      <th>1</th>\n",
       "      <td>t</td>\n",
       "      <td>2.0</td>\n",
       "      <td>-22.965919</td>\n",
       "      <td>-43.178962</td>\n",
       "      <td>Condominium</td>\n",
       "      <td>Entire home/apt</td>\n",
       "      <td>5</td>\n",
       "      <td>1.0</td>\n",
       "      <td>2.0</td>\n",
       "      <td>2.0</td>\n",
       "      <td>...</td>\n",
       "      <td>2</td>\n",
       "      <td>$51.00</td>\n",
       "      <td>4</td>\n",
       "      <td>90</td>\n",
       "      <td>205</td>\n",
       "      <td>t</td>\n",
       "      <td>f</td>\n",
       "      <td>strict</td>\n",
       "      <td>2018</td>\n",
       "      <td>4</td>\n",
       "    </tr>\n",
       "    <tr>\n",
       "      <th>2</th>\n",
       "      <td>f</td>\n",
       "      <td>1.0</td>\n",
       "      <td>-22.985698</td>\n",
       "      <td>-43.201935</td>\n",
       "      <td>Apartment</td>\n",
       "      <td>Entire home/apt</td>\n",
       "      <td>2</td>\n",
       "      <td>1.0</td>\n",
       "      <td>1.0</td>\n",
       "      <td>1.0</td>\n",
       "      <td>...</td>\n",
       "      <td>2</td>\n",
       "      <td>$215.00</td>\n",
       "      <td>3</td>\n",
       "      <td>90</td>\n",
       "      <td>85</td>\n",
       "      <td>f</td>\n",
       "      <td>f</td>\n",
       "      <td>strict</td>\n",
       "      <td>2018</td>\n",
       "      <td>4</td>\n",
       "    </tr>\n",
       "    <tr>\n",
       "      <th>3</th>\n",
       "      <td>f</td>\n",
       "      <td>3.0</td>\n",
       "      <td>-22.977117</td>\n",
       "      <td>-43.190454</td>\n",
       "      <td>Apartment</td>\n",
       "      <td>Entire home/apt</td>\n",
       "      <td>3</td>\n",
       "      <td>1.0</td>\n",
       "      <td>1.0</td>\n",
       "      <td>2.0</td>\n",
       "      <td>...</td>\n",
       "      <td>2</td>\n",
       "      <td>$45.00</td>\n",
       "      <td>4</td>\n",
       "      <td>30</td>\n",
       "      <td>208</td>\n",
       "      <td>f</td>\n",
       "      <td>f</td>\n",
       "      <td>strict</td>\n",
       "      <td>2018</td>\n",
       "      <td>4</td>\n",
       "    </tr>\n",
       "    <tr>\n",
       "      <th>4</th>\n",
       "      <td>t</td>\n",
       "      <td>1.0</td>\n",
       "      <td>-22.983024</td>\n",
       "      <td>-43.214270</td>\n",
       "      <td>Apartment</td>\n",
       "      <td>Entire home/apt</td>\n",
       "      <td>3</td>\n",
       "      <td>1.0</td>\n",
       "      <td>1.0</td>\n",
       "      <td>2.0</td>\n",
       "      <td>...</td>\n",
       "      <td>2</td>\n",
       "      <td>$68.00</td>\n",
       "      <td>2</td>\n",
       "      <td>1125</td>\n",
       "      <td>200</td>\n",
       "      <td>t</td>\n",
       "      <td>f</td>\n",
       "      <td>strict</td>\n",
       "      <td>2018</td>\n",
       "      <td>4</td>\n",
       "    </tr>\n",
       "    <tr>\n",
       "      <th>...</th>\n",
       "      <td>...</td>\n",
       "      <td>...</td>\n",
       "      <td>...</td>\n",
       "      <td>...</td>\n",
       "      <td>...</td>\n",
       "      <td>...</td>\n",
       "      <td>...</td>\n",
       "      <td>...</td>\n",
       "      <td>...</td>\n",
       "      <td>...</td>\n",
       "      <td>...</td>\n",
       "      <td>...</td>\n",
       "      <td>...</td>\n",
       "      <td>...</td>\n",
       "      <td>...</td>\n",
       "      <td>...</td>\n",
       "      <td>...</td>\n",
       "      <td>...</td>\n",
       "      <td>...</td>\n",
       "      <td>...</td>\n",
       "      <td>...</td>\n",
       "    </tr>\n",
       "    <tr>\n",
       "      <th>34324</th>\n",
       "      <td>f</td>\n",
       "      <td>0.0</td>\n",
       "      <td>-23.003180</td>\n",
       "      <td>-43.342840</td>\n",
       "      <td>Apartment</td>\n",
       "      <td>Entire home/apt</td>\n",
       "      <td>4</td>\n",
       "      <td>1.0</td>\n",
       "      <td>0.0</td>\n",
       "      <td>2.0</td>\n",
       "      <td>...</td>\n",
       "      <td>2</td>\n",
       "      <td>$50.00</td>\n",
       "      <td>1</td>\n",
       "      <td>1125</td>\n",
       "      <td>0</td>\n",
       "      <td>f</td>\n",
       "      <td>f</td>\n",
       "      <td>flexible</td>\n",
       "      <td>2019</td>\n",
       "      <td>9</td>\n",
       "    </tr>\n",
       "    <tr>\n",
       "      <th>34325</th>\n",
       "      <td>f</td>\n",
       "      <td>0.0</td>\n",
       "      <td>-22.966640</td>\n",
       "      <td>-43.393450</td>\n",
       "      <td>Apartment</td>\n",
       "      <td>Entire home/apt</td>\n",
       "      <td>4</td>\n",
       "      <td>2.0</td>\n",
       "      <td>2.0</td>\n",
       "      <td>3.0</td>\n",
       "      <td>...</td>\n",
       "      <td>1</td>\n",
       "      <td>$0.00</td>\n",
       "      <td>2</td>\n",
       "      <td>1125</td>\n",
       "      <td>0</td>\n",
       "      <td>f</td>\n",
       "      <td>f</td>\n",
       "      <td>flexible</td>\n",
       "      <td>2019</td>\n",
       "      <td>9</td>\n",
       "    </tr>\n",
       "    <tr>\n",
       "      <th>34326</th>\n",
       "      <td>f</td>\n",
       "      <td>32.0</td>\n",
       "      <td>-22.962080</td>\n",
       "      <td>-43.175520</td>\n",
       "      <td>Apartment</td>\n",
       "      <td>Entire home/apt</td>\n",
       "      <td>5</td>\n",
       "      <td>1.0</td>\n",
       "      <td>1.0</td>\n",
       "      <td>2.0</td>\n",
       "      <td>...</td>\n",
       "      <td>3</td>\n",
       "      <td>$30.00</td>\n",
       "      <td>3</td>\n",
       "      <td>1125</td>\n",
       "      <td>0</td>\n",
       "      <td>f</td>\n",
       "      <td>f</td>\n",
       "      <td>strict_14_with_grace_period</td>\n",
       "      <td>2019</td>\n",
       "      <td>9</td>\n",
       "    </tr>\n",
       "    <tr>\n",
       "      <th>34327</th>\n",
       "      <td>f</td>\n",
       "      <td>0.0</td>\n",
       "      <td>-23.003400</td>\n",
       "      <td>-43.341820</td>\n",
       "      <td>Apartment</td>\n",
       "      <td>Entire home/apt</td>\n",
       "      <td>4</td>\n",
       "      <td>1.0</td>\n",
       "      <td>1.0</td>\n",
       "      <td>1.0</td>\n",
       "      <td>...</td>\n",
       "      <td>1</td>\n",
       "      <td>$0.00</td>\n",
       "      <td>1</td>\n",
       "      <td>1125</td>\n",
       "      <td>0</td>\n",
       "      <td>f</td>\n",
       "      <td>f</td>\n",
       "      <td>strict_14_with_grace_period</td>\n",
       "      <td>2019</td>\n",
       "      <td>9</td>\n",
       "    </tr>\n",
       "    <tr>\n",
       "      <th>34328</th>\n",
       "      <td>f</td>\n",
       "      <td>5.0</td>\n",
       "      <td>-23.010560</td>\n",
       "      <td>-43.363350</td>\n",
       "      <td>Apartment</td>\n",
       "      <td>Private room</td>\n",
       "      <td>2</td>\n",
       "      <td>0.0</td>\n",
       "      <td>1.0</td>\n",
       "      <td>1.0</td>\n",
       "      <td>...</td>\n",
       "      <td>2</td>\n",
       "      <td>$80.00</td>\n",
       "      <td>1</td>\n",
       "      <td>30</td>\n",
       "      <td>0</td>\n",
       "      <td>f</td>\n",
       "      <td>f</td>\n",
       "      <td>strict_14_with_grace_period</td>\n",
       "      <td>2019</td>\n",
       "      <td>9</td>\n",
       "    </tr>\n",
       "  </tbody>\n",
       "</table>\n",
       "<p>897709 rows × 23 columns</p>\n",
       "</div>"
      ],
      "text/plain": [
       "      host_is_superhost  host_listings_count   latitude  longitude  \\\n",
       "0                     f                  1.0 -22.946854 -43.182737   \n",
       "1                     t                  2.0 -22.965919 -43.178962   \n",
       "2                     f                  1.0 -22.985698 -43.201935   \n",
       "3                     f                  3.0 -22.977117 -43.190454   \n",
       "4                     t                  1.0 -22.983024 -43.214270   \n",
       "...                 ...                  ...        ...        ...   \n",
       "34324                 f                  0.0 -23.003180 -43.342840   \n",
       "34325                 f                  0.0 -22.966640 -43.393450   \n",
       "34326                 f                 32.0 -22.962080 -43.175520   \n",
       "34327                 f                  0.0 -23.003400 -43.341820   \n",
       "34328                 f                  5.0 -23.010560 -43.363350   \n",
       "\n",
       "      property_type        room_type  accommodates  bathrooms  bedrooms  beds  \\\n",
       "0         Apartment  Entire home/apt             4        1.0       0.0   2.0   \n",
       "1       Condominium  Entire home/apt             5        1.0       2.0   2.0   \n",
       "2         Apartment  Entire home/apt             2        1.0       1.0   1.0   \n",
       "3         Apartment  Entire home/apt             3        1.0       1.0   2.0   \n",
       "4         Apartment  Entire home/apt             3        1.0       1.0   2.0   \n",
       "...             ...              ...           ...        ...       ...   ...   \n",
       "34324     Apartment  Entire home/apt             4        1.0       0.0   2.0   \n",
       "34325     Apartment  Entire home/apt             4        2.0       2.0   3.0   \n",
       "34326     Apartment  Entire home/apt             5        1.0       1.0   2.0   \n",
       "34327     Apartment  Entire home/apt             4        1.0       1.0   1.0   \n",
       "34328     Apartment     Private room             2        0.0       1.0   1.0   \n",
       "\n",
       "       ... guests_included extra_people minimum_nights  maximum_nights  \\\n",
       "0      ...               2       $34.00             60             365   \n",
       "1      ...               2       $51.00              4              90   \n",
       "2      ...               2      $215.00              3              90   \n",
       "3      ...               2       $45.00              4              30   \n",
       "4      ...               2       $68.00              2            1125   \n",
       "...    ...             ...          ...            ...             ...   \n",
       "34324  ...               2       $50.00              1            1125   \n",
       "34325  ...               1        $0.00              2            1125   \n",
       "34326  ...               3       $30.00              3            1125   \n",
       "34327  ...               1        $0.00              1            1125   \n",
       "34328  ...               2       $80.00              1              30   \n",
       "\n",
       "      number_of_reviews  instant_bookable  is_business_travel_ready  \\\n",
       "0                    38                 f                         f   \n",
       "1                   205                 t                         f   \n",
       "2                    85                 f                         f   \n",
       "3                   208                 f                         f   \n",
       "4                   200                 t                         f   \n",
       "...                 ...               ...                       ...   \n",
       "34324                 0                 f                         f   \n",
       "34325                 0                 f                         f   \n",
       "34326                 0                 f                         f   \n",
       "34327                 0                 f                         f   \n",
       "34328                 0                 f                         f   \n",
       "\n",
       "               cancellation_policy  year month  \n",
       "0      strict_14_with_grace_period  2018     4  \n",
       "1                           strict  2018     4  \n",
       "2                           strict  2018     4  \n",
       "3                           strict  2018     4  \n",
       "4                           strict  2018     4  \n",
       "...                            ...   ...   ...  \n",
       "34324                     flexible  2019     9  \n",
       "34325                     flexible  2019     9  \n",
       "34326  strict_14_with_grace_period  2019     9  \n",
       "34327  strict_14_with_grace_period  2019     9  \n",
       "34328  strict_14_with_grace_period  2019     9  \n",
       "\n",
       "[897709 rows x 23 columns]"
      ]
     },
     "execution_count": 14,
     "metadata": {},
     "output_type": "execute_result"
    }
   ],
   "source": [
    "df_airbnb = df_airbnb.dropna()\n",
    "df_airbnb"
   ]
  },
  {
   "cell_type": "code",
   "execution_count": 15,
   "id": "98aca696",
   "metadata": {},
   "outputs": [
    {
     "data": {
      "text/plain": [
       "host_is_superhost           0\n",
       "host_listings_count         0\n",
       "latitude                    0\n",
       "longitude                   0\n",
       "property_type               0\n",
       "room_type                   0\n",
       "accommodates                0\n",
       "bathrooms                   0\n",
       "bedrooms                    0\n",
       "beds                        0\n",
       "bed_type                    0\n",
       "amenities                   0\n",
       "price                       0\n",
       "guests_included             0\n",
       "extra_people                0\n",
       "minimum_nights              0\n",
       "maximum_nights              0\n",
       "number_of_reviews           0\n",
       "instant_bookable            0\n",
       "is_business_travel_ready    0\n",
       "cancellation_policy         0\n",
       "year                        0\n",
       "month                       0\n",
       "dtype: int64"
      ]
     },
     "execution_count": 15,
     "metadata": {},
     "output_type": "execute_result"
    }
   ],
   "source": [
    "df_airbnb.isnull().sum()"
   ]
  },
  {
   "cell_type": "markdown",
   "id": "00d0d7d3",
   "metadata": {},
   "source": [
    "Now after removing only the values of the rows the dataset will not suffer a severe impact by removing the entire column as done on the previous step, however that was basically the entire column of the dataset with missing values\n",
    "\n",
    "Will also check the type of each column so the reading of it is accurate and will result accordingly "
   ]
  },
  {
   "cell_type": "code",
   "execution_count": 16,
   "id": "80d42f9f",
   "metadata": {},
   "outputs": [
    {
     "data": {
      "text/plain": [
       "host_is_superhost            object\n",
       "host_listings_count         float64\n",
       "latitude                    float64\n",
       "longitude                   float64\n",
       "property_type                object\n",
       "room_type                    object\n",
       "accommodates                  int64\n",
       "bathrooms                   float64\n",
       "bedrooms                    float64\n",
       "beds                        float64\n",
       "bed_type                     object\n",
       "amenities                    object\n",
       "price                        object\n",
       "guests_included               int64\n",
       "extra_people                 object\n",
       "minimum_nights                int64\n",
       "maximum_nights                int64\n",
       "number_of_reviews             int64\n",
       "instant_bookable             object\n",
       "is_business_travel_ready     object\n",
       "cancellation_policy          object\n",
       "year                          int64\n",
       "month                         int64\n",
       "dtype: object"
      ]
     },
     "execution_count": 16,
     "metadata": {},
     "output_type": "execute_result"
    }
   ],
   "source": [
    "df_airbnb.dtypes"
   ]
  },
  {
   "cell_type": "markdown",
   "id": "073e9cc9",
   "metadata": {},
   "source": [
    "Comparing the information from types of the columns with the first line of the dataset"
   ]
  },
  {
   "cell_type": "code",
   "execution_count": 17,
   "id": "83d7c0f3",
   "metadata": {},
   "outputs": [
    {
     "data": {
      "text/plain": [
       "host_is_superhost                                                           f\n",
       "host_listings_count                                                       1.0\n",
       "latitude                                                           -22.946854\n",
       "longitude                                                          -43.182737\n",
       "property_type                                                       Apartment\n",
       "room_type                                                     Entire home/apt\n",
       "accommodates                                                                4\n",
       "bathrooms                                                                 1.0\n",
       "bedrooms                                                                  0.0\n",
       "beds                                                                      2.0\n",
       "bed_type                                                             Real Bed\n",
       "amenities                   {TV,Internet,\"Air conditioning\",Kitchen,Doorma...\n",
       "price                                                                 $133.00\n",
       "guests_included                                                             2\n",
       "extra_people                                                           $34.00\n",
       "minimum_nights                                                             60\n",
       "maximum_nights                                                            365\n",
       "number_of_reviews                                                          38\n",
       "instant_bookable                                                            f\n",
       "is_business_travel_ready                                                    f\n",
       "cancellation_policy                               strict_14_with_grace_period\n",
       "year                                                                     2018\n",
       "month                                                                       4\n",
       "Name: 0, dtype: object"
      ]
     },
     "execution_count": 17,
     "metadata": {},
     "output_type": "execute_result"
    }
   ],
   "source": [
    "df_airbnb.iloc[0]"
   ]
  },
  {
   "cell_type": "markdown",
   "id": "dbd71724",
   "metadata": {},
   "source": [
    "By comparing both information following columns have to be changed:\n",
    "\n",
    "    - Price\n",
    "    \n",
    "    - Extra People"
   ]
  },
  {
   "cell_type": "code",
   "execution_count": 18,
   "id": "baf56777",
   "metadata": {},
   "outputs": [],
   "source": [
    "import numpy as np"
   ]
  },
  {
   "cell_type": "markdown",
   "id": "b7d8409a",
   "metadata": {},
   "source": [
    "Applying the necessary changes to both columns identified earlier"
   ]
  },
  {
   "cell_type": "code",
   "execution_count": 19,
   "id": "46815a5d",
   "metadata": {},
   "outputs": [
    {
     "data": {
      "text/plain": [
       "host_is_superhost            object\n",
       "host_listings_count         float64\n",
       "latitude                    float64\n",
       "longitude                   float64\n",
       "property_type                object\n",
       "room_type                    object\n",
       "accommodates                  int64\n",
       "bathrooms                   float64\n",
       "bedrooms                    float64\n",
       "beds                        float64\n",
       "bed_type                     object\n",
       "amenities                    object\n",
       "price                       float32\n",
       "guests_included               int64\n",
       "extra_people                float32\n",
       "minimum_nights                int64\n",
       "maximum_nights                int64\n",
       "number_of_reviews             int64\n",
       "instant_bookable             object\n",
       "is_business_travel_ready     object\n",
       "cancellation_policy          object\n",
       "year                          int64\n",
       "month                         int64\n",
       "dtype: object"
      ]
     },
     "execution_count": 19,
     "metadata": {},
     "output_type": "execute_result"
    }
   ],
   "source": [
    "### Price\n",
    "df_airbnb['price'] = df_airbnb['price'].str.replace('$','')\n",
    "df_airbnb['price'] = df_airbnb['price'].str.replace(',','')\n",
    "df_airbnb['price'] = df_airbnb['price'].astype(np.float32, copy=False)\n",
    "\n",
    "### Extra People\n",
    "df_airbnb['extra_people'] = df_airbnb['extra_people'].str.replace('$','')\n",
    "df_airbnb['extra_people'] = df_airbnb['extra_people'].str.replace(',','')\n",
    "df_airbnb['extra_people'] = df_airbnb['extra_people'].astype(np.float32, copy=False)\n",
    "\n",
    "df_airbnb.dtypes"
   ]
  },
  {
   "cell_type": "markdown",
   "id": "39eaa406",
   "metadata": {},
   "source": [
    "## Exploratory Analysis"
   ]
  },
  {
   "cell_type": "markdown",
   "id": "a4e703ea",
   "metadata": {},
   "source": [
    "Checking the correlation between the columns that are left and check if they can tell if it's on the right path"
   ]
  },
  {
   "cell_type": "code",
   "execution_count": 20,
   "id": "42e06c33",
   "metadata": {
    "scrolled": false
   },
   "outputs": [
    {
     "data": {
      "text/html": [
       "<div>\n",
       "<style scoped>\n",
       "    .dataframe tbody tr th:only-of-type {\n",
       "        vertical-align: middle;\n",
       "    }\n",
       "\n",
       "    .dataframe tbody tr th {\n",
       "        vertical-align: top;\n",
       "    }\n",
       "\n",
       "    .dataframe thead th {\n",
       "        text-align: right;\n",
       "    }\n",
       "</style>\n",
       "<table border=\"1\" class=\"dataframe\">\n",
       "  <thead>\n",
       "    <tr style=\"text-align: right;\">\n",
       "      <th></th>\n",
       "      <th>host_listings_count</th>\n",
       "      <th>latitude</th>\n",
       "      <th>longitude</th>\n",
       "      <th>accommodates</th>\n",
       "      <th>bathrooms</th>\n",
       "      <th>bedrooms</th>\n",
       "      <th>beds</th>\n",
       "      <th>price</th>\n",
       "      <th>guests_included</th>\n",
       "      <th>extra_people</th>\n",
       "      <th>minimum_nights</th>\n",
       "      <th>maximum_nights</th>\n",
       "      <th>number_of_reviews</th>\n",
       "      <th>year</th>\n",
       "      <th>month</th>\n",
       "    </tr>\n",
       "  </thead>\n",
       "  <tbody>\n",
       "    <tr>\n",
       "      <th>host_listings_count</th>\n",
       "      <td>1.000000</td>\n",
       "      <td>-0.034115</td>\n",
       "      <td>0.063635</td>\n",
       "      <td>0.069320</td>\n",
       "      <td>0.022332</td>\n",
       "      <td>0.039712</td>\n",
       "      <td>0.042788</td>\n",
       "      <td>0.092306</td>\n",
       "      <td>0.041932</td>\n",
       "      <td>-0.031589</td>\n",
       "      <td>-0.006441</td>\n",
       "      <td>-0.000100</td>\n",
       "      <td>-0.025974</td>\n",
       "      <td>0.031802</td>\n",
       "      <td>-0.009584</td>\n",
       "    </tr>\n",
       "    <tr>\n",
       "      <th>latitude</th>\n",
       "      <td>-0.034115</td>\n",
       "      <td>1.000000</td>\n",
       "      <td>0.370416</td>\n",
       "      <td>-0.142082</td>\n",
       "      <td>-0.169135</td>\n",
       "      <td>-0.165050</td>\n",
       "      <td>-0.113931</td>\n",
       "      <td>-0.092437</td>\n",
       "      <td>-0.091123</td>\n",
       "      <td>-0.041113</td>\n",
       "      <td>-0.016090</td>\n",
       "      <td>-0.001386</td>\n",
       "      <td>-0.046044</td>\n",
       "      <td>0.002595</td>\n",
       "      <td>0.002358</td>\n",
       "    </tr>\n",
       "    <tr>\n",
       "      <th>longitude</th>\n",
       "      <td>0.063635</td>\n",
       "      <td>0.370416</td>\n",
       "      <td>1.000000</td>\n",
       "      <td>-0.121746</td>\n",
       "      <td>-0.170504</td>\n",
       "      <td>-0.186332</td>\n",
       "      <td>-0.110392</td>\n",
       "      <td>-0.085526</td>\n",
       "      <td>0.049375</td>\n",
       "      <td>0.001723</td>\n",
       "      <td>-0.019213</td>\n",
       "      <td>0.003403</td>\n",
       "      <td>0.135377</td>\n",
       "      <td>0.012589</td>\n",
       "      <td>-0.007981</td>\n",
       "    </tr>\n",
       "    <tr>\n",
       "      <th>accommodates</th>\n",
       "      <td>0.069320</td>\n",
       "      <td>-0.142082</td>\n",
       "      <td>-0.121746</td>\n",
       "      <td>1.000000</td>\n",
       "      <td>0.521909</td>\n",
       "      <td>0.675913</td>\n",
       "      <td>0.692740</td>\n",
       "      <td>0.269929</td>\n",
       "      <td>0.317563</td>\n",
       "      <td>0.078709</td>\n",
       "      <td>0.024583</td>\n",
       "      <td>-0.004242</td>\n",
       "      <td>-0.029873</td>\n",
       "      <td>-0.000808</td>\n",
       "      <td>-0.003446</td>\n",
       "    </tr>\n",
       "    <tr>\n",
       "      <th>bathrooms</th>\n",
       "      <td>0.022332</td>\n",
       "      <td>-0.169135</td>\n",
       "      <td>-0.170504</td>\n",
       "      <td>0.521909</td>\n",
       "      <td>1.000000</td>\n",
       "      <td>0.631544</td>\n",
       "      <td>0.491525</td>\n",
       "      <td>0.310847</td>\n",
       "      <td>0.171695</td>\n",
       "      <td>0.077831</td>\n",
       "      <td>0.035884</td>\n",
       "      <td>-0.000780</td>\n",
       "      <td>-0.069505</td>\n",
       "      <td>-0.009636</td>\n",
       "      <td>0.003829</td>\n",
       "    </tr>\n",
       "    <tr>\n",
       "      <th>bedrooms</th>\n",
       "      <td>0.039712</td>\n",
       "      <td>-0.165050</td>\n",
       "      <td>-0.186332</td>\n",
       "      <td>0.675913</td>\n",
       "      <td>0.631544</td>\n",
       "      <td>1.000000</td>\n",
       "      <td>0.625313</td>\n",
       "      <td>0.321678</td>\n",
       "      <td>0.259657</td>\n",
       "      <td>0.078900</td>\n",
       "      <td>0.036767</td>\n",
       "      <td>-0.002110</td>\n",
       "      <td>-0.083678</td>\n",
       "      <td>-0.007163</td>\n",
       "      <td>0.002786</td>\n",
       "    </tr>\n",
       "    <tr>\n",
       "      <th>beds</th>\n",
       "      <td>0.042788</td>\n",
       "      <td>-0.113931</td>\n",
       "      <td>-0.110392</td>\n",
       "      <td>0.692740</td>\n",
       "      <td>0.491525</td>\n",
       "      <td>0.625313</td>\n",
       "      <td>1.000000</td>\n",
       "      <td>0.204713</td>\n",
       "      <td>0.278757</td>\n",
       "      <td>0.077806</td>\n",
       "      <td>0.017696</td>\n",
       "      <td>-0.003065</td>\n",
       "      <td>-0.021365</td>\n",
       "      <td>-0.012212</td>\n",
       "      <td>0.000399</td>\n",
       "    </tr>\n",
       "    <tr>\n",
       "      <th>price</th>\n",
       "      <td>0.092306</td>\n",
       "      <td>-0.092437</td>\n",
       "      <td>-0.085526</td>\n",
       "      <td>0.269929</td>\n",
       "      <td>0.310847</td>\n",
       "      <td>0.321678</td>\n",
       "      <td>0.204713</td>\n",
       "      <td>1.000000</td>\n",
       "      <td>0.032171</td>\n",
       "      <td>0.044735</td>\n",
       "      <td>0.027418</td>\n",
       "      <td>-0.001142</td>\n",
       "      <td>-0.078023</td>\n",
       "      <td>0.017889</td>\n",
       "      <td>-0.003071</td>\n",
       "    </tr>\n",
       "    <tr>\n",
       "      <th>guests_included</th>\n",
       "      <td>0.041932</td>\n",
       "      <td>-0.091123</td>\n",
       "      <td>0.049375</td>\n",
       "      <td>0.317563</td>\n",
       "      <td>0.171695</td>\n",
       "      <td>0.259657</td>\n",
       "      <td>0.278757</td>\n",
       "      <td>0.032171</td>\n",
       "      <td>1.000000</td>\n",
       "      <td>0.290723</td>\n",
       "      <td>0.005280</td>\n",
       "      <td>-0.000817</td>\n",
       "      <td>0.113160</td>\n",
       "      <td>0.027499</td>\n",
       "      <td>-0.007374</td>\n",
       "    </tr>\n",
       "    <tr>\n",
       "      <th>extra_people</th>\n",
       "      <td>-0.031589</td>\n",
       "      <td>-0.041113</td>\n",
       "      <td>0.001723</td>\n",
       "      <td>0.078709</td>\n",
       "      <td>0.077831</td>\n",
       "      <td>0.078900</td>\n",
       "      <td>0.077806</td>\n",
       "      <td>0.044735</td>\n",
       "      <td>0.290723</td>\n",
       "      <td>1.000000</td>\n",
       "      <td>0.020384</td>\n",
       "      <td>-0.000452</td>\n",
       "      <td>0.012267</td>\n",
       "      <td>0.013560</td>\n",
       "      <td>-0.002604</td>\n",
       "    </tr>\n",
       "    <tr>\n",
       "      <th>minimum_nights</th>\n",
       "      <td>-0.006441</td>\n",
       "      <td>-0.016090</td>\n",
       "      <td>-0.019213</td>\n",
       "      <td>0.024583</td>\n",
       "      <td>0.035884</td>\n",
       "      <td>0.036767</td>\n",
       "      <td>0.017696</td>\n",
       "      <td>0.027418</td>\n",
       "      <td>0.005280</td>\n",
       "      <td>0.020384</td>\n",
       "      <td>1.000000</td>\n",
       "      <td>-0.000707</td>\n",
       "      <td>-0.023387</td>\n",
       "      <td>0.009132</td>\n",
       "      <td>0.002988</td>\n",
       "    </tr>\n",
       "    <tr>\n",
       "      <th>maximum_nights</th>\n",
       "      <td>-0.000100</td>\n",
       "      <td>-0.001386</td>\n",
       "      <td>0.003403</td>\n",
       "      <td>-0.004242</td>\n",
       "      <td>-0.000780</td>\n",
       "      <td>-0.002110</td>\n",
       "      <td>-0.003065</td>\n",
       "      <td>-0.001142</td>\n",
       "      <td>-0.000817</td>\n",
       "      <td>-0.000452</td>\n",
       "      <td>-0.000707</td>\n",
       "      <td>1.000000</td>\n",
       "      <td>0.004687</td>\n",
       "      <td>-0.004358</td>\n",
       "      <td>0.000636</td>\n",
       "    </tr>\n",
       "    <tr>\n",
       "      <th>number_of_reviews</th>\n",
       "      <td>-0.025974</td>\n",
       "      <td>-0.046044</td>\n",
       "      <td>0.135377</td>\n",
       "      <td>-0.029873</td>\n",
       "      <td>-0.069505</td>\n",
       "      <td>-0.083678</td>\n",
       "      <td>-0.021365</td>\n",
       "      <td>-0.078023</td>\n",
       "      <td>0.113160</td>\n",
       "      <td>0.012267</td>\n",
       "      <td>-0.023387</td>\n",
       "      <td>0.004687</td>\n",
       "      <td>1.000000</td>\n",
       "      <td>0.061730</td>\n",
       "      <td>-0.009795</td>\n",
       "    </tr>\n",
       "    <tr>\n",
       "      <th>year</th>\n",
       "      <td>0.031802</td>\n",
       "      <td>0.002595</td>\n",
       "      <td>0.012589</td>\n",
       "      <td>-0.000808</td>\n",
       "      <td>-0.009636</td>\n",
       "      <td>-0.007163</td>\n",
       "      <td>-0.012212</td>\n",
       "      <td>0.017889</td>\n",
       "      <td>0.027499</td>\n",
       "      <td>0.013560</td>\n",
       "      <td>0.009132</td>\n",
       "      <td>-0.004358</td>\n",
       "      <td>0.061730</td>\n",
       "      <td>1.000000</td>\n",
       "      <td>-0.518956</td>\n",
       "    </tr>\n",
       "    <tr>\n",
       "      <th>month</th>\n",
       "      <td>-0.009584</td>\n",
       "      <td>0.002358</td>\n",
       "      <td>-0.007981</td>\n",
       "      <td>-0.003446</td>\n",
       "      <td>0.003829</td>\n",
       "      <td>0.002786</td>\n",
       "      <td>0.000399</td>\n",
       "      <td>-0.003071</td>\n",
       "      <td>-0.007374</td>\n",
       "      <td>-0.002604</td>\n",
       "      <td>0.002988</td>\n",
       "      <td>0.000636</td>\n",
       "      <td>-0.009795</td>\n",
       "      <td>-0.518956</td>\n",
       "      <td>1.000000</td>\n",
       "    </tr>\n",
       "  </tbody>\n",
       "</table>\n",
       "</div>"
      ],
      "text/plain": [
       "                     host_listings_count  latitude  longitude  accommodates  \\\n",
       "host_listings_count             1.000000 -0.034115   0.063635      0.069320   \n",
       "latitude                       -0.034115  1.000000   0.370416     -0.142082   \n",
       "longitude                       0.063635  0.370416   1.000000     -0.121746   \n",
       "accommodates                    0.069320 -0.142082  -0.121746      1.000000   \n",
       "bathrooms                       0.022332 -0.169135  -0.170504      0.521909   \n",
       "bedrooms                        0.039712 -0.165050  -0.186332      0.675913   \n",
       "beds                            0.042788 -0.113931  -0.110392      0.692740   \n",
       "price                           0.092306 -0.092437  -0.085526      0.269929   \n",
       "guests_included                 0.041932 -0.091123   0.049375      0.317563   \n",
       "extra_people                   -0.031589 -0.041113   0.001723      0.078709   \n",
       "minimum_nights                 -0.006441 -0.016090  -0.019213      0.024583   \n",
       "maximum_nights                 -0.000100 -0.001386   0.003403     -0.004242   \n",
       "number_of_reviews              -0.025974 -0.046044   0.135377     -0.029873   \n",
       "year                            0.031802  0.002595   0.012589     -0.000808   \n",
       "month                          -0.009584  0.002358  -0.007981     -0.003446   \n",
       "\n",
       "                     bathrooms  bedrooms      beds     price  guests_included  \\\n",
       "host_listings_count   0.022332  0.039712  0.042788  0.092306         0.041932   \n",
       "latitude             -0.169135 -0.165050 -0.113931 -0.092437        -0.091123   \n",
       "longitude            -0.170504 -0.186332 -0.110392 -0.085526         0.049375   \n",
       "accommodates          0.521909  0.675913  0.692740  0.269929         0.317563   \n",
       "bathrooms             1.000000  0.631544  0.491525  0.310847         0.171695   \n",
       "bedrooms              0.631544  1.000000  0.625313  0.321678         0.259657   \n",
       "beds                  0.491525  0.625313  1.000000  0.204713         0.278757   \n",
       "price                 0.310847  0.321678  0.204713  1.000000         0.032171   \n",
       "guests_included       0.171695  0.259657  0.278757  0.032171         1.000000   \n",
       "extra_people          0.077831  0.078900  0.077806  0.044735         0.290723   \n",
       "minimum_nights        0.035884  0.036767  0.017696  0.027418         0.005280   \n",
       "maximum_nights       -0.000780 -0.002110 -0.003065 -0.001142        -0.000817   \n",
       "number_of_reviews    -0.069505 -0.083678 -0.021365 -0.078023         0.113160   \n",
       "year                 -0.009636 -0.007163 -0.012212  0.017889         0.027499   \n",
       "month                 0.003829  0.002786  0.000399 -0.003071        -0.007374   \n",
       "\n",
       "                     extra_people  minimum_nights  maximum_nights  \\\n",
       "host_listings_count     -0.031589       -0.006441       -0.000100   \n",
       "latitude                -0.041113       -0.016090       -0.001386   \n",
       "longitude                0.001723       -0.019213        0.003403   \n",
       "accommodates             0.078709        0.024583       -0.004242   \n",
       "bathrooms                0.077831        0.035884       -0.000780   \n",
       "bedrooms                 0.078900        0.036767       -0.002110   \n",
       "beds                     0.077806        0.017696       -0.003065   \n",
       "price                    0.044735        0.027418       -0.001142   \n",
       "guests_included          0.290723        0.005280       -0.000817   \n",
       "extra_people             1.000000        0.020384       -0.000452   \n",
       "minimum_nights           0.020384        1.000000       -0.000707   \n",
       "maximum_nights          -0.000452       -0.000707        1.000000   \n",
       "number_of_reviews        0.012267       -0.023387        0.004687   \n",
       "year                     0.013560        0.009132       -0.004358   \n",
       "month                   -0.002604        0.002988        0.000636   \n",
       "\n",
       "                     number_of_reviews      year     month  \n",
       "host_listings_count          -0.025974  0.031802 -0.009584  \n",
       "latitude                     -0.046044  0.002595  0.002358  \n",
       "longitude                     0.135377  0.012589 -0.007981  \n",
       "accommodates                 -0.029873 -0.000808 -0.003446  \n",
       "bathrooms                    -0.069505 -0.009636  0.003829  \n",
       "bedrooms                     -0.083678 -0.007163  0.002786  \n",
       "beds                         -0.021365 -0.012212  0.000399  \n",
       "price                        -0.078023  0.017889 -0.003071  \n",
       "guests_included               0.113160  0.027499 -0.007374  \n",
       "extra_people                  0.012267  0.013560 -0.002604  \n",
       "minimum_nights               -0.023387  0.009132  0.002988  \n",
       "maximum_nights                0.004687 -0.004358  0.000636  \n",
       "number_of_reviews             1.000000  0.061730 -0.009795  \n",
       "year                          0.061730  1.000000 -0.518956  \n",
       "month                        -0.009795 -0.518956  1.000000  "
      ]
     },
     "execution_count": 20,
     "metadata": {},
     "output_type": "execute_result"
    }
   ],
   "source": [
    "df_airbnb.corr()"
   ]
  },
  {
   "cell_type": "markdown",
   "id": "e5454e4c",
   "metadata": {},
   "source": [
    "It's better to visualize the above information as the heatmap as done previously"
   ]
  },
  {
   "cell_type": "code",
   "execution_count": 21,
   "id": "052265e4",
   "metadata": {
    "scrolled": false
   },
   "outputs": [
    {
     "data": {
      "image/png": "[encoded data removed]",
      "text/plain": [
       "<Figure size 1080x720 with 2 Axes>"
      ]
     },
     "metadata": {
      "needs_background": "light"
     },
     "output_type": "display_data"
    }
   ],
   "source": [
    "correlation_matrix = df_airbnb.corr()\n",
    "fig, ax = plt.subplots(figsize=(15,10))\n",
    "ax = sns.heatmap(correlation_matrix, linewidths=0.5, annot=True,cmap=\"YlGnBu\");"
   ]
  },
  {
   "cell_type": "markdown",
   "id": "ea60b9a4",
   "metadata": {},
   "source": [
    "Analyzing the information describe from the correlation seems that all columns left are good to prepare the model and start working to predict the price.\n",
    "\n",
    "Next steps: \n",
    "* Identify outliers from each columns:\n",
    "    - The outlier will be calculated according to the amplitude between the 1st and 3rd quartile.\n",
    "    - The amplitude between the difference from 3rd and 1st quartile.\n",
    "* Calculate the limit of each outlier and removing the ones above\n",
    "\n",
    "\n",
    "Will be creating functions to calculate the outlier on each column and graph for each column to better analyse the information being extracted from the dataset"
   ]
  },
  {
   "cell_type": "code",
   "execution_count": 22,
   "id": "2fbb16f9",
   "metadata": {},
   "outputs": [],
   "source": [
    "def quartile_limits(column):\n",
    "    q1 = column.quantile(0.25)\n",
    "    q3 = column.quantile(0.75)\n",
    "    amplitude = q3 - q1\n",
    "    lower_limit = q1 - (1.5*amplitude)\n",
    "    higher_limit = q3 + (1.5*amplitude)\n",
    "    return lower_limit, higher_limit"
   ]
  },
  {
   "cell_type": "code",
   "execution_count": 23,
   "id": "e3fc7d8c",
   "metadata": {},
   "outputs": [
    {
     "data": {
      "text/plain": [
       "(-524.0, 1276.0)"
      ]
     },
     "execution_count": 23,
     "metadata": {},
     "output_type": "execute_result"
    }
   ],
   "source": [
    "quartile_limits(df_airbnb['price'])"
   ]
  },
  {
   "cell_type": "code",
   "execution_count": 24,
   "id": "603a283d",
   "metadata": {},
   "outputs": [],
   "source": [
    "def box_plotting(column):\n",
    "    fig,(ax1,ax2) = plt.subplots(1,2)\n",
    "    fig.set_size_inches(15,5)\n",
    "    sns.boxplot(x=column,ax=ax1)\n",
    "    ax2.set_xlim(quartile_limits(column))\n",
    "    sns.boxplot(x=column,ax=ax2)"
   ]
  },
  {
   "cell_type": "code",
   "execution_count": 25,
   "id": "62f6bf54",
   "metadata": {},
   "outputs": [],
   "source": [
    "def histogram(column):\n",
    "    plt.figure(figsize=(15,5))\n",
    "    sns.histplot(x=column,discrete=True,kde=True)"
   ]
  },
  {
   "cell_type": "code",
   "execution_count": 42,
   "id": "2ba4f554",
   "metadata": {},
   "outputs": [],
   "source": [
    "def bar_graph(column):\n",
    "    plt.figure(figsize=(15,5))\n",
    "    ax = sns.barplot(x=column.value_counts().index, y=column.value_counts())\n",
    "    ax.set_xlim(quartile_limits(column))"
   ]
  },
  {
   "cell_type": "markdown",
   "id": "995d4d67",
   "metadata": {},
   "source": [
    "### Analyzing the Price column"
   ]
  },
  {
   "cell_type": "markdown",
   "id": "afc1bf5b",
   "metadata": {},
   "source": [
    "### Price"
   ]
  },
  {
   "cell_type": "code",
   "execution_count": 27,
   "id": "c0aa9b28",
   "metadata": {},
   "outputs": [
    {
     "data": {
      "image/png": "[encoded data removed]",
      "text/plain": [
       "<Figure size 1080x360 with 2 Axes>"
      ]
     },
     "metadata": {
      "needs_background": "light"
     },
     "output_type": "display_data"
    }
   ],
   "source": [
    "box_plotting(df_airbnb['price'])"
   ]
  },
  {
   "cell_type": "code",
   "execution_count": 28,
   "id": "14533245",
   "metadata": {},
   "outputs": [
    {
     "data": {
      "image/png": "[encoded data removed]",
      "text/plain": [
       "<Figure size 1080x360 with 1 Axes>"
      ]
     },
     "metadata": {
      "needs_background": "light"
     },
     "output_type": "display_data"
    }
   ],
   "source": [
    "histogram(df_airbnb['price'])"
   ]
  },
  {
   "cell_type": "markdown",
   "id": "66d5ac83",
   "metadata": {},
   "source": [
    "As verifying the information provided by the graphs some outliers stand out into the it's daily price. \n",
    "\n",
    "I will be removing those outliers to leave only Airbnb values that are more related towards affordable money. It's good to know there are very luxury rents but that's not the main reason for the use of this code.\n",
    "\n",
    "Will be applying the function of the quartile function to perform this task inside of a new function of \"exclude_outlier\" so I don't have to this manually which could lead to some miss delete or letting any pass by without properly creating conditions for it. "
   ]
  },
  {
   "cell_type": "code",
   "execution_count": 29,
   "id": "c26cb96f",
   "metadata": {},
   "outputs": [],
   "source": [
    "def exclude_outliers(df, column):\n",
    "    amount_lines = df.shape[0]\n",
    "    lower_value, high_value = quartile_limits(df[column])\n",
    "    df = df.loc[(df[column]>= lower_value) & (df[column] <= high_value),:]\n",
    "    lines_excluded = amount_lines - df.shape[0]\n",
    "    return df, lines_excluded"
   ]
  },
  {
   "cell_type": "code",
   "execution_count": 30,
   "id": "81d802b5",
   "metadata": {},
   "outputs": [
    {
     "name": "stdout",
     "output_type": "stream",
     "text": [
      "87282 amount of lines removed\n"
     ]
    }
   ],
   "source": [
    "df_airbnb, amount_lines = exclude_outliers(df_airbnb, 'price')\n",
    "print('{} amount of lines removed'.format(amount_lines))"
   ]
  },
  {
   "cell_type": "code",
   "execution_count": 31,
   "id": "db2f9fae",
   "metadata": {},
   "outputs": [
    {
     "data": {
      "image/png": "[encoded data removed]",
      "text/plain": [
       "<Figure size 1080x360 with 1 Axes>"
      ]
     },
     "metadata": {
      "needs_background": "light"
     },
     "output_type": "display_data"
    }
   ],
   "source": [
    "histogram(df_airbnb['price'])"
   ]
  },
  {
   "cell_type": "code",
   "execution_count": 32,
   "id": "d757a62b",
   "metadata": {},
   "outputs": [
    {
     "data": {
      "text/plain": [
       "(810427, 23)"
      ]
     },
     "execution_count": 32,
     "metadata": {},
     "output_type": "execute_result"
    }
   ],
   "source": [
    "df_airbnb.shape"
   ]
  },
  {
   "cell_type": "markdown",
   "id": "a7ebe9e8",
   "metadata": {},
   "source": [
    "### Extra People"
   ]
  },
  {
   "cell_type": "code",
   "execution_count": 33,
   "id": "399a5c8d",
   "metadata": {},
   "outputs": [
    {
     "data": {
      "image/png": "[encoded data removed]",
      "text/plain": [
       "<Figure size 1080x360 with 2 Axes>"
      ]
     },
     "metadata": {
      "needs_background": "light"
     },
     "output_type": "display_data"
    }
   ],
   "source": [
    "box_plotting(df_airbnb['extra_people'])"
   ]
  },
  {
   "cell_type": "code",
   "execution_count": 34,
   "id": "c98bdab8",
   "metadata": {},
   "outputs": [
    {
     "data": {
      "image/png": "[encoded data removed]",
      "text/plain": [
       "<Figure size 1080x360 with 1 Axes>"
      ]
     },
     "metadata": {
      "needs_background": "light"
     },
     "output_type": "display_data"
    }
   ],
   "source": [
    "histogram(df_airbnb['extra_people'])"
   ]
  },
  {
   "cell_type": "code",
   "execution_count": 35,
   "id": "9d67300d",
   "metadata": {},
   "outputs": [
    {
     "name": "stdout",
     "output_type": "stream",
     "text": [
      "59194 amount of lines removed\n"
     ]
    }
   ],
   "source": [
    "df_airbnb, amount_lines = exclude_outliers(df_airbnb, 'extra_people')\n",
    "print('{} amount of lines removed'.format(amount_lines))"
   ]
  },
  {
   "cell_type": "code",
   "execution_count": 36,
   "id": "ab89fe57",
   "metadata": {},
   "outputs": [
    {
     "data": {
      "image/png": "[encoded data removed]",
      "text/plain": [
       "<Figure size 1080x360 with 1 Axes>"
      ]
     },
     "metadata": {
      "needs_background": "light"
     },
     "output_type": "display_data"
    }
   ],
   "source": [
    "histogram(df_airbnb['extra_people'])"
   ]
  },
  {
   "cell_type": "code",
   "execution_count": 37,
   "id": "97b90eb2",
   "metadata": {},
   "outputs": [
    {
     "data": {
      "text/plain": [
       "(751233, 23)"
      ]
     },
     "execution_count": 37,
     "metadata": {},
     "output_type": "execute_result"
    }
   ],
   "source": [
    "df_airbnb.shape"
   ]
  },
  {
   "cell_type": "markdown",
   "id": "633e4fe6",
   "metadata": {},
   "source": [
    "### Host_Listings_Count"
   ]
  },
  {
   "cell_type": "code",
   "execution_count": 38,
   "id": "1c3be6ca",
   "metadata": {},
   "outputs": [
    {
     "data": {
      "image/png": "[encoded data removed]",
      "text/plain": [
       "<Figure size 1080x360 with 2 Axes>"
      ]
     },
     "metadata": {
      "needs_background": "light"
     },
     "output_type": "display_data"
    }
   ],
   "source": [
    "box_plotting(df_airbnb['host_listings_count'])"
   ]
  },
  {
   "cell_type": "code",
   "execution_count": 43,
   "id": "a6abaa22",
   "metadata": {
    "scrolled": false
   },
   "outputs": [
    {
     "data": {
      "image/png": "[encoded data removed]",
      "text/plain": [
       "<Figure size 1080x360 with 1 Axes>"
      ]
     },
     "metadata": {
      "needs_background": "light"
     },
     "output_type": "display_data"
    }
   ],
   "source": [
    "bar_graph(df_airbnb['host_listings_count'])"
   ]
  },
  {
   "cell_type": "markdown",
   "id": "33ef562d",
   "metadata": {},
   "source": [
    "By analyzing the graphs I will remove the outliers from the host_listing_counts, because the vast majority don't have 6 or more houses listed on the Airbnb, therefore I can safely remove this outlier without having any problem with my model in the feature"
   ]
  },
  {
   "cell_type": "code",
   "execution_count": 45,
   "id": "77f27af8",
   "metadata": {},
   "outputs": [
    {
     "name": "stdout",
     "output_type": "stream",
     "text": [
      "97723 amount of lines removed\n"
     ]
    }
   ],
   "source": [
    "df_airbnb, amount_lines = exclude_outliers(df_airbnb, 'host_listings_count')\n",
    "print('{} amount of lines removed'.format(amount_lines))"
   ]
  },
  {
   "cell_type": "markdown",
   "id": "7787231f",
   "metadata": {},
   "source": [
    "### Accommodates"
   ]
  },
  {
   "cell_type": "code",
   "execution_count": 48,
   "id": "5a861df3",
   "metadata": {
    "scrolled": true
   },
   "outputs": [
    {
     "data": {
      "image/png": "[encoded data removed]",
      "text/plain": [
       "<Figure size 1080x360 with 2 Axes>"
      ]
     },
     "metadata": {
      "needs_background": "light"
     },
     "output_type": "display_data"
    }
   ],
   "source": [
    "box_plotting(df_airbnb['accommodates'])"
   ]
  },
  {
   "cell_type": "code",
   "execution_count": 49,
   "id": "f8fcdeb8",
   "metadata": {},
   "outputs": [
    {
     "data": {
      "image/png": "[encoded data removed]",
      "text/plain": [
       "<Figure size 1080x360 with 1 Axes>"
      ]
     },
     "metadata": {
      "needs_background": "light"
     },
     "output_type": "display_data"
    }
   ],
   "source": [
    "bar_graph(df_airbnb['accommodates'])"
   ]
  },
  {
   "cell_type": "markdown",
   "id": "9544ebda",
   "metadata": {},
   "source": [
    "Will be removing the outliers from accommodates since the majority of hosts don't accommodates more than 8 and not many people look into a big house when they are looking for an Airbnb.\n",
    "\n",
    "In this case of study, I'm trying to create a model that could predict based on inputs if the price is expensive or ideal for certain house."
   ]
  },
  {
   "cell_type": "code",
   "execution_count": 50,
   "id": "2b2c6384",
   "metadata": {},
   "outputs": [
    {
     "name": "stdout",
     "output_type": "stream",
     "text": [
      "13146 amount of lines removed\n"
     ]
    }
   ],
   "source": [
    "df_airbnb, amount_lines = exclude_outliers(df_airbnb, 'accommodates')\n",
    "print('{} amount of lines removed'.format(amount_lines))"
   ]
  },
  {
   "cell_type": "markdown",
   "id": "3a5b97aa",
   "metadata": {},
   "source": [
    "### Bathrooms"
   ]
  },
  {
   "cell_type": "code",
   "execution_count": 51,
   "id": "da7a888e",
   "metadata": {
    "scrolled": true
   },
   "outputs": [
    {
     "data": {
      "image/png": "[encoded data removed]",
      "text/plain": [
       "<Figure size 1080x360 with 2 Axes>"
      ]
     },
     "metadata": {
      "needs_background": "light"
     },
     "output_type": "display_data"
    }
   ],
   "source": [
    "box_plotting(df_airbnb['bathrooms'])"
   ]
  },
  {
   "cell_type": "code",
   "execution_count": 52,
   "id": "642f0514",
   "metadata": {
    "scrolled": true
   },
   "outputs": [
    {
     "data": {
      "image/png": "[encoded data removed]",
      "text/plain": [
       "<Figure size 1080x360 with 1 Axes>"
      ]
     },
     "metadata": {
      "needs_background": "light"
     },
     "output_type": "display_data"
    }
   ],
   "source": [
    "bar_graph(df_airbnb['bathrooms'])"
   ]
  },
  {
   "cell_type": "markdown",
   "id": "c384a66b",
   "metadata": {},
   "source": [
    "Bathroom bar_graph is appearing a little weird than expected, so in this case I will make the graph without the function so I can visualize every count properly."
   ]
  },
  {
   "cell_type": "code",
   "execution_count": 54,
   "id": "01f85b32",
   "metadata": {},
   "outputs": [
    {
     "data": {
      "image/png": "[encoded data removed]",
      "text/plain": [
       "<Figure size 1080x360 with 1 Axes>"
      ]
     },
     "metadata": {
      "needs_background": "light"
     },
     "output_type": "display_data"
    }
   ],
   "source": [
    "plt.figure(figsize=(15,5))\n",
    "sns.barplot(x=df_airbnb['bathrooms'].value_counts().index, y=df_airbnb['bathrooms'].value_counts());"
   ]
  },
  {
   "cell_type": "markdown",
   "id": "e0c374be",
   "metadata": {},
   "source": [
    "Analyzing the correct graph I will remove the houses with more bathrooms than 3.5 because that would be a giant house or mansion, not in the type of house/home I would like to rent to spend some weekend."
   ]
  },
  {
   "cell_type": "code",
   "execution_count": 55,
   "id": "37da1a20",
   "metadata": {},
   "outputs": [
    {
     "name": "stdout",
     "output_type": "stream",
     "text": [
      "6894 amount of lines removed\n"
     ]
    }
   ],
   "source": [
    "df_airbnb, amount_lines = exclude_outliers(df_airbnb, 'bathrooms')\n",
    "print('{} amount of lines removed'.format(amount_lines))"
   ]
  },
  {
   "cell_type": "markdown",
   "id": "7c06fdb8",
   "metadata": {},
   "source": [
    "### Bedrooms"
   ]
  },
  {
   "cell_type": "code",
   "execution_count": 57,
   "id": "27677366",
   "metadata": {
    "scrolled": true
   },
   "outputs": [
    {
     "data": {
      "image/png": "[encoded data removed]",
      "text/plain": [
       "<Figure size 1080x360 with 2 Axes>"
      ]
     },
     "metadata": {
      "needs_background": "light"
     },
     "output_type": "display_data"
    }
   ],
   "source": [
    "box_plotting(df_airbnb['bedrooms'])"
   ]
  },
  {
   "cell_type": "code",
   "execution_count": 58,
   "id": "ee2690bd",
   "metadata": {
    "scrolled": true
   },
   "outputs": [
    {
     "data": {
      "image/png": "[encoded data removed]",
      "text/plain": [
       "<Figure size 1080x360 with 1 Axes>"
      ]
     },
     "metadata": {
      "needs_background": "light"
     },
     "output_type": "display_data"
    }
   ],
   "source": [
    "bar_graph(df_airbnb['bedrooms'])"
   ]
  },
  {
   "cell_type": "code",
   "execution_count": 61,
   "id": "15ea47fa",
   "metadata": {},
   "outputs": [
    {
     "name": "stdout",
     "output_type": "stream",
     "text": [
      "5482 amount of lines removed\n"
     ]
    }
   ],
   "source": [
    "df_airbnb, amount_lines = exclude_outliers(df_airbnb, 'bedrooms')\n",
    "print('{} amount of lines removed'.format(amount_lines))"
   ]
  },
  {
   "cell_type": "markdown",
   "id": "c3a21f57",
   "metadata": {},
   "source": [
    "Removing the outliers from bedrooms as well because it does not interest for a house with lots of bedrooms when I run this code"
   ]
  },
  {
   "cell_type": "markdown",
   "id": "06e23d60",
   "metadata": {},
   "source": [
    "### Beds"
   ]
  },
  {
   "cell_type": "code",
   "execution_count": 59,
   "id": "a263e405",
   "metadata": {
    "scrolled": true
   },
   "outputs": [
    {
     "data": {
      "image/png": "[encoded data removed]",
      "text/plain": [
       "<Figure size 1080x360 with 2 Axes>"
      ]
     },
     "metadata": {
      "needs_background": "light"
     },
     "output_type": "display_data"
    }
   ],
   "source": [
    "box_plotting(df_airbnb['beds'])"
   ]
  },
  {
   "cell_type": "code",
   "execution_count": 60,
   "id": "4c5b4fd6",
   "metadata": {},
   "outputs": [
    {
     "data": {
      "image/png": "[encoded data removed]",
      "text/plain": [
       "<Figure size 1080x360 with 1 Axes>"
      ]
     },
     "metadata": {
      "needs_background": "light"
     },
     "output_type": "display_data"
    }
   ],
   "source": [
    "bar_graph(df_airbnb['beds'])"
   ]
  },
  {
   "cell_type": "code",
   "execution_count": 62,
   "id": "4dd3f43e",
   "metadata": {},
   "outputs": [
    {
     "name": "stdout",
     "output_type": "stream",
     "text": [
      "5622 amount of lines removed\n"
     ]
    }
   ],
   "source": [
    "df_airbnb, amount_lines = exclude_outliers(df_airbnb, 'beds')\n",
    "print('{} amount of lines removed'.format(amount_lines))"
   ]
  },
  {
   "cell_type": "markdown",
   "id": "1de69831",
   "metadata": {},
   "source": [
    "Removing the house with lots of beds, this is something that does not interest in me since I'm trying to develop the code for a personal purpose in the near future"
   ]
  },
  {
   "cell_type": "markdown",
   "id": "3dc81c01",
   "metadata": {},
   "source": [
    "### Guests_Included"
   ]
  },
  {
   "cell_type": "code",
   "execution_count": 63,
   "id": "42ed314a",
   "metadata": {},
   "outputs": [
    {
     "data": {
      "image/png": "[encoded data removed]",
      "text/plain": [
       "<Figure size 1080x360 with 2 Axes>"
      ]
     },
     "metadata": {
      "needs_background": "light"
     },
     "output_type": "display_data"
    }
   ],
   "source": [
    "box_plotting(df_airbnb['guests_included'])"
   ]
  },
  {
   "cell_type": "code",
   "execution_count": 64,
   "id": "339d7c78",
   "metadata": {
    "scrolled": true
   },
   "outputs": [
    {
     "data": {
      "image/png": "[encoded data removed]",
      "text/plain": [
       "<Figure size 1080x360 with 1 Axes>"
      ]
     },
     "metadata": {
      "needs_background": "light"
     },
     "output_type": "display_data"
    }
   ],
   "source": [
    "bar_graph(df_airbnb['guests_included'])"
   ]
  },
  {
   "cell_type": "code",
   "execution_count": 65,
   "id": "1021093b",
   "metadata": {},
   "outputs": [
    {
     "data": {
      "image/png": "[encoded data removed]",
      "text/plain": [
       "<Figure size 1080x360 with 1 Axes>"
      ]
     },
     "metadata": {
      "needs_background": "light"
     },
     "output_type": "display_data"
    }
   ],
   "source": [
    "plt.figure(figsize=(15,5))\n",
    "sns.barplot(x=df_airbnb['guests_included'].value_counts().index, y=df_airbnb['guests_included'].value_counts());"
   ]
  },
  {
   "cell_type": "code",
   "execution_count": 66,
   "id": "020f41b8",
   "metadata": {},
   "outputs": [
    {
     "data": {
      "text/plain": [
       "1     475691\n",
       "2      81251\n",
       "4      33378\n",
       "3      15616\n",
       "6       8074\n",
       "5       6413\n",
       "7       1009\n",
       "8        595\n",
       "16        87\n",
       "9         82\n",
       "10        65\n",
       "12        57\n",
       "15        23\n",
       "11        15\n",
       "14        10\n",
       "Name: guests_included, dtype: int64"
      ]
     },
     "execution_count": 66,
     "metadata": {},
     "output_type": "execute_result"
    }
   ],
   "source": [
    "df_airbnb['guests_included'].value_counts()"
   ]
  },
  {
   "cell_type": "markdown",
   "id": "61e9b076",
   "metadata": {},
   "source": [
    "By checking the graphs ploted for guests_included and comparing to the value_counts, clearly I can see there is a big problem with the umbalancing data towards how many guets are included, this could make the model use this column with wrong parameter while training\n",
    "\n",
    "Hence this problem I will remove this column from the data analysis and proceed with the others.\n"
   ]
  },
  {
   "cell_type": "code",
   "execution_count": 67,
   "id": "a527a2f9",
   "metadata": {},
   "outputs": [
    {
     "data": {
      "text/plain": [
       "(622366, 22)"
      ]
     },
     "execution_count": 67,
     "metadata": {},
     "output_type": "execute_result"
    }
   ],
   "source": [
    "df_airbnb = df_airbnb.drop('guests_included',axis=1)\n",
    "df_airbnb.shape"
   ]
  },
  {
   "cell_type": "markdown",
   "id": "8cdbfbc7",
   "metadata": {},
   "source": [
    "### Minimum_Nights"
   ]
  },
  {
   "cell_type": "code",
   "execution_count": 72,
   "id": "c1c39401",
   "metadata": {},
   "outputs": [
    {
     "data": {
      "image/png": "[encoded data removed]",
      "text/plain": [
       "<Figure size 1080x360 with 2 Axes>"
      ]
     },
     "metadata": {
      "needs_background": "light"
     },
     "output_type": "display_data"
    }
   ],
   "source": [
    "box_plotting(df_airbnb['minimum_nights'])"
   ]
  },
  {
   "cell_type": "code",
   "execution_count": 71,
   "id": "a70d4a7a",
   "metadata": {},
   "outputs": [
    {
     "data": {
      "image/png": "[encoded data removed]",
      "text/plain": [
       "<Figure size 1080x360 with 1 Axes>"
      ]
     },
     "metadata": {
      "needs_background": "light"
     },
     "output_type": "display_data"
    }
   ],
   "source": [
    "bar_graph(df_airbnb['minimum_nights'])"
   ]
  },
  {
   "cell_type": "markdown",
   "id": "403d662d",
   "metadata": {},
   "source": [
    "Will remove the outliers, I don't plan to stay with big values for minimum nights, since it's a code to find price for renting during weekends or so."
   ]
  },
  {
   "cell_type": "code",
   "execution_count": 73,
   "id": "0ea97be7",
   "metadata": {},
   "outputs": [
    {
     "name": "stdout",
     "output_type": "stream",
     "text": [
      "40383 amount of lines removed\n"
     ]
    }
   ],
   "source": [
    "df_airbnb, amount_lines = exclude_outliers(df_airbnb, 'minimum_nights')\n",
    "print('{} amount of lines removed'.format(amount_lines))"
   ]
  },
  {
   "cell_type": "markdown",
   "id": "5b9b028e",
   "metadata": {},
   "source": [
    "### Maximum_Nights"
   ]
  },
  {
   "cell_type": "code",
   "execution_count": 74,
   "id": "9cdef854",
   "metadata": {},
   "outputs": [
    {
     "data": {
      "image/png": "[encoded data removed]",
      "text/plain": [
       "<Figure size 1080x360 with 2 Axes>"
      ]
     },
     "metadata": {
      "needs_background": "light"
     },
     "output_type": "display_data"
    }
   ],
   "source": [
    "box_plotting(df_airbnb['maximum_nights'])"
   ]
  },
  {
   "cell_type": "code",
   "execution_count": 75,
   "id": "abfc345d",
   "metadata": {},
   "outputs": [
    {
     "data": {
      "image/png": "[encoded data removed]",
      "text/plain": [
       "<Figure size 1080x360 with 1 Axes>"
      ]
     },
     "metadata": {
      "needs_background": "light"
     },
     "output_type": "display_data"
    }
   ],
   "source": [
    "bar_graph(df_airbnb['maximum_nights'])"
   ]
  },
  {
   "cell_type": "code",
   "execution_count": 76,
   "id": "f8186617",
   "metadata": {},
   "outputs": [
    {
     "data": {
      "image/png": "[encoded data removed]",
      "text/plain": [
       "<Figure size 1080x360 with 1 Axes>"
      ]
     },
     "metadata": {
      "needs_background": "light"
     },
     "output_type": "display_data"
    }
   ],
   "source": [
    "plt.figure(figsize=(15,5))\n",
    "sns.barplot(x=df_airbnb['maximum_nights'].value_counts().index, y=df_airbnb['maximum_nights'].value_counts());"
   ]
  },
  {
   "cell_type": "markdown",
   "id": "9713b7cf",
   "metadata": {},
   "source": [
    "By checking the column of Maximum_nights I will also remove because I believe this will impact the model negatively"
   ]
  },
  {
   "cell_type": "code",
   "execution_count": 77,
   "id": "be2ade6b",
   "metadata": {},
   "outputs": [
    {
     "data": {
      "text/plain": [
       "(581983, 21)"
      ]
     },
     "execution_count": 77,
     "metadata": {},
     "output_type": "execute_result"
    }
   ],
   "source": [
    "df_airbnb = df_airbnb.drop('maximum_nights',axis=1)\n",
    "df_airbnb.shape"
   ]
  },
  {
   "cell_type": "markdown",
   "id": "7d9a7bc7",
   "metadata": {},
   "source": [
    "### Number_Of_Reviews"
   ]
  },
  {
   "cell_type": "code",
   "execution_count": 78,
   "id": "410f1058",
   "metadata": {},
   "outputs": [
    {
     "data": {
      "image/png": "[encoded data removed]",
      "text/plain": [
       "<Figure size 1080x360 with 2 Axes>"
      ]
     },
     "metadata": {
      "needs_background": "light"
     },
     "output_type": "display_data"
    }
   ],
   "source": [
    "box_plotting(df_airbnb['number_of_reviews'])"
   ]
  },
  {
   "cell_type": "code",
   "execution_count": 79,
   "id": "d902106f",
   "metadata": {},
   "outputs": [
    {
     "data": {
      "image/png": "[encoded data removed]",
      "text/plain": [
       "<Figure size 1080x360 with 1 Axes>"
      ]
     },
     "metadata": {
      "needs_background": "light"
     },
     "output_type": "display_data"
    }
   ],
   "source": [
    "bar_graph(df_airbnb['number_of_reviews'])"
   ]
  },
  {
   "cell_type": "markdown",
   "id": "9e459e9a",
   "metadata": {},
   "source": [
    "I will not remove the outliers of the number_of_reviews because I believe the reviews can impact on the price."
   ]
  },
  {
   "cell_type": "markdown",
   "id": "69c35e52",
   "metadata": {},
   "source": [
    "### Analysing and handling Categorical Data"
   ]
  },
  {
   "cell_type": "markdown",
   "id": "dd185427",
   "metadata": {},
   "source": [
    "Starting to prepare data for the model"
   ]
  },
  {
   "cell_type": "code",
   "execution_count": 80,
   "id": "bb09af4c",
   "metadata": {},
   "outputs": [
    {
     "data": {
      "text/plain": [
       "host_is_superhost            object\n",
       "host_listings_count         float64\n",
       "latitude                    float64\n",
       "longitude                   float64\n",
       "property_type                object\n",
       "room_type                    object\n",
       "accommodates                  int64\n",
       "bathrooms                   float64\n",
       "bedrooms                    float64\n",
       "beds                        float64\n",
       "bed_type                     object\n",
       "amenities                    object\n",
       "price                       float32\n",
       "extra_people                float32\n",
       "minimum_nights                int64\n",
       "number_of_reviews             int64\n",
       "instant_bookable             object\n",
       "is_business_travel_ready     object\n",
       "cancellation_policy          object\n",
       "year                          int64\n",
       "month                         int64\n",
       "dtype: object"
      ]
     },
     "execution_count": 80,
     "metadata": {},
     "output_type": "execute_result"
    }
   ],
   "source": [
    "df_airbnb.dtypes"
   ]
  },
  {
   "cell_type": "markdown",
   "id": "085db546",
   "metadata": {},
   "source": [
    "The following columns will be handled now:\n",
    "\n",
    "    - Property_type\n",
    "    - Room_type\n",
    "    - Bed_type\n",
    "    - Amenities\n",
    "    - Cancellation Policy\n",
    "    \n",
    "    \n",
    "\n"
   ]
  },
  {
   "cell_type": "markdown",
   "id": "ffedd14a",
   "metadata": {},
   "source": [
    "### Property_types"
   ]
  },
  {
   "cell_type": "code",
   "execution_count": 84,
   "id": "7b950d38",
   "metadata": {},
   "outputs": [
    {
     "data": {
      "text/plain": [
       "Apartment                 458354\n",
       "House                      51387\n",
       "Condominium                26456\n",
       "Serviced apartment         12671\n",
       "Loft                       12352\n",
       "Guest suite                 3621\n",
       "Bed and breakfast           3472\n",
       "Hostel                      2665\n",
       "Guesthouse                  2155\n",
       "Other                       1957\n",
       "Villa                       1294\n",
       "Townhouse                    969\n",
       "Aparthotel                   693\n",
       "Chalet                       481\n",
       "Earth house                  468\n",
       "Tiny house                   457\n",
       "Boutique hotel               447\n",
       "Hotel                        376\n",
       "Casa particular (Cuba)       298\n",
       "Cottage                      230\n",
       "Bungalow                     207\n",
       "Dorm                         185\n",
       "Cabin                        141\n",
       "Nature lodge                 124\n",
       "Castle                        80\n",
       "Treehouse                     76\n",
       "Island                        54\n",
       "Boat                          53\n",
       "Hut                           40\n",
       "Campsite                      34\n",
       "Resort                        31\n",
       "Camper/RV                     24\n",
       "Yurt                          23\n",
       "Tent                          18\n",
       "Tipi                          17\n",
       "Barn                          15\n",
       "Farm stay                     13\n",
       "Pension (South Korea)          9\n",
       "Dome house                     8\n",
       "Igloo                          6\n",
       "In-law                         6\n",
       "Vacation home                  4\n",
       "Timeshare                      3\n",
       "Pousada                        3\n",
       "Houseboat                      3\n",
       "Casa particular                2\n",
       "Plane                          1\n",
       "Name: property_type, dtype: int64"
      ]
     },
     "execution_count": 84,
     "metadata": {},
     "output_type": "execute_result"
    }
   ],
   "source": [
    "df_airbnb[\"property_type\"].value_counts()"
   ]
  },
  {
   "cell_type": "code",
   "execution_count": 91,
   "id": "49072353",
   "metadata": {
    "scrolled": false
   },
   "outputs": [
    {
     "data": {
      "image/png": "[encoded data removed]",
      "text/plain": [
       "<Figure size 1080x360 with 1 Axes>"
      ]
     },
     "metadata": {
      "needs_background": "light"
     },
     "output_type": "display_data"
    }
   ],
   "source": [
    "plt.figure(figsize=(15,5))\n",
    "graph = sns.countplot(x=df_airbnb[\"property_type\"],data=df_airbnb)\n",
    "graph.tick_params(axis='x', rotation=80)"
   ]
  },
  {
   "cell_type": "markdown",
   "id": "c24a8836",
   "metadata": {},
   "source": [
    "By checking the bar graph I will combine all classes / names bellow \"Other\" to become \"Other\".\n",
    "\n",
    "With this I plan to reduce the risk of the model not performing properly due the big variaty of names \"Island\"m \"Igloo\", \"Plane\""
   ]
  },
  {
   "cell_type": "code",
   "execution_count": 92,
   "id": "5741650f",
   "metadata": {},
   "outputs": [],
   "source": [
    "houses = df_airbnb['property_type'].value_counts()\n",
    "combined_columns = []\n",
    "\n",
    "for house_name in houses.index:\n",
    "    if houses[house_name] < 2000:\n",
    "        combined_columns.append(house_name)"
   ]
  },
  {
   "cell_type": "code",
   "execution_count": 94,
   "id": "2dba43cc",
   "metadata": {},
   "outputs": [],
   "source": [
    "for house_name in combined_columns:\n",
    "    df_airbnb.loc[df_airbnb['property_type'] == house_name,'property_type'] = 'Other'"
   ]
  },
  {
   "cell_type": "code",
   "execution_count": 96,
   "id": "4d209cf9",
   "metadata": {},
   "outputs": [
    {
     "data": {
      "text/plain": [
       "Apartment             458354\n",
       "House                  51387\n",
       "Condominium            26456\n",
       "Serviced apartment     12671\n",
       "Loft                   12352\n",
       "Other                   8850\n",
       "Guest suite             3621\n",
       "Bed and breakfast       3472\n",
       "Hostel                  2665\n",
       "Guesthouse              2155\n",
       "Name: property_type, dtype: int64"
      ]
     },
     "execution_count": 96,
     "metadata": {},
     "output_type": "execute_result"
    }
   ],
   "source": [
    "df_airbnb['property_type'].value_counts()"
   ]
  },
  {
   "cell_type": "code",
   "execution_count": 117,
   "id": "bf026922",
   "metadata": {
    "scrolled": false
   },
   "outputs": [
    {
     "data": {
      "image/png": "[encoded data removed]",
      "text/plain": [
       "<Figure size 1080x360 with 1 Axes>"
      ]
     },
     "metadata": {
      "needs_background": "light"
     },
     "output_type": "display_data"
    }
   ],
   "source": [
    "plt.figure(figsize=(15,5))\n",
    "graph = sns.countplot(x=df_airbnb[\"property_type\"],data=df_airbnb)\n",
    "graph.tick_params(axis='x', rotation=80)"
   ]
  },
  {
   "cell_type": "markdown",
   "id": "994816e8",
   "metadata": {},
   "source": [
    "### Room Types"
   ]
  },
  {
   "cell_type": "code",
   "execution_count": 99,
   "id": "bc73bcc4",
   "metadata": {},
   "outputs": [
    {
     "data": {
      "text/plain": [
       "Entire home/apt    372443\n",
       "Private room       196859\n",
       "Shared room         11714\n",
       "Hotel room            967\n",
       "Name: room_type, dtype: int64"
      ]
     },
     "execution_count": 99,
     "metadata": {},
     "output_type": "execute_result"
    }
   ],
   "source": [
    "df_airbnb[\"room_type\"].value_counts()"
   ]
  },
  {
   "cell_type": "code",
   "execution_count": 115,
   "id": "48f40380",
   "metadata": {
    "scrolled": false
   },
   "outputs": [
    {
     "data": {
      "image/png": "[encoded data removed]",
      "text/plain": [
       "<Figure size 1080x360 with 1 Axes>"
      ]
     },
     "metadata": {
      "needs_background": "light"
     },
     "output_type": "display_data"
    }
   ],
   "source": [
    "plt.figure(figsize=(15,5))\n",
    "graph = sns.countplot(x=df_airbnb[\"room_type\"],data=df_airbnb)"
   ]
  },
  {
   "cell_type": "markdown",
   "id": "44166af8",
   "metadata": {},
   "source": [
    "### Bed Types"
   ]
  },
  {
   "cell_type": "code",
   "execution_count": 102,
   "id": "a38cc6a8",
   "metadata": {},
   "outputs": [
    {
     "data": {
      "text/plain": [
       "Real Bed         570643\n",
       "Pull-out Sofa      8055\n",
       "Futon              1634\n",
       "Airbed             1155\n",
       "Couch               496\n",
       "Name: bed_type, dtype: int64"
      ]
     },
     "execution_count": 102,
     "metadata": {},
     "output_type": "execute_result"
    }
   ],
   "source": [
    "df_airbnb[\"bed_type\"].value_counts()"
   ]
  },
  {
   "cell_type": "code",
   "execution_count": 114,
   "id": "82512815",
   "metadata": {},
   "outputs": [
    {
     "data": {
      "image/png": "[encoded data removed]",
      "text/plain": [
       "<Figure size 1080x360 with 1 Axes>"
      ]
     },
     "metadata": {
      "needs_background": "light"
     },
     "output_type": "display_data"
    }
   ],
   "source": [
    "plt.figure(figsize=(15,5))\n",
    "graph = sns.countplot(x=df_airbnb[\"bed_type\"],data=df_airbnb)"
   ]
  },
  {
   "cell_type": "code",
   "execution_count": 120,
   "id": "fd0bc301",
   "metadata": {},
   "outputs": [],
   "source": [
    "bed_columns = df_airbnb['bed_type'].value_counts()\n",
    "combined_bed = []\n",
    "\n",
    "for beds in bed_columns.index:\n",
    "    if bed_columns[beds] < 10000:\n",
    "        combined_bed.append(beds)"
   ]
  },
  {
   "cell_type": "code",
   "execution_count": 121,
   "id": "d0663103",
   "metadata": {},
   "outputs": [],
   "source": [
    "for beds in combined_bed:\n",
    "    df_airbnb.loc[df_airbnb['bed_type'] == beds,'bed_type'] = 'Other Beds'"
   ]
  },
  {
   "cell_type": "code",
   "execution_count": 122,
   "id": "bad31436",
   "metadata": {},
   "outputs": [
    {
     "data": {
      "image/png": "[encoded data removed]",
      "text/plain": [
       "<Figure size 1080x360 with 1 Axes>"
      ]
     },
     "metadata": {
      "needs_background": "light"
     },
     "output_type": "display_data"
    }
   ],
   "source": [
    "plt.figure(figsize=(15,5))\n",
    "graph = sns.countplot(x=df_airbnb[\"bed_type\"],data=df_airbnb)"
   ]
  },
  {
   "cell_type": "markdown",
   "id": "d6a53f62",
   "metadata": {},
   "source": [
    "### Cancellation Policy"
   ]
  },
  {
   "cell_type": "code",
   "execution_count": 104,
   "id": "019cd5dd",
   "metadata": {},
   "outputs": [
    {
     "data": {
      "text/plain": [
       "flexible                       258096\n",
       "strict_14_with_grace_period    200743\n",
       "moderate                       113281\n",
       "strict                           9696\n",
       "super_strict_60                   135\n",
       "super_strict_30                    32\n",
       "Name: cancellation_policy, dtype: int64"
      ]
     },
     "execution_count": 104,
     "metadata": {},
     "output_type": "execute_result"
    }
   ],
   "source": [
    "df_airbnb[\"cancellation_policy\"].value_counts()"
   ]
  },
  {
   "cell_type": "code",
   "execution_count": 113,
   "id": "347a6779",
   "metadata": {},
   "outputs": [
    {
     "data": {
      "image/png": "[encoded data removed]",
      "text/plain": [
       "<Figure size 1080x360 with 1 Axes>"
      ]
     },
     "metadata": {
      "needs_background": "light"
     },
     "output_type": "display_data"
    }
   ],
   "source": [
    "plt.figure(figsize=(15,5))\n",
    "graph = sns.countplot(x=df_airbnb[\"cancellation_policy\"],data=df_airbnb)"
   ]
  },
  {
   "cell_type": "code",
   "execution_count": 108,
   "id": "fe733bd0",
   "metadata": {},
   "outputs": [],
   "source": [
    "cancelation_policty = df_airbnb['cancellation_policy'].value_counts()\n",
    "combined_cancellation = []\n",
    "\n",
    "for cancellation in cancelation_policty.index:\n",
    "    if cancelation_policty[cancellation] < 10000:\n",
    "        combined_cancellation.append(cancellation)"
   ]
  },
  {
   "cell_type": "code",
   "execution_count": 110,
   "id": "80bc6521",
   "metadata": {},
   "outputs": [],
   "source": [
    "for cancellation in combined_cancellation:\n",
    "    df_airbnb.loc[df_airbnb['cancellation_policy'] == cancellation,'cancellation_policy'] = 'Strict'"
   ]
  },
  {
   "cell_type": "code",
   "execution_count": 112,
   "id": "77bfbdfe",
   "metadata": {
    "scrolled": true
   },
   "outputs": [
    {
     "data": {
      "image/png": "[encoded data removed]",
      "text/plain": [
       "<Figure size 1080x360 with 1 Axes>"
      ]
     },
     "metadata": {
      "needs_background": "light"
     },
     "output_type": "display_data"
    }
   ],
   "source": [
    "plt.figure(figsize=(15,5))\n",
    "graph = sns.countplot(x=df_airbnb[\"cancellation_policy\"],data=df_airbnb)"
   ]
  },
  {
   "cell_type": "markdown",
   "id": "e474d1e8",
   "metadata": {},
   "source": [
    "### Amenities"
   ]
  },
  {
   "cell_type": "code",
   "execution_count": 123,
   "id": "33c64482",
   "metadata": {},
   "outputs": [
    {
     "data": {
      "text/plain": [
       "{}                                                                                                                                                                                                                                                                                                                                                                                                                                                                                                                                                                                                                                                                                                                                                                                   6012\n",
       "{TV,\"Cable TV\",Internet,Wifi,\"Air conditioning\",Kitchen,Doorman,Elevator,\"Buzzer/wireless intercom\",Washer}                                                                                                                                                                                                                                                                                                                                                                                                                                                                                                                                                                                                                                                                           313\n",
       "{\"translation missing: en.hosting_amenity_49\",\"translation missing: en.hosting_amenity_50\"}                                                                                                                                                                                                                                                                                                                                                                                                                                                                                                                                                                                                                                                                                           244\n",
       "{TV,\"Cable TV\",Internet,Wifi,\"Air conditioning\",Kitchen,Doorman,Elevator,\"Buzzer/wireless intercom\",\"Family/kid friendly\",Washer}                                                                                                                                                                                                                                                                                                                                                                                                                                                                                                                                                                                                                                                     232\n",
       "{\"Family/kid friendly\"}                                                                                                                                                                                                                                                                                                                                                                                                                                                                                                                                                                                                                                                                                                                                                               226\n",
       "                                                                                                                                                                                                                                                                                                                                                                                                                                                                                                                                                                                                                                                                                                                                                                                     ... \n",
       "{TV,\"Cable TV\",Wifi,\"Air conditioning\",Pool,Kitchen,\"Free parking on premises\",\"Pets allowed\",Gym,Elevator,\"Free street parking\",\"Hot tub\",Washer,Dryer,Essentials,Shampoo,Hangers,\"Hair dryer\",Iron,\"Children’s dinnerware\",\"Hot water\",\"Bed linens\",\"Extra pillows and blankets\",Microwave,\"Coffee maker\",Refrigerator,\"Dishes and silverware\",\"Cooking basics\",Oven,Stove,\"BBQ grill\",\"Patio or balcony\",\"Garden or backyard\",\"Long term stays allowed\",\"Wide hallways\",\"No stairs or steps to enter\",\"Wide entrance for guests\",\"Flat path to guest entrance\",\"Well-lit path to entrance\",\"Disabled parking spot\",\"No stairs or steps to enter\",\"Extra space around bed\",\"Accessible-height bed\",\"No stairs or steps to enter\",\"No stairs or steps to enter\",\"Wide entryway\"}       1\n",
       "{TV,Wifi,\"Air conditioning\",Pool,Kitchen,\"Free parking on premises\",\"Smoking allowed\",Gym,Elevator,Essentials,Hangers,Iron,\"Laptop friendly workspace\",\"Private entrance\",\"Hot water\",\"Bed linens\",Microwave,\"Coffee maker\",Refrigerator,\"Dishes and silverware\",\"Cooking basics\",Oven,Stove,\"Patio or balcony\",\"Luggage dropoff allowed\",\"Long term stays allowed\",\"Well-lit path to entrance\",\"Extra space around bed\"}                                                                                                                                                                                                                                                                                                                                                               1\n",
       "{Wifi,Kitchen,\"Pets allowed\",Elevator,Washer,Essentials,Iron,\"Private living room\"}                                                                                                                                                                                                                                                                                                                                                                                                                                                                                                                                                                                                                                                                                                     1\n",
       "{TV,\"Cable TV\",Wifi,\"Air conditioning\",Kitchen,\"Free parking on premises\",\"Smoking allowed\",\"Pets allowed\",Elevator,Washer,Essentials,Hangers,\"Hair dryer\",Iron,\"Hot water\",\"Bed linens\",\"Extra pillows and blankets\",Microwave,\"Coffee maker\",Refrigerator,\"Dishes and silverware\",\"Cooking basics\",Stove,\"Luggage dropoff allowed\",\"Long term stays allowed\",\"Wide hallways\",\"Wide entrance for guests\",\"No stairs or steps to enter\",\"Wide entrance\",\"Extra space around bed\",\"Accessible-height bed\",\"No stairs or steps to enter\",\"Wide entryway\"}                                                                                                                                                                                                                                 1\n",
       "{TV,Wifi,\"Air conditioning\",Pool,Kitchen,\"Free parking on premises\",Elevator,Heating,Washer,Essentials,Hangers,Iron}                                                                                                                                                                                                                                                                                                                                                                                                                                                                                                                                                                                                                                                                    1\n",
       "Name: amenities, Length: 79676, dtype: int64"
      ]
     },
     "execution_count": 123,
     "metadata": {},
     "output_type": "execute_result"
    }
   ],
   "source": [
    "df_airbnb[\"amenities\"].value_counts()"
   ]
  },
  {
   "cell_type": "code",
   "execution_count": 127,
   "id": "dcf7e94b",
   "metadata": {},
   "outputs": [
    {
     "name": "stdout",
     "output_type": "stream",
     "text": [
      "{TV,\"Cable TV\",Internet,Wifi,\"Air conditioning\",Kitchen,\"Paid parking off premises\",\"Smoking allowed\",Doorman,Elevator,\"Hot tub\",\"Family/kid friendly\",\"Suitable for events\",Essentials,\"24-hour check-in\",Hangers,\"Hair dryer\",Iron,\"Laptop friendly workspace\",\"Self check-in\",\"Front desk/doorperson\",\"Private entrance\",\"Hot water\",\"Bed linens\",\"Luggage dropoff allowed\"}\n"
     ]
    }
   ],
   "source": [
    "print(df_airbnb[\"amenities\"].iloc[0])"
   ]
  },
  {
   "cell_type": "markdown",
   "id": "6038069f",
   "metadata": {},
   "source": [
    "When checking the amenities column, I can visualize it is a very messy and hard to separate and combine the itens. Some of them are reapeated in different ways of writting.\n",
    "\n",
    "What will be done is to combine all the amenities as number, for example [\"Pool\", \"Fireplace\"] this would be a length 2, so in a new column named amount_amenities will be 2 the value for this amenities."
   ]
  },
  {
   "cell_type": "code",
   "execution_count": 129,
   "id": "7c982bc8",
   "metadata": {},
   "outputs": [
    {
     "data": {
      "text/html": [
       "<div>\n",
       "<style scoped>\n",
       "    .dataframe tbody tr th:only-of-type {\n",
       "        vertical-align: middle;\n",
       "    }\n",
       "\n",
       "    .dataframe tbody tr th {\n",
       "        vertical-align: top;\n",
       "    }\n",
       "\n",
       "    .dataframe thead th {\n",
       "        text-align: right;\n",
       "    }\n",
       "</style>\n",
       "<table border=\"1\" class=\"dataframe\">\n",
       "  <thead>\n",
       "    <tr style=\"text-align: right;\">\n",
       "      <th></th>\n",
       "      <th>host_is_superhost</th>\n",
       "      <th>host_listings_count</th>\n",
       "      <th>latitude</th>\n",
       "      <th>longitude</th>\n",
       "      <th>property_type</th>\n",
       "      <th>room_type</th>\n",
       "      <th>accommodates</th>\n",
       "      <th>bathrooms</th>\n",
       "      <th>bedrooms</th>\n",
       "      <th>beds</th>\n",
       "      <th>...</th>\n",
       "      <th>price</th>\n",
       "      <th>extra_people</th>\n",
       "      <th>minimum_nights</th>\n",
       "      <th>number_of_reviews</th>\n",
       "      <th>instant_bookable</th>\n",
       "      <th>is_business_travel_ready</th>\n",
       "      <th>cancellation_policy</th>\n",
       "      <th>year</th>\n",
       "      <th>month</th>\n",
       "      <th>amount_amenities</th>\n",
       "    </tr>\n",
       "  </thead>\n",
       "  <tbody>\n",
       "    <tr>\n",
       "      <th>1</th>\n",
       "      <td>t</td>\n",
       "      <td>2.0</td>\n",
       "      <td>-22.965919</td>\n",
       "      <td>-43.178962</td>\n",
       "      <td>Condominium</td>\n",
       "      <td>Entire home/apt</td>\n",
       "      <td>5</td>\n",
       "      <td>1.0</td>\n",
       "      <td>2.0</td>\n",
       "      <td>2.0</td>\n",
       "      <td>...</td>\n",
       "      <td>270.0</td>\n",
       "      <td>51.0</td>\n",
       "      <td>4</td>\n",
       "      <td>205</td>\n",
       "      <td>t</td>\n",
       "      <td>f</td>\n",
       "      <td>Strict</td>\n",
       "      <td>2018</td>\n",
       "      <td>4</td>\n",
       "      <td>25</td>\n",
       "    </tr>\n",
       "    <tr>\n",
       "      <th>3</th>\n",
       "      <td>f</td>\n",
       "      <td>3.0</td>\n",
       "      <td>-22.977117</td>\n",
       "      <td>-43.190454</td>\n",
       "      <td>Apartment</td>\n",
       "      <td>Entire home/apt</td>\n",
       "      <td>3</td>\n",
       "      <td>1.0</td>\n",
       "      <td>1.0</td>\n",
       "      <td>2.0</td>\n",
       "      <td>...</td>\n",
       "      <td>161.0</td>\n",
       "      <td>45.0</td>\n",
       "      <td>4</td>\n",
       "      <td>208</td>\n",
       "      <td>f</td>\n",
       "      <td>f</td>\n",
       "      <td>Strict</td>\n",
       "      <td>2018</td>\n",
       "      <td>4</td>\n",
       "      <td>14</td>\n",
       "    </tr>\n",
       "    <tr>\n",
       "      <th>4</th>\n",
       "      <td>t</td>\n",
       "      <td>1.0</td>\n",
       "      <td>-22.983024</td>\n",
       "      <td>-43.214270</td>\n",
       "      <td>Apartment</td>\n",
       "      <td>Entire home/apt</td>\n",
       "      <td>3</td>\n",
       "      <td>1.0</td>\n",
       "      <td>1.0</td>\n",
       "      <td>2.0</td>\n",
       "      <td>...</td>\n",
       "      <td>222.0</td>\n",
       "      <td>68.0</td>\n",
       "      <td>2</td>\n",
       "      <td>200</td>\n",
       "      <td>t</td>\n",
       "      <td>f</td>\n",
       "      <td>Strict</td>\n",
       "      <td>2018</td>\n",
       "      <td>4</td>\n",
       "      <td>16</td>\n",
       "    </tr>\n",
       "    <tr>\n",
       "      <th>5</th>\n",
       "      <td>t</td>\n",
       "      <td>1.0</td>\n",
       "      <td>-22.988165</td>\n",
       "      <td>-43.193588</td>\n",
       "      <td>Apartment</td>\n",
       "      <td>Entire home/apt</td>\n",
       "      <td>3</td>\n",
       "      <td>1.5</td>\n",
       "      <td>1.0</td>\n",
       "      <td>2.0</td>\n",
       "      <td>...</td>\n",
       "      <td>308.0</td>\n",
       "      <td>86.0</td>\n",
       "      <td>2</td>\n",
       "      <td>116</td>\n",
       "      <td>f</td>\n",
       "      <td>f</td>\n",
       "      <td>Strict</td>\n",
       "      <td>2018</td>\n",
       "      <td>4</td>\n",
       "      <td>30</td>\n",
       "    </tr>\n",
       "    <tr>\n",
       "      <th>6</th>\n",
       "      <td>t</td>\n",
       "      <td>1.0</td>\n",
       "      <td>-22.981269</td>\n",
       "      <td>-43.190457</td>\n",
       "      <td>Loft</td>\n",
       "      <td>Entire home/apt</td>\n",
       "      <td>2</td>\n",
       "      <td>1.0</td>\n",
       "      <td>1.0</td>\n",
       "      <td>2.0</td>\n",
       "      <td>...</td>\n",
       "      <td>219.0</td>\n",
       "      <td>80.0</td>\n",
       "      <td>3</td>\n",
       "      <td>255</td>\n",
       "      <td>t</td>\n",
       "      <td>f</td>\n",
       "      <td>Strict</td>\n",
       "      <td>2018</td>\n",
       "      <td>4</td>\n",
       "      <td>30</td>\n",
       "    </tr>\n",
       "    <tr>\n",
       "      <th>...</th>\n",
       "      <td>...</td>\n",
       "      <td>...</td>\n",
       "      <td>...</td>\n",
       "      <td>...</td>\n",
       "      <td>...</td>\n",
       "      <td>...</td>\n",
       "      <td>...</td>\n",
       "      <td>...</td>\n",
       "      <td>...</td>\n",
       "      <td>...</td>\n",
       "      <td>...</td>\n",
       "      <td>...</td>\n",
       "      <td>...</td>\n",
       "      <td>...</td>\n",
       "      <td>...</td>\n",
       "      <td>...</td>\n",
       "      <td>...</td>\n",
       "      <td>...</td>\n",
       "      <td>...</td>\n",
       "      <td>...</td>\n",
       "      <td>...</td>\n",
       "    </tr>\n",
       "    <tr>\n",
       "      <th>34323</th>\n",
       "      <td>f</td>\n",
       "      <td>1.0</td>\n",
       "      <td>-22.986030</td>\n",
       "      <td>-43.191660</td>\n",
       "      <td>Apartment</td>\n",
       "      <td>Entire home/apt</td>\n",
       "      <td>4</td>\n",
       "      <td>2.0</td>\n",
       "      <td>2.0</td>\n",
       "      <td>3.0</td>\n",
       "      <td>...</td>\n",
       "      <td>250.0</td>\n",
       "      <td>0.0</td>\n",
       "      <td>1</td>\n",
       "      <td>0</td>\n",
       "      <td>f</td>\n",
       "      <td>f</td>\n",
       "      <td>flexible</td>\n",
       "      <td>2019</td>\n",
       "      <td>9</td>\n",
       "      <td>15</td>\n",
       "    </tr>\n",
       "    <tr>\n",
       "      <th>34324</th>\n",
       "      <td>f</td>\n",
       "      <td>0.0</td>\n",
       "      <td>-23.003180</td>\n",
       "      <td>-43.342840</td>\n",
       "      <td>Apartment</td>\n",
       "      <td>Entire home/apt</td>\n",
       "      <td>4</td>\n",
       "      <td>1.0</td>\n",
       "      <td>0.0</td>\n",
       "      <td>2.0</td>\n",
       "      <td>...</td>\n",
       "      <td>121.0</td>\n",
       "      <td>50.0</td>\n",
       "      <td>1</td>\n",
       "      <td>0</td>\n",
       "      <td>f</td>\n",
       "      <td>f</td>\n",
       "      <td>flexible</td>\n",
       "      <td>2019</td>\n",
       "      <td>9</td>\n",
       "      <td>18</td>\n",
       "    </tr>\n",
       "    <tr>\n",
       "      <th>34325</th>\n",
       "      <td>f</td>\n",
       "      <td>0.0</td>\n",
       "      <td>-22.966640</td>\n",
       "      <td>-43.393450</td>\n",
       "      <td>Apartment</td>\n",
       "      <td>Entire home/apt</td>\n",
       "      <td>4</td>\n",
       "      <td>2.0</td>\n",
       "      <td>2.0</td>\n",
       "      <td>3.0</td>\n",
       "      <td>...</td>\n",
       "      <td>799.0</td>\n",
       "      <td>0.0</td>\n",
       "      <td>2</td>\n",
       "      <td>0</td>\n",
       "      <td>f</td>\n",
       "      <td>f</td>\n",
       "      <td>flexible</td>\n",
       "      <td>2019</td>\n",
       "      <td>9</td>\n",
       "      <td>12</td>\n",
       "    </tr>\n",
       "    <tr>\n",
       "      <th>34327</th>\n",
       "      <td>f</td>\n",
       "      <td>0.0</td>\n",
       "      <td>-23.003400</td>\n",
       "      <td>-43.341820</td>\n",
       "      <td>Apartment</td>\n",
       "      <td>Entire home/apt</td>\n",
       "      <td>4</td>\n",
       "      <td>1.0</td>\n",
       "      <td>1.0</td>\n",
       "      <td>1.0</td>\n",
       "      <td>...</td>\n",
       "      <td>250.0</td>\n",
       "      <td>0.0</td>\n",
       "      <td>1</td>\n",
       "      <td>0</td>\n",
       "      <td>f</td>\n",
       "      <td>f</td>\n",
       "      <td>strict_14_with_grace_period</td>\n",
       "      <td>2019</td>\n",
       "      <td>9</td>\n",
       "      <td>25</td>\n",
       "    </tr>\n",
       "    <tr>\n",
       "      <th>34328</th>\n",
       "      <td>f</td>\n",
       "      <td>5.0</td>\n",
       "      <td>-23.010560</td>\n",
       "      <td>-43.363350</td>\n",
       "      <td>Apartment</td>\n",
       "      <td>Private room</td>\n",
       "      <td>2</td>\n",
       "      <td>0.0</td>\n",
       "      <td>1.0</td>\n",
       "      <td>1.0</td>\n",
       "      <td>...</td>\n",
       "      <td>92.0</td>\n",
       "      <td>80.0</td>\n",
       "      <td>1</td>\n",
       "      <td>0</td>\n",
       "      <td>f</td>\n",
       "      <td>f</td>\n",
       "      <td>strict_14_with_grace_period</td>\n",
       "      <td>2019</td>\n",
       "      <td>9</td>\n",
       "      <td>17</td>\n",
       "    </tr>\n",
       "  </tbody>\n",
       "</table>\n",
       "<p>581983 rows × 22 columns</p>\n",
       "</div>"
      ],
      "text/plain": [
       "      host_is_superhost  host_listings_count   latitude  longitude  \\\n",
       "1                     t                  2.0 -22.965919 -43.178962   \n",
       "3                     f                  3.0 -22.977117 -43.190454   \n",
       "4                     t                  1.0 -22.983024 -43.214270   \n",
       "5                     t                  1.0 -22.988165 -43.193588   \n",
       "6                     t                  1.0 -22.981269 -43.190457   \n",
       "...                 ...                  ...        ...        ...   \n",
       "34323                 f                  1.0 -22.986030 -43.191660   \n",
       "34324                 f                  0.0 -23.003180 -43.342840   \n",
       "34325                 f                  0.0 -22.966640 -43.393450   \n",
       "34327                 f                  0.0 -23.003400 -43.341820   \n",
       "34328                 f                  5.0 -23.010560 -43.363350   \n",
       "\n",
       "      property_type        room_type  accommodates  bathrooms  bedrooms  beds  \\\n",
       "1       Condominium  Entire home/apt             5        1.0       2.0   2.0   \n",
       "3         Apartment  Entire home/apt             3        1.0       1.0   2.0   \n",
       "4         Apartment  Entire home/apt             3        1.0       1.0   2.0   \n",
       "5         Apartment  Entire home/apt             3        1.5       1.0   2.0   \n",
       "6              Loft  Entire home/apt             2        1.0       1.0   2.0   \n",
       "...             ...              ...           ...        ...       ...   ...   \n",
       "34323     Apartment  Entire home/apt             4        2.0       2.0   3.0   \n",
       "34324     Apartment  Entire home/apt             4        1.0       0.0   2.0   \n",
       "34325     Apartment  Entire home/apt             4        2.0       2.0   3.0   \n",
       "34327     Apartment  Entire home/apt             4        1.0       1.0   1.0   \n",
       "34328     Apartment     Private room             2        0.0       1.0   1.0   \n",
       "\n",
       "       ...  price extra_people  minimum_nights  number_of_reviews  \\\n",
       "1      ...  270.0         51.0               4                205   \n",
       "3      ...  161.0         45.0               4                208   \n",
       "4      ...  222.0         68.0               2                200   \n",
       "5      ...  308.0         86.0               2                116   \n",
       "6      ...  219.0         80.0               3                255   \n",
       "...    ...    ...          ...             ...                ...   \n",
       "34323  ...  250.0          0.0               1                  0   \n",
       "34324  ...  121.0         50.0               1                  0   \n",
       "34325  ...  799.0          0.0               2                  0   \n",
       "34327  ...  250.0          0.0               1                  0   \n",
       "34328  ...   92.0         80.0               1                  0   \n",
       "\n",
       "       instant_bookable  is_business_travel_ready  \\\n",
       "1                     t                         f   \n",
       "3                     f                         f   \n",
       "4                     t                         f   \n",
       "5                     f                         f   \n",
       "6                     t                         f   \n",
       "...                 ...                       ...   \n",
       "34323                 f                         f   \n",
       "34324                 f                         f   \n",
       "34325                 f                         f   \n",
       "34327                 f                         f   \n",
       "34328                 f                         f   \n",
       "\n",
       "               cancellation_policy  year month  amount_amenities  \n",
       "1                           Strict  2018     4                25  \n",
       "3                           Strict  2018     4                14  \n",
       "4                           Strict  2018     4                16  \n",
       "5                           Strict  2018     4                30  \n",
       "6                           Strict  2018     4                30  \n",
       "...                            ...   ...   ...               ...  \n",
       "34323                     flexible  2019     9                15  \n",
       "34324                     flexible  2019     9                18  \n",
       "34325                     flexible  2019     9                12  \n",
       "34327  strict_14_with_grace_period  2019     9                25  \n",
       "34328  strict_14_with_grace_period  2019     9                17  \n",
       "\n",
       "[581983 rows x 22 columns]"
      ]
     },
     "execution_count": 129,
     "metadata": {},
     "output_type": "execute_result"
    }
   ],
   "source": [
    "df_airbnb['amount_amenities'] = df_airbnb['amenities'].str.split(',').apply(len)\n",
    "df_airbnb"
   ]
  },
  {
   "cell_type": "code",
   "execution_count": 132,
   "id": "ca70d9e1",
   "metadata": {},
   "outputs": [
    {
     "data": {
      "text/plain": [
       "1        25\n",
       "3        14\n",
       "4        16\n",
       "5        30\n",
       "6        30\n",
       "         ..\n",
       "34323    15\n",
       "34324    18\n",
       "34325    12\n",
       "34327    25\n",
       "34328    17\n",
       "Name: amount_amenities, Length: 581983, dtype: int64"
      ]
     },
     "execution_count": 132,
     "metadata": {},
     "output_type": "execute_result"
    }
   ],
   "source": [
    "df_airbnb['amount_amenities']"
   ]
  },
  {
   "cell_type": "code",
   "execution_count": 133,
   "id": "2820603d",
   "metadata": {},
   "outputs": [
    {
     "data": {
      "text/plain": [
       "(581983, 21)"
      ]
     },
     "execution_count": 133,
     "metadata": {},
     "output_type": "execute_result"
    }
   ],
   "source": [
    "df_airbnb = df_airbnb.drop('amenities',axis=1)\n",
    "df_airbnb.shape"
   ]
  },
  {
   "cell_type": "code",
   "execution_count": 136,
   "id": "972efb63",
   "metadata": {},
   "outputs": [
    {
     "data": {
      "image/png": "[encoded data removed]",
      "text/plain": [
       "<Figure size 1080x360 with 2 Axes>"
      ]
     },
     "metadata": {
      "needs_background": "light"
     },
     "output_type": "display_data"
    }
   ],
   "source": [
    "box_plotting(df_airbnb['amount_amenities'])"
   ]
  },
  {
   "cell_type": "code",
   "execution_count": 137,
   "id": "928a93d7",
   "metadata": {},
   "outputs": [
    {
     "data": {
      "image/png": "[encoded data removed]",
      "text/plain": [
       "<Figure size 1080x360 with 1 Axes>"
      ]
     },
     "metadata": {
      "needs_background": "light"
     },
     "output_type": "display_data"
    }
   ],
   "source": [
    "bar_graph(df_airbnb['amount_amenities'])"
   ]
  },
  {
   "cell_type": "code",
   "execution_count": 138,
   "id": "efa003b6",
   "metadata": {},
   "outputs": [
    {
     "name": "stdout",
     "output_type": "stream",
     "text": [
      "24343 amount of lines removed\n"
     ]
    }
   ],
   "source": [
    "df_airbnb, amount_lines = exclude_outliers(df_airbnb, 'amount_amenities')\n",
    "print('{} amount of lines removed'.format(amount_lines))"
   ]
  },
  {
   "cell_type": "markdown",
   "id": "a01da110",
   "metadata": {},
   "source": [
    "### Latitude & Longitude"
   ]
  },
  {
   "cell_type": "code",
   "execution_count": null,
   "id": "f270f955",
   "metadata": {},
   "outputs": [],
   "source": []
  }
 ],
 "metadata": {
  "kernelspec": {
   "display_name": "Python 3",
   "language": "python",
   "name": "python3"
  },
  "language_info": {
   "codemirror_mode": {
    "name": "ipython",
    "version": 3
   },
   "file_extension": ".py",
   "mimetype": "text/x-python",
   "name": "python",
   "nbconvert_exporter": "python",
   "pygments_lexer": "ipython3",
   "version": "3.8.8"
  }
 },
 "nbformat": 4,
 "nbformat_minor": 5
}
