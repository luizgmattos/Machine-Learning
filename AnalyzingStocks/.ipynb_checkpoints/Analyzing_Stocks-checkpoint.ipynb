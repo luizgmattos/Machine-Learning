{
 "cells": [
  {
   "cell_type": "code",
   "execution_count": 8,
   "id": "76249734",
   "metadata": {},
   "outputs": [],
   "source": [
    "import pandas as pd\n",
    "import numpy as np\n",
    "import matplotlib.pyplot as plt\n",
    "import seaborn as sns"
   ]
  },
  {
   "cell_type": "code",
   "execution_count": 2,
   "id": "da420b63",
   "metadata": {},
   "outputs": [],
   "source": [
    "df_stocks = pd.read_csv(\"ibovdia_09-08-22.csv\", sep=\",\", index_col=0)"
   ]
  },
  {
   "cell_type": "code",
   "execution_count": 3,
   "id": "2a838695",
   "metadata": {},
   "outputs": [
    {
     "data": {
      "text/html": [
       "<div>\n",
       "<style scoped>\n",
       "    .dataframe tbody tr th:only-of-type {\n",
       "        vertical-align: middle;\n",
       "    }\n",
       "\n",
       "    .dataframe tbody tr th {\n",
       "        vertical-align: top;\n",
       "    }\n",
       "\n",
       "    .dataframe thead th {\n",
       "        text-align: right;\n",
       "    }\n",
       "</style>\n",
       "<table border=\"1\" class=\"dataframe\">\n",
       "  <thead>\n",
       "    <tr style=\"text-align: right;\">\n",
       "      <th></th>\n",
       "      <th>Ação</th>\n",
       "      <th>Tipo</th>\n",
       "      <th>Qtde. Teórica</th>\n",
       "      <th>Part. (%)</th>\n",
       "    </tr>\n",
       "    <tr>\n",
       "      <th>Código</th>\n",
       "      <th></th>\n",
       "      <th></th>\n",
       "      <th></th>\n",
       "      <th></th>\n",
       "    </tr>\n",
       "  </thead>\n",
       "  <tbody>\n",
       "    <tr>\n",
       "      <th>RRRP3</th>\n",
       "      <td>3R PETROLEUM</td>\n",
       "      <td>ON      NM</td>\n",
       "      <td>200.372.163</td>\n",
       "      <td>0,341</td>\n",
       "    </tr>\n",
       "    <tr>\n",
       "      <th>ALPA4</th>\n",
       "      <td>ALPARGATAS</td>\n",
       "      <td>PN      N1</td>\n",
       "      <td>201.257.220</td>\n",
       "      <td>0,193</td>\n",
       "    </tr>\n",
       "    <tr>\n",
       "      <th>ABEV3</th>\n",
       "      <td>AMBEV S/A</td>\n",
       "      <td>ON</td>\n",
       "      <td>4.380.195.841</td>\n",
       "      <td>3,214</td>\n",
       "    </tr>\n",
       "    <tr>\n",
       "      <th>AMER3</th>\n",
       "      <td>AMERICANAS</td>\n",
       "      <td>ON      NM</td>\n",
       "      <td>596.875.824</td>\n",
       "      <td>0,421</td>\n",
       "    </tr>\n",
       "    <tr>\n",
       "      <th>ASAI3</th>\n",
       "      <td>ASSAI</td>\n",
       "      <td>ON      NM</td>\n",
       "      <td>794.531.367</td>\n",
       "      <td>0,682</td>\n",
       "    </tr>\n",
       "    <tr>\n",
       "      <th>...</th>\n",
       "      <td>...</td>\n",
       "      <td>...</td>\n",
       "      <td>...</td>\n",
       "      <td>...</td>\n",
       "    </tr>\n",
       "    <tr>\n",
       "      <th>VALE3</th>\n",
       "      <td>VALE</td>\n",
       "      <td>ON      NM</td>\n",
       "      <td>3.768.748.489</td>\n",
       "      <td>12,817</td>\n",
       "    </tr>\n",
       "    <tr>\n",
       "      <th>VIIA3</th>\n",
       "      <td>VIA</td>\n",
       "      <td>ON      NM</td>\n",
       "      <td>1.596.295.753</td>\n",
       "      <td>0,231</td>\n",
       "    </tr>\n",
       "    <tr>\n",
       "      <th>VBBR3</th>\n",
       "      <td>VIBRA</td>\n",
       "      <td>ON      NM</td>\n",
       "      <td>1.131.883.365</td>\n",
       "      <td>1,016</td>\n",
       "    </tr>\n",
       "    <tr>\n",
       "      <th>WEGE3</th>\n",
       "      <td>WEG</td>\n",
       "      <td>ON      NM</td>\n",
       "      <td>1.484.859.030</td>\n",
       "      <td>2,189</td>\n",
       "    </tr>\n",
       "    <tr>\n",
       "      <th>YDUQ3</th>\n",
       "      <td>YDUQS PART</td>\n",
       "      <td>ON      NM</td>\n",
       "      <td>300.833.122</td>\n",
       "      <td>0,231</td>\n",
       "    </tr>\n",
       "  </tbody>\n",
       "</table>\n",
       "<p>90 rows × 4 columns</p>\n",
       "</div>"
      ],
      "text/plain": [
       "                Ação        Tipo  Qtde. Teórica Part. (%)\n",
       "Código                                                   \n",
       "RRRP3   3R PETROLEUM  ON      NM    200.372.163     0,341\n",
       "ALPA4     ALPARGATAS  PN      N1    201.257.220     0,193\n",
       "ABEV3      AMBEV S/A          ON  4.380.195.841     3,214\n",
       "AMER3     AMERICANAS  ON      NM    596.875.824     0,421\n",
       "ASAI3          ASSAI  ON      NM    794.531.367     0,682\n",
       "...              ...         ...            ...       ...\n",
       "VALE3           VALE  ON      NM  3.768.748.489    12,817\n",
       "VIIA3            VIA  ON      NM  1.596.295.753     0,231\n",
       "VBBR3          VIBRA  ON      NM  1.131.883.365     1,016\n",
       "WEGE3            WEG  ON      NM  1.484.859.030     2,189\n",
       "YDUQ3     YDUQS PART  ON      NM    300.833.122     0,231\n",
       "\n",
       "[90 rows x 4 columns]"
      ]
     },
     "execution_count": 3,
     "metadata": {},
     "output_type": "execute_result"
    }
   ],
   "source": [
    "df_stocks"
   ]
  },
  {
   "cell_type": "code",
   "execution_count": 5,
   "id": "9c93f323",
   "metadata": {},
   "outputs": [
    {
     "name": "stdout",
     "output_type": "stream",
     "text": [
      "<class 'pandas.core.frame.DataFrame'>\n",
      "Index: 90 entries, RRRP3 to YDUQ3\n",
      "Data columns (total 4 columns):\n",
      " #   Column         Non-Null Count  Dtype \n",
      "---  ------         --------------  ----- \n",
      " 0   Ação           90 non-null     object\n",
      " 1   Tipo           90 non-null     object\n",
      " 2   Qtde. Teórica  90 non-null     object\n",
      " 3   Part. (%)      90 non-null     object\n",
      "dtypes: object(4)\n",
      "memory usage: 3.5+ KB\n"
     ]
    }
   ],
   "source": [
    "df_stocks.info()"
   ]
  },
  {
   "cell_type": "code",
   "execution_count": 6,
   "id": "84b6bc69",
   "metadata": {},
   "outputs": [
    {
     "data": {
      "text/html": [
       "<div>\n",
       "<style scoped>\n",
       "    .dataframe tbody tr th:only-of-type {\n",
       "        vertical-align: middle;\n",
       "    }\n",
       "\n",
       "    .dataframe tbody tr th {\n",
       "        vertical-align: top;\n",
       "    }\n",
       "\n",
       "    .dataframe thead th {\n",
       "        text-align: right;\n",
       "    }\n",
       "</style>\n",
       "<table border=\"1\" class=\"dataframe\">\n",
       "  <thead>\n",
       "    <tr style=\"text-align: right;\">\n",
       "      <th></th>\n",
       "      <th>Ação</th>\n",
       "      <th>Tipo</th>\n",
       "      <th>Qtde. Teórica</th>\n",
       "      <th>Part. (%)</th>\n",
       "    </tr>\n",
       "  </thead>\n",
       "  <tbody>\n",
       "    <tr>\n",
       "      <th>count</th>\n",
       "      <td>90</td>\n",
       "      <td>90</td>\n",
       "      <td>90</td>\n",
       "      <td>90</td>\n",
       "    </tr>\n",
       "    <tr>\n",
       "      <th>unique</th>\n",
       "      <td>87</td>\n",
       "      <td>17</td>\n",
       "      <td>90</td>\n",
       "      <td>87</td>\n",
       "    </tr>\n",
       "    <tr>\n",
       "      <th>top</th>\n",
       "      <td>BRADESCO</td>\n",
       "      <td>ON      NM</td>\n",
       "      <td>277.027.077</td>\n",
       "      <td>0,231</td>\n",
       "    </tr>\n",
       "    <tr>\n",
       "      <th>freq</th>\n",
       "      <td>2</td>\n",
       "      <td>58</td>\n",
       "      <td>1</td>\n",
       "      <td>3</td>\n",
       "    </tr>\n",
       "  </tbody>\n",
       "</table>\n",
       "</div>"
      ],
      "text/plain": [
       "            Ação        Tipo Qtde. Teórica Part. (%)\n",
       "count         90          90            90        90\n",
       "unique        87          17            90        87\n",
       "top     BRADESCO  ON      NM   277.027.077     0,231\n",
       "freq           2          58             1         3"
      ]
     },
     "execution_count": 6,
     "metadata": {},
     "output_type": "execute_result"
    }
   ],
   "source": [
    "df_stocks.describe()"
   ]
  },
  {
   "cell_type": "code",
   "execution_count": 7,
   "id": "2e89d457",
   "metadata": {},
   "outputs": [
    {
     "data": {
      "text/plain": [
       "Ação             0\n",
       "Tipo             0\n",
       "Qtde. Teórica    0\n",
       "Part. (%)        0\n",
       "dtype: int64"
      ]
     },
     "execution_count": 7,
     "metadata": {},
     "output_type": "execute_result"
    }
   ],
   "source": [
    "df_stocks.isna().sum()"
   ]
  },
  {
   "cell_type": "code",
   "execution_count": 10,
   "id": "aa3503e0",
   "metadata": {},
   "outputs": [
    {
     "ename": "ModuleNotFoundError",
     "evalue": "No module named 'yfinance'",
     "output_type": "error",
     "traceback": [
      "\u001b[1;31m---------------------------------------------------------------------------\u001b[0m",
      "\u001b[1;31mModuleNotFoundError\u001b[0m                       Traceback (most recent call last)",
      "\u001b[1;32m<ipython-input-10-7b70635dcb62>\u001b[0m in \u001b[0;36m<module>\u001b[1;34m\u001b[0m\n\u001b[1;32m----> 1\u001b[1;33m \u001b[1;32mimport\u001b[0m \u001b[0myfinance\u001b[0m \u001b[1;32mas\u001b[0m \u001b[0myf\u001b[0m\u001b[1;33m\u001b[0m\u001b[1;33m\u001b[0m\u001b[0m\n\u001b[0m",
      "\u001b[1;31mModuleNotFoundError\u001b[0m: No module named 'yfinance'"
     ]
    }
   ],
   "source": [
    "import yfinance as yf"
   ]
  },
  {
   "cell_type": "code",
   "execution_count": null,
   "id": "85e0c54f",
   "metadata": {},
   "outputs": [],
   "source": []
  }
 ],
 "metadata": {
  "kernelspec": {
   "display_name": "Python 3",
   "language": "python",
   "name": "python3"
  },
  "language_info": {
   "codemirror_mode": {
    "name": "ipython",
    "version": 3
   },
   "file_extension": ".py",
   "mimetype": "text/x-python",
   "name": "python",
   "nbconvert_exporter": "python",
   "pygments_lexer": "ipython3",
   "version": "3.8.8"
  }
 },
 "nbformat": 4,
 "nbformat_minor": 5
}
