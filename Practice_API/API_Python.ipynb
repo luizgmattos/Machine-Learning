{
 "cells": [
  {
   "cell_type": "markdown",
   "id": "9a164940",
   "metadata": {},
   "source": [
    "## Guidelines\n",
    "\n",
    "This notebook will be a source of study to keep practice and enhance knowledge while working with API. \n",
    "\n",
    "\n",
    "The notebook will consist on a practice using json to perform it task. \n",
    "\n",
    "\n",
    "API used:\n",
    "https://docs.awesomeapi.com.br/api-de-moedas"
   ]
  },
  {
   "cell_type": "code",
   "execution_count": 2,
   "id": "63a91917",
   "metadata": {},
   "outputs": [
    {
     "name": "stdout",
     "output_type": "stream",
     "text": [
      "<Response [200]>\n"
     ]
    }
   ],
   "source": [
    "import requests\n",
    "import json\n",
    "\n",
    "cotacoes_api = requests.get('https://economia.awesomeapi.com.br/json/all')\n",
    "print(cotacoes_api)"
   ]
  },
  {
   "cell_type": "code",
   "execution_count": 3,
   "id": "289ebadf",
   "metadata": {},
   "outputs": [],
   "source": [
    "cotacoes = cotacoes_api.json()"
   ]
  },
  {
   "cell_type": "code",
   "execution_count": 4,
   "id": "b1f044f3",
   "metadata": {},
   "outputs": [
    {
     "name": "stdout",
     "output_type": "stream",
     "text": [
      "{'USD': {'code': 'USD', 'codein': 'BRL', 'name': 'Dólar Americano/Real Brasileiro', 'high': '5.3714', 'low': '5.2802', 'varBid': '0.0485', 'pctChange': '0.91', 'bid': '5.3649', 'ask': '5.3656', 'timestamp': '1666810101', 'create_date': '2022-10-26 15:48:21'}, 'USDT': {'code': 'USD', 'codein': 'BRLT', 'name': 'Dólar Americano/Real Brasileiro Turismo', 'high': '5.41', 'low': '5.3', 'varBid': '0.04', 'pctChange': '0.75', 'bid': '5.23', 'ask': '5.55', 'timestamp': '1666809840', 'create_date': '2022-10-26 15:44:00'}, 'CAD': {'code': 'CAD', 'codein': 'BRL', 'name': 'Dólar Canadense/Real Brasileiro', 'high': '3.9637', 'low': '3.8981', 'varBid': '0.0518', 'pctChange': '1.32', 'bid': '3.9571', 'ask': '3.9596', 'timestamp': '1666810102', 'create_date': '2022-10-26 15:48:22'}, 'GBP': {'code': 'GBP', 'codein': 'BRL', 'name': 'Libra Esterlina/Real Brasileiro', 'high': '6.2475', 'low': '6.078', 'varBid': '0.1429', 'pctChange': '2.34', 'bid': '6.2381', 'ask': '6.2415', 'timestamp': '1666810099', 'create_date': '2022-10-26 15:48:19'}, 'ARS': {'code': 'ARS', 'codein': 'BRL', 'name': 'Peso Argentino/Real Brasileiro', 'high': '0.0346', 'low': '0.034', 'varBid': '0.0002', 'pctChange': '0.58', 'bid': '0.0345', 'ask': '0.0345', 'timestamp': '1666810099', 'create_date': '2022-10-26 15:48:19'}, 'BTC': {'code': 'BTC', 'codein': 'BRL', 'name': 'Bitcoin/Real Brasileiro', 'high': '111.077', 'low': '105.265', 'varBid': '3566', 'pctChange': '3.33', 'bid': '110.708', 'ask': '110.781', 'timestamp': '1666810104', 'create_date': '2022-10-26 15:48:24'}, 'LTC': {'code': 'LTC', 'codein': 'BRL', 'name': 'Litecoin/Real Brasileiro', 'high': '302', 'low': '293.02', 'varBid': '3.42', 'pctChange': '1.16', 'bid': '298.32', 'ask': '299.31', 'timestamp': '1666810098', 'create_date': '2022-10-26 15:48:18'}, 'EUR': {'code': 'EUR', 'codein': 'BRL', 'name': 'Euro/Real Brasileiro', 'high': '5.418', 'low': '5.2869', 'varBid': '0.1136', 'pctChange': '2.14', 'bid': '5.4098', 'ask': '5.413', 'timestamp': '1666810099', 'create_date': '2022-10-26 15:48:19'}, 'JPY': {'code': 'JPY', 'codein': 'BRL', 'name': 'Iene Japonês/Real Brasileiro', 'high': '0.03672', 'low': '0.03583', 'varBid': '0.0008', 'pctChange': '2.23', 'bid': '0.03668', 'ask': '0.0367', 'timestamp': '1666810103', 'create_date': '2022-10-26 15:48:23'}, 'CHF': {'code': 'CHF', 'codein': 'BRL', 'name': 'Franco Suíço/Real Brasileiro', 'high': '5.4496', 'low': '5.3358', 'varBid': '0.0992', 'pctChange': '1.86', 'bid': '5.4411', 'ask': '5.4423', 'timestamp': '1666810101', 'create_date': '2022-10-26 15:48:21'}, 'AUD': {'code': 'AUD', 'codein': 'BRL', 'name': 'Dólar Australiano/Real Brasileiro', 'high': '3.4885', 'low': '3.3881', 'varBid': '0.0844', 'pctChange': '2.48', 'bid': '3.4831', 'ask': '3.485', 'timestamp': '1666810103', 'create_date': '2022-10-26 15:48:23'}, 'CNY': {'code': 'CNY', 'codein': 'BRL', 'name': 'Yuan Chinês/Real Brasileiro', 'high': '0.7488', 'low': '0.7278', 'varBid': '0.0198', 'pctChange': '2.72', 'bid': '0.748', 'ask': '0.7481', 'timestamp': '1666810085', 'create_date': '2022-10-26 15:48:05'}, 'ILS': {'code': 'ILS', 'codein': 'BRL', 'name': 'Novo Shekel Israelense/Real Brasileiro', 'high': '1.5377', 'low': '1.5051', 'varBid': '0.0248', 'pctChange': '1.64', 'bid': '1.5359', 'ask': '1.5362', 'timestamp': '1666810087', 'create_date': '2022-10-26 15:48:07'}, 'ETH': {'code': 'ETH', 'codein': 'BRL', 'name': 'Ethereum/Real Brasileiro', 'high': '8.4', 'low': '7.625', 'varBid': '434.67', 'pctChange': '5.5', 'bid': '8.33121', 'ask': '8.33167', 'timestamp': '1666810095', 'create_date': '2022-10-26 15:48:15'}, 'XRP': {'code': 'XRP', 'codein': 'BRL', 'name': 'XRP/Real Brasileiro', 'high': '2.49', 'low': '2.41', 'varBid': '0.01', 'pctChange': '0.33', 'bid': '2.48', 'ask': '2.49', 'timestamp': '1666810103', 'create_date': '2022-10-26 15:48:23'}, 'DOGE': {'code': 'DOGE', 'codein': 'BRL', 'name': 'Dogecoin/Real Brasileiro', 'high': '0.375637', 'low': '0.331313', 'varBid': '0.034583', 'pctChange': '10.18', 'bid': '0.374156', 'ask': '0.374156', 'timestamp': '1666810090', 'create_date': '2022-10-26 15:48:10'}}\n"
     ]
    }
   ],
   "source": [
    "print(cotacoes)"
   ]
  },
  {
   "cell_type": "code",
   "execution_count": null,
   "id": "43467dab",
   "metadata": {},
   "outputs": [],
   "source": []
  }
 ],
 "metadata": {
  "kernelspec": {
   "display_name": "Python 3",
   "language": "python",
   "name": "python3"
  },
  "language_info": {
   "codemirror_mode": {
    "name": "ipython",
    "version": 3
   },
   "file_extension": ".py",
   "mimetype": "text/x-python",
   "name": "python",
   "nbconvert_exporter": "python",
   "pygments_lexer": "ipython3",
   "version": "3.8.8"
  }
 },
 "nbformat": 4,
 "nbformat_minor": 5
}
