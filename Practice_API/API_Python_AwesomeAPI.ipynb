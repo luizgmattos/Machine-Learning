{
 "cells": [
  {
   "cell_type": "markdown",
   "id": "3e3e8047",
   "metadata": {},
   "source": [
    "## Guidelines\n",
    "\n",
    "This notebook will be a source of study to keep practice and enhance knowledge while working with API. \n",
    "\n",
    "\n",
    "The notebook will consist on a practice using json to perform it task. \n",
    "\n",
    "\n",
    "API used:\n",
    "https://docs.awesomeapi.com.br/api-de-moedas"
   ]
  },
  {
   "cell_type": "code",
   "execution_count": 1,
   "id": "b47fb489",
   "metadata": {},
   "outputs": [
    {
     "name": "stdout",
     "output_type": "stream",
     "text": [
      "<Response [200]>\n"
     ]
    }
   ],
   "source": [
    "import requests\n",
    "import json\n",
    "\n",
    "cotacoes_api = requests.get('https://economia.awesomeapi.com.br/json/all')\n",
    "print(cotacoes_api)"
   ]
  },
  {
   "cell_type": "code",
   "execution_count": 2,
   "id": "36ad11b7",
   "metadata": {},
   "outputs": [],
   "source": [
    "cotacoes = cotacoes_api.json()"
   ]
  },
  {
   "cell_type": "code",
   "execution_count": 3,
   "id": "2384cf0b",
   "metadata": {},
   "outputs": [
    {
     "data": {
      "text/plain": [
       "{'USD': {'code': 'USD',\n",
       "  'codein': 'BRL',\n",
       "  'name': 'Dólar Americano/Real Brasileiro',\n",
       "  'high': '5.3923',\n",
       "  'low': '5.2786',\n",
       "  'varBid': '-0.0964',\n",
       "  'pctChange': '-1.79',\n",
       "  'bid': '5.2835',\n",
       "  'ask': '5.2845',\n",
       "  'timestamp': '1666891243',\n",
       "  'create_date': '2022-10-27 14:20:43'},\n",
       " 'USDT': {'code': 'USD',\n",
       "  'codein': 'BRLT',\n",
       "  'name': 'Dólar Americano/Real Brasileiro Turismo',\n",
       "  'high': '5.41',\n",
       "  'low': '5.31',\n",
       "  'varBid': '-0.09',\n",
       "  'pctChange': '-1.67',\n",
       "  'bid': '5.15',\n",
       "  'ask': '5.47',\n",
       "  'timestamp': '1666890780',\n",
       "  'create_date': '2022-10-27 14:13:00'},\n",
       " 'CAD': {'code': 'CAD',\n",
       "  'codein': 'BRL',\n",
       "  'name': 'Dólar Canadense/Real Brasileiro',\n",
       "  'high': '3.9776',\n",
       "  'low': '3.9023',\n",
       "  'varBid': '-0.0606',\n",
       "  'pctChange': '-1.53',\n",
       "  'bid': '3.9079',\n",
       "  'ask': '3.9089',\n",
       "  'timestamp': '1666891243',\n",
       "  'create_date': '2022-10-27 14:20:43'},\n",
       " 'GBP': {'code': 'GBP',\n",
       "  'codein': 'BRL',\n",
       "  'name': 'Libra Esterlina/Real Brasileiro',\n",
       "  'high': '6.2716',\n",
       "  'low': '6.1142',\n",
       "  'varBid': '-0.1278',\n",
       "  'pctChange': '-2.04',\n",
       "  'bid': '6.126',\n",
       "  'ask': '6.13',\n",
       "  'timestamp': '1666891242',\n",
       "  'create_date': '2022-10-27 14:20:42'},\n",
       " 'ARS': {'code': 'ARS',\n",
       "  'codein': 'BRL',\n",
       "  'name': 'Peso Argentino/Real Brasileiro',\n",
       "  'high': '0.0347',\n",
       "  'low': '0.0339',\n",
       "  'varBid': '-0.0007',\n",
       "  'pctChange': '-2.02',\n",
       "  'bid': '0.0339',\n",
       "  'ask': '0.0339',\n",
       "  'timestamp': '1666891242',\n",
       "  'create_date': '2022-10-27 14:20:42'},\n",
       " 'BTC': {'code': 'BTC',\n",
       "  'codein': 'BRL',\n",
       "  'name': 'Bitcoin/Real Brasileiro',\n",
       "  'high': '111.398',\n",
       "  'low': '108',\n",
       "  'varBid': '-1377',\n",
       "  'pctChange': '-1.25',\n",
       "  'bid': '108.696',\n",
       "  'ask': '108.948',\n",
       "  'timestamp': '1666891253',\n",
       "  'create_date': '2022-10-27 14:20:53'},\n",
       " 'LTC': {'code': 'LTC',\n",
       "  'codein': 'BRL',\n",
       "  'name': 'Litecoin/Real Brasileiro',\n",
       "  'high': '302.27',\n",
       "  'low': '290.57',\n",
       "  'varBid': '-5.47',\n",
       "  'pctChange': '-1.83',\n",
       "  'bid': '292.43',\n",
       "  'ask': '294.18',\n",
       "  'timestamp': '1666891254',\n",
       "  'create_date': '2022-10-27 14:20:54'},\n",
       " 'EUR': {'code': 'EUR',\n",
       "  'codein': 'BRL',\n",
       "  'name': 'Euro/Real Brasileiro',\n",
       "  'high': '5.4359',\n",
       "  'low': '5.2715',\n",
       "  'varBid': '-0.141',\n",
       "  'pctChange': '-2.6',\n",
       "  'bid': '5.2793',\n",
       "  'ask': '5.2824',\n",
       "  'timestamp': '1666891243',\n",
       "  'create_date': '2022-10-27 14:20:43'},\n",
       " 'JPY': {'code': 'JPY',\n",
       "  'codein': 'BRL',\n",
       "  'name': 'Iene Japonês/Real Brasileiro',\n",
       "  'high': '0.0371',\n",
       "  'low': '0.03618',\n",
       "  'varBid': '-0.0006',\n",
       "  'pctChange': '-1.63',\n",
       "  'bid': '0.03619',\n",
       "  'ask': '0.03621',\n",
       "  'timestamp': '1666891245',\n",
       "  'create_date': '2022-10-27 14:20:45'},\n",
       " 'CHF': {'code': 'CHF',\n",
       "  'codein': 'BRL',\n",
       "  'name': 'Franco Suíço/Real Brasileiro',\n",
       "  'high': '5.4717',\n",
       "  'low': '5.3358',\n",
       "  'varBid': '-0.111',\n",
       "  'pctChange': '-2.04',\n",
       "  'bid': '5.3395',\n",
       "  'ask': '5.3422',\n",
       "  'timestamp': '1666891242',\n",
       "  'create_date': '2022-10-27 14:20:42'},\n",
       " 'AUD': {'code': 'AUD',\n",
       "  'codein': 'BRL',\n",
       "  'name': 'Dólar Australiano/Real Brasileiro',\n",
       "  'high': '3.5126',\n",
       "  'low': '3.4207',\n",
       "  'varBid': '-0.0673',\n",
       "  'pctChange': '-1.93',\n",
       "  'bid': '3.4274',\n",
       "  'ask': '3.4291',\n",
       "  'timestamp': '1666891243',\n",
       "  'create_date': '2022-10-27 14:20:43'},\n",
       " 'CNY': {'code': 'CNY',\n",
       "  'codein': 'BRL',\n",
       "  'name': 'Yuan Chinês/Real Brasileiro',\n",
       "  'high': '0.751',\n",
       "  'low': '0.7303',\n",
       "  'varBid': '-0.015',\n",
       "  'pctChange': '-2.01',\n",
       "  'bid': '0.7308',\n",
       "  'ask': '0.7312',\n",
       "  'timestamp': '1666891205',\n",
       "  'create_date': '2022-10-27 14:20:05'},\n",
       " 'ILS': {'code': 'ILS',\n",
       "  'codein': 'BRL',\n",
       "  'name': 'Novo Shekel Israelense/Real Brasileiro',\n",
       "  'high': '1.5451',\n",
       "  'low': '1.5054',\n",
       "  'varBid': '-0.0259',\n",
       "  'pctChange': '-1.69',\n",
       "  'bid': '1.5056',\n",
       "  'ask': '1.5065',\n",
       "  'timestamp': '1666891207',\n",
       "  'create_date': '2022-10-27 14:20:07'},\n",
       " 'ETH': {'code': 'ETH',\n",
       "  'codein': 'BRL',\n",
       "  'name': 'Ethereum/Real Brasileiro',\n",
       "  'high': '8.43699',\n",
       "  'low': '8.11218',\n",
       "  'varBid': '-29.36',\n",
       "  'pctChange': '-0.36',\n",
       "  'bid': '8.20778',\n",
       "  'ask': '8.22596',\n",
       "  'timestamp': '1666891253',\n",
       "  'create_date': '2022-10-27 14:20:53'},\n",
       " 'XRP': {'code': 'XRP',\n",
       "  'codein': 'BRL',\n",
       "  'name': 'XRP/Real Brasileiro',\n",
       "  'high': '2.58',\n",
       "  'low': '2.45',\n",
       "  'varBid': '-0.01',\n",
       "  'pctChange': '-0.2',\n",
       "  'bid': '2.46',\n",
       "  'ask': '2.47',\n",
       "  'timestamp': '1666891245',\n",
       "  'create_date': '2022-10-27 14:20:45'},\n",
       " 'DOGE': {'code': 'DOGE',\n",
       "  'codein': 'BRL',\n",
       "  'name': 'Dogecoin/Real Brasileiro',\n",
       "  'high': '0.431987',\n",
       "  'low': '0.368307',\n",
       "  'varBid': '0.046138',\n",
       "  'pctChange': '12.77',\n",
       "  'bid': '0.407562',\n",
       "  'ask': '0.407562',\n",
       "  'timestamp': '1666890890',\n",
       "  'create_date': '2022-10-27 14:14:50'}}"
      ]
     },
     "execution_count": 3,
     "metadata": {},
     "output_type": "execute_result"
    }
   ],
   "source": [
    "cotacoes"
   ]
  },
  {
   "cell_type": "code",
   "execution_count": 4,
   "id": "79a18d64",
   "metadata": {},
   "outputs": [
    {
     "data": {
      "text/plain": [
       "'Dolar: 5.2835'"
      ]
     },
     "execution_count": 4,
     "metadata": {},
     "output_type": "execute_result"
    }
   ],
   "source": [
    "dolar = ('Dolar: {}'.format(cotacoes['USD']['bid']))\n",
    "dolar"
   ]
  },
  {
   "cell_type": "code",
   "execution_count": 5,
   "id": "f16b4784",
   "metadata": {},
   "outputs": [
    {
     "data": {
      "text/plain": [
       "'Euro: 5.2793'"
      ]
     },
     "execution_count": 5,
     "metadata": {},
     "output_type": "execute_result"
    }
   ],
   "source": [
    "euro = ('Euro: {}'.format(cotacoes['EUR']['bid']))\n",
    "euro"
   ]
  },
  {
   "cell_type": "code",
   "execution_count": 6,
   "id": "606520c1",
   "metadata": {},
   "outputs": [
    {
     "data": {
      "text/plain": [
       "'Bitcoin: 108.696'"
      ]
     },
     "execution_count": 6,
     "metadata": {},
     "output_type": "execute_result"
    }
   ],
   "source": [
    "btc = ('Bitcoin: {}'.format(cotacoes['BTC']['bid']))\n",
    "btc"
   ]
  },
  {
   "cell_type": "code",
   "execution_count": 7,
   "id": "28196364",
   "metadata": {},
   "outputs": [
    {
     "data": {
      "text/plain": [
       "'Cad: 3.9079'"
      ]
     },
     "execution_count": 7,
     "metadata": {},
     "output_type": "execute_result"
    }
   ],
   "source": [
    "cad = ('Cad: {}'.format(cotacoes['CAD']['bid']))\n",
    "cad"
   ]
  },
  {
   "cell_type": "code",
   "execution_count": 8,
   "id": "58adfb4c",
   "metadata": {},
   "outputs": [],
   "source": [
    "cotacoes_cad = requests.get('https://economia.awesomeapi.com.br/json/daily/CAD-BRL/30')\n",
    "cotacoes_cad_dic = cotacoes_cad.json()"
   ]
  },
  {
   "cell_type": "code",
   "execution_count": 9,
   "id": "e929a3c8",
   "metadata": {},
   "outputs": [
    {
     "data": {
      "text/plain": [
       "[{'code': 'CAD',\n",
       "  'codein': 'BRL',\n",
       "  'name': 'Dólar Canadense/Real Brasileiro',\n",
       "  'high': '3.9776',\n",
       "  'low': '3.9023',\n",
       "  'varBid': '-0.0597',\n",
       "  'pctChange': '-1.5',\n",
       "  'bid': '3.9088',\n",
       "  'ask': '3.9098',\n",
       "  'timestamp': '1666891194',\n",
       "  'create_date': '2022-10-27 14:19:54'},\n",
       " {'high': '3.9748',\n",
       "  'low': '3.9694',\n",
       "  'varBid': '0.0051',\n",
       "  'pctChange': '0.13',\n",
       "  'bid': '3.9735',\n",
       "  'ask': '3.9746',\n",
       "  'timestamp': '1666828779'},\n",
       " {'high': '3.9098',\n",
       "  'low': '3.9007',\n",
       "  'varBid': '-0.0027',\n",
       "  'pctChange': '-0.07',\n",
       "  'bid': '3.9032',\n",
       "  'ask': '3.9045',\n",
       "  'timestamp': '1666742381'},\n",
       " {'high': '3.8775',\n",
       "  'low': '3.8693',\n",
       "  'varBid': '0.0049',\n",
       "  'pctChange': '0.13',\n",
       "  'bid': '3.8734',\n",
       "  'ask': '3.8753',\n",
       "  'timestamp': '1666655994'},\n",
       " {'high': '3.7959',\n",
       "  'low': '3.7792',\n",
       "  'varBid': '0.001',\n",
       "  'pctChange': '0.03',\n",
       "  'bid': '3.7845',\n",
       "  'ask': '3.7865',\n",
       "  'timestamp': '1666569553'},\n",
       " {'high': '3.8105',\n",
       "  'low': '3.7699',\n",
       "  'varBid': '-0.0039',\n",
       "  'pctChange': '-0.1',\n",
       "  'bid': '3.7831',\n",
       "  'ask': '3.7847',\n",
       "  'timestamp': '1666385998'},\n",
       " {'high': '3.8105',\n",
       "  'low': '3.7699',\n",
       "  'varBid': '-0.0039',\n",
       "  'pctChange': '-0.1',\n",
       "  'bid': '3.7831',\n",
       "  'ask': '3.7847',\n",
       "  'timestamp': '1666385998'},\n",
       " {'high': '3.791',\n",
       "  'low': '3.7847',\n",
       "  'varBid': '-0.0006',\n",
       "  'pctChange': '-0.02',\n",
       "  'bid': '3.7864',\n",
       "  'ask': '3.788',\n",
       "  'timestamp': '1666310337'},\n",
       " {'high': '3.8308',\n",
       "  'low': '3.8259',\n",
       "  'varBid': '-0.0012',\n",
       "  'pctChange': '-0.03',\n",
       "  'bid': '3.826',\n",
       "  'ask': '3.827',\n",
       "  'timestamp': '1666223981'},\n",
       " {'high': '3.8205',\n",
       "  'low': '3.8133',\n",
       "  'varBid': '0.0052',\n",
       "  'pctChange': '0.14',\n",
       "  'bid': '3.8173',\n",
       "  'ask': '3.8189',\n",
       "  'timestamp': '1666137576'},\n",
       " {'high': '3.8533',\n",
       "  'low': '3.8488',\n",
       "  'varBid': '0.0004',\n",
       "  'pctChange': '0.01',\n",
       "  'bid': '3.8504',\n",
       "  'ask': '3.8517',\n",
       "  'timestamp': '1666051175'},\n",
       " {'high': '3.8472',\n",
       "  'low': '3.8391',\n",
       "  'varBid': '0.0086',\n",
       "  'pctChange': '0.23',\n",
       "  'bid': '3.8453',\n",
       "  'ask': '3.847',\n",
       "  'timestamp': '1665964735'},\n",
       " {'high': '3.8405',\n",
       "  'low': '3.8035',\n",
       "  'varBid': '0.0121',\n",
       "  'pctChange': '0.32',\n",
       "  'bid': '3.8367',\n",
       "  'ask': '3.84',\n",
       "  'timestamp': '1665781194'},\n",
       " {'high': '3.8405',\n",
       "  'low': '3.8035',\n",
       "  'varBid': '0.011',\n",
       "  'pctChange': '0.29',\n",
       "  'bid': '3.8359',\n",
       "  'ask': '3.8385',\n",
       "  'timestamp': '1665781165'},\n",
       " {'high': '3.828',\n",
       "  'low': '3.8226',\n",
       "  'varBid': '-0.0036',\n",
       "  'pctChange': '-0.1',\n",
       "  'bid': '3.8216',\n",
       "  'ask': '3.8235',\n",
       "  'timestamp': '1665705554'},\n",
       " {'high': '3.8325',\n",
       "  'low': '3.8294',\n",
       "  'varBid': '0.0001',\n",
       "  'pctChange': '0',\n",
       "  'bid': '3.8302',\n",
       "  'ask': '3.8309',\n",
       "  'timestamp': '1665619185'},\n",
       " {'high': '3.8443',\n",
       "  'low': '3.8352',\n",
       "  'varBid': '-0.0033',\n",
       "  'pctChange': '-0.09',\n",
       "  'bid': '3.8371',\n",
       "  'ask': '3.8381',\n",
       "  'timestamp': '1665532772'},\n",
       " {'high': '3.7683',\n",
       "  'low': '3.7645',\n",
       "  'varBid': '0.0008',\n",
       "  'pctChange': '0.02',\n",
       "  'bid': '3.766',\n",
       "  'ask': '3.7677',\n",
       "  'timestamp': '1665446380'},\n",
       " {'high': '3.7882',\n",
       "  'low': '3.7806',\n",
       "  'varBid': '0.0026',\n",
       "  'pctChange': '0.07',\n",
       "  'bid': '3.7862',\n",
       "  'ask': '3.7869',\n",
       "  'timestamp': '1665359986'},\n",
       " {'high': '3.8202',\n",
       "  'low': '3.7868',\n",
       "  'varBid': '-0.0092',\n",
       "  'pctChange': '-0.24',\n",
       "  'bid': '3.7868',\n",
       "  'ask': '3.7899',\n",
       "  'timestamp': '1665176393'},\n",
       " {'high': '3.8202',\n",
       "  'low': '3.7868',\n",
       "  'varBid': '-0.0073',\n",
       "  'pctChange': '-0.19',\n",
       "  'bid': '3.7893',\n",
       "  'ask': '3.7911',\n",
       "  'timestamp': '1665176358'},\n",
       " {'high': '3.8008',\n",
       "  'low': '3.7973',\n",
       "  'varBid': '0.0024',\n",
       "  'pctChange': '0.06',\n",
       "  'bid': '3.7995',\n",
       "  'ask': '3.8003',\n",
       "  'timestamp': '1665100742'},\n",
       " {'high': '3.8215',\n",
       "  'low': '3.8149',\n",
       "  'varBid': '0.0064',\n",
       "  'pctChange': '0.17',\n",
       "  'bid': '3.8204',\n",
       "  'ask': '3.8222',\n",
       "  'timestamp': '1665014349'},\n",
       " {'high': '3.8339',\n",
       "  'low': '3.827',\n",
       "  'varBid': '0.0026',\n",
       "  'pctChange': '0.07',\n",
       "  'bid': '3.8327',\n",
       "  'ask': '3.8337',\n",
       "  'timestamp': '1664927926'},\n",
       " {'high': '3.7925',\n",
       "  'low': '3.7857',\n",
       "  'varBid': '-0.0017',\n",
       "  'pctChange': '-0.05',\n",
       "  'bid': '3.7891',\n",
       "  'ask': '3.7908',\n",
       "  'timestamp': '1664841563'},\n",
       " {'high': '3.9306',\n",
       "  'low': '3.9157',\n",
       "  'varBid': '0.0127',\n",
       "  'pctChange': '0.33',\n",
       "  'bid': '3.9276',\n",
       "  'ask': '3.9293',\n",
       "  'timestamp': '1664755173'},\n",
       " {'high': '3.9525',\n",
       "  'low': '3.8636',\n",
       "  'varBid': '-0.0367',\n",
       "  'pctChange': '-0.93',\n",
       "  'bid': '3.9103',\n",
       "  'ask': '3.9117',\n",
       "  'timestamp': '1664571549'},\n",
       " {'high': '3.9498',\n",
       "  'low': '3.9445',\n",
       "  'varBid': '-0.0008',\n",
       "  'pctChange': '-0.02',\n",
       "  'bid': '3.946',\n",
       "  'ask': '3.9479',\n",
       "  'timestamp': '1664495995'},\n",
       " {'high': '3.9516',\n",
       "  'low': '3.9441',\n",
       "  'varBid': '-0.0044',\n",
       "  'pctChange': '-0.11',\n",
       "  'bid': '3.9445',\n",
       "  'ask': '3.9452',\n",
       "  'timestamp': '1664409547'},\n",
       " {'high': '3.922',\n",
       "  'low': '3.9167',\n",
       "  'varBid': '-0.0005',\n",
       "  'pctChange': '-0.01',\n",
       "  'bid': '3.9198',\n",
       "  'ask': '3.9207',\n",
       "  'timestamp': '1664323142'}]"
      ]
     },
     "execution_count": 9,
     "metadata": {},
     "output_type": "execute_result"
    }
   ],
   "source": [
    "cotacoes_cad_dic"
   ]
  },
  {
   "cell_type": "code",
   "execution_count": 10,
   "id": "4e6d3abe",
   "metadata": {},
   "outputs": [
    {
     "data": {
      "text/plain": [
       "{'code': 'CAD',\n",
       " 'codein': 'BRL',\n",
       " 'name': 'Dólar Canadense/Real Brasileiro',\n",
       " 'high': '3.9776',\n",
       " 'low': '3.9023',\n",
       " 'varBid': '-0.0597',\n",
       " 'pctChange': '-1.5',\n",
       " 'bid': '3.9088',\n",
       " 'ask': '3.9098',\n",
       " 'timestamp': '1666891194',\n",
       " 'create_date': '2022-10-27 14:19:54'}"
      ]
     },
     "execution_count": 10,
     "metadata": {},
     "output_type": "execute_result"
    }
   ],
   "source": [
    "cotacoes_cad_dic[0]"
   ]
  },
  {
   "cell_type": "code",
   "execution_count": 11,
   "id": "f1baa11e",
   "metadata": {},
   "outputs": [
    {
     "data": {
      "text/plain": [
       "['3.9088',\n",
       " '3.9735',\n",
       " '3.9032',\n",
       " '3.8734',\n",
       " '3.7845',\n",
       " '3.7831',\n",
       " '3.7831',\n",
       " '3.7864',\n",
       " '3.826',\n",
       " '3.8173',\n",
       " '3.8504',\n",
       " '3.8453',\n",
       " '3.8367',\n",
       " '3.8359',\n",
       " '3.8216',\n",
       " '3.8302',\n",
       " '3.8371',\n",
       " '3.766',\n",
       " '3.7862',\n",
       " '3.7868',\n",
       " '3.7893',\n",
       " '3.7995',\n",
       " '3.8204',\n",
       " '3.8327',\n",
       " '3.7891',\n",
       " '3.9276',\n",
       " '3.9103',\n",
       " '3.946',\n",
       " '3.9445',\n",
       " '3.9198']"
      ]
     },
     "execution_count": 11,
     "metadata": {},
     "output_type": "execute_result"
    }
   ],
   "source": [
    "# creating a list to verifying the bid for the past 30 days.\n",
    "list_bid_cad = [x['bid'] for x in cotacoes_cad_dic]\n",
    "list_bid_cad"
   ]
  },
  {
   "cell_type": "code",
   "execution_count": 12,
   "id": "a383299a",
   "metadata": {
    "scrolled": false
   },
   "outputs": [
    {
     "data": {
      "text/plain": [
       "[3.9088,\n",
       " 3.9735,\n",
       " 3.9032,\n",
       " 3.8734,\n",
       " 3.7845,\n",
       " 3.7831,\n",
       " 3.7831,\n",
       " 3.7864,\n",
       " 3.826,\n",
       " 3.8173,\n",
       " 3.8504,\n",
       " 3.8453,\n",
       " 3.8367,\n",
       " 3.8359,\n",
       " 3.8216,\n",
       " 3.8302,\n",
       " 3.8371,\n",
       " 3.766,\n",
       " 3.7862,\n",
       " 3.7868,\n",
       " 3.7893,\n",
       " 3.7995,\n",
       " 3.8204,\n",
       " 3.8327,\n",
       " 3.7891,\n",
       " 3.9276,\n",
       " 3.9103,\n",
       " 3.946,\n",
       " 3.9445,\n",
       " 3.9198]"
      ]
     },
     "execution_count": 12,
     "metadata": {},
     "output_type": "execute_result"
    }
   ],
   "source": [
    "# Converting the list (text) to float values\n",
    "list_bid_cad = [float(x['bid']) for x in cotacoes_cad_dic]\n",
    "list_bid_cad"
   ]
  },
  {
   "cell_type": "code",
   "execution_count": 27,
   "id": "02e97159",
   "metadata": {
    "scrolled": false
   },
   "outputs": [],
   "source": [
    "import matplotlib.pyplot as plt\n",
    "\n",
    "cotacoes_cad_mes = requests.get('https://economia.awesomeapi.com.br/CAD-BRL/90?start_date=20220801&end_date=20221031')\n",
    "cotacoes_cad_mes_dic = cotacoes_cad_mes.json()"
   ]
  },
  {
   "cell_type": "code",
   "execution_count": 28,
   "id": "b2e897bf",
   "metadata": {},
   "outputs": [
    {
     "name": "stdout",
     "output_type": "stream",
     "text": [
      "[3.908, 3.9079, 3.9072, 3.907, 3.9071, 3.9088, 3.9081, 3.9078, 3.9088, 3.9086, 3.9072, 3.9076, 3.9057, 3.9061, 3.9066, 3.9049, 3.9053, 3.9066, 3.9107, 3.9091, 3.9093, 3.9112, 3.9102, 3.91, 3.9104, 3.9111, 3.9113, 3.9106, 3.9113, 3.9112, 3.9095, 3.9094, 3.9093, 3.9059, 3.9055, 3.9073, 3.9075, 3.9072, 3.9066, 3.9071, 3.9066, 3.9085, 3.9077, 3.9077, 3.9064, 3.9076, 3.908, 3.9057, 3.9047, 3.9048, 3.9043, 3.9045, 3.9056, 3.9064, 3.9059, 3.9053, 3.9054, 3.9062, 3.9058, 3.9068, 3.9062, 3.9057, 3.9059, 3.9072, 3.9066, 3.9069, 3.9063, 3.9067, 3.9061, 3.9067, 3.9047, 3.9055, 3.9051, 3.9061, 3.9039, 3.9039, 3.9029, 3.9051, 3.9046, 3.9054, 3.908, 3.9073, 3.9074, 3.9075, 3.9103, 3.9098, 3.9106, 3.91, 3.9104, 3.9104]\n",
      "90\n"
     ]
    }
   ],
   "source": [
    "list_cadmes_dic = [float(x['bid']) for x in cotacoes_cad_mes_dic]\n",
    "print(list_cadmes_dic)\n",
    "print(len(list_cadmes_dic))"
   ]
  },
  {
   "cell_type": "code",
   "execution_count": 25,
   "id": "80af76c8",
   "metadata": {},
   "outputs": [
    {
     "name": "stdout",
     "output_type": "stream",
     "text": [
      "[108.946, 108.918, 108.964, 108.762, 108.705, 108.623, 108.612, 108.597, 108.597, 108.597, 108.597, 108.597, 108.597, 108.597, 108.597, 108.597, 108.597, 108.419, 108.591, 108.663, 108.663, 108.666, 108.669, 108.677, 108.629, 108.923, 108.923, 108.923, 108.923, 108.948, 108.992, 108.983, 108.956, 108.934, 108.95, 109.002, 109.021, 109.098, 109.077, 109.008, 109.075, 109.056, 109.032, 109.018, 109.003, 109.038, 109.017, 109.073, 109.067, 109.057, 109.074, 109.054, 109.027, 108.962, 108.942, 108.922, 109.03, 108.819, 108.796, 108.742, 108.83, 108.958, 108.94, 109.0, 109.0, 109.02, 109.019, 109.15, 109.15, 109.15, 109.15, 109.252, 109.273, 109.25, 108.66, 108.638, 108.627, 108.613, 108.699, 108.5, 108.9, 109.0, 109.09, 109.09, 109.2, 109.327, 109.394, 109.498, 109.497, 109.477]\n",
      "90\n"
     ]
    }
   ],
   "source": [
    "cotacoes_btc = requests.get('https://economia.awesomeapi.com.br/BTC-BRL/90?start_date=20220801&end_date=20221031')\n",
    "cotacoes_btc_dic = cotacoes_btc.json()\n",
    "\n",
    "lista_cotacoes_btc = [float(x['bid']) for x in cotacoes_btc_dic]\n",
    "print(lista_cotacoes_btc)\n",
    "print(len(lista_cotacoes_btc))"
   ]
  },
  {
   "cell_type": "code",
   "execution_count": 32,
   "id": "24244a9b",
   "metadata": {
    "scrolled": false
   },
   "outputs": [
    {
     "data": {
      "image/png": "[encoded data removed]",
      "text/plain": [
       "<Figure size 1080x720 with 1 Axes>"
      ]
     },
     "metadata": {
      "needs_background": "light"
     },
     "output_type": "display_data"
    }
   ],
   "source": [
    "import matplotlib.pyplot as plt\n",
    "\n",
    "list_cadmes_dic.reverse()\n",
    "plt.figure(figsize=(15,10))\n",
    "plt.plot(list_cadmes_dic)\n",
    "plt.show()"
   ]
  },
  {
   "cell_type": "code",
   "execution_count": 33,
   "id": "bc52a767",
   "metadata": {},
   "outputs": [
    {
     "data": {
      "image/png": "[encoded data removed]",
      "text/plain": [
       "<Figure size 1080x720 with 1 Axes>"
      ]
     },
     "metadata": {
      "needs_background": "light"
     },
     "output_type": "display_data"
    }
   ],
   "source": [
    "import matplotlib.pyplot as plt\n",
    "\n",
    "lista_cotacoes_btc.reverse()\n",
    "plt.figure(figsize=(15,10))\n",
    "plt.plot(lista_cotacoes_btc)\n",
    "plt.show()"
   ]
  },
  {
   "cell_type": "code",
   "execution_count": null,
   "id": "2d06fa5c",
   "metadata": {},
   "outputs": [],
   "source": []
  }
 ],
 "metadata": {
  "kernelspec": {
   "display_name": "Python 3",
   "language": "python",
   "name": "python3"
  },
  "language_info": {
   "codemirror_mode": {
    "name": "ipython",
    "version": 3
   },
   "file_extension": ".py",
   "mimetype": "text/x-python",
   "name": "python",
   "nbconvert_exporter": "python",
   "pygments_lexer": "ipython3",
   "version": "3.8.8"
  }
 },
 "nbformat": 4,
 "nbformat_minor": 5
}
